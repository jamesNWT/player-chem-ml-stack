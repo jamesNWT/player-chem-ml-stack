{
 "metadata": {
  "language_info": {
   "codemirror_mode": {
    "name": "ipython",
    "version": 3
   },
   "file_extension": ".py",
   "mimetype": "text/x-python",
   "name": "python",
   "nbconvert_exporter": "python",
   "pygments_lexer": "ipython3",
   "version": "3.7.10-final"
  },
  "orig_nbformat": 2,
  "kernelspec": {
   "name": "python3",
   "display_name": "Python 3.7.10 64-bit ('tf': conda)",
   "metadata": {
    "interpreter": {
     "hash": "42eea32459e97d1fc562e9b561f8a94575df71e230e4ccdec5d01957082d6a36"
    }
   }
  }
 },
 "nbformat": 4,
 "nbformat_minor": 2,
 "cells": [
  {
   "cell_type": "code",
   "execution_count": 1,
   "metadata": {},
   "outputs": [],
   "source": [
    "import pandas as pd\n",
    "from json_functions import create_df_big_output, create_example\n",
    "\n",
    "players_list, df = create_df_big_output('very-big.json')"
   ]
  },
  {
   "cell_type": "code",
   "execution_count": 2,
   "metadata": {},
   "outputs": [],
   "source": [
    "import numpy as np\n",
    "import tensorflow as tf"
   ]
  },
  {
   "cell_type": "code",
   "execution_count": 3,
   "metadata": {},
   "outputs": [
    {
     "output_type": "stream",
     "name": "stdout",
     "text": [
      "(17488, 1068)\n(17488, 1068)\n"
     ]
    }
   ],
   "source": [
    "features, outputs = df[\"rosters vector\"], df['rating vector']\n",
    "\n",
    "features = pd.DataFrame(features.values.tolist(), index= df.index)\n",
    "outputs = pd.DataFrame(outputs.values.tolist(), index= df.index)\n",
    "\n",
    "print(np.shape(features))\n",
    "print(np.shape(outputs))"
   ]
  },
  {
   "cell_type": "code",
   "execution_count": 4,
   "metadata": {},
   "outputs": [],
   "source": [
    "import tensorflow as tf\n",
    "from tensorflow import keras\n",
    "from tensorflow.keras.models import Sequential\n",
    "from tensorflow.keras.layers import Dense, Activation\n",
    "from tensorflow.keras.optimizers import Adam\n",
    "from tensorflow.keras.metrics import categorical_crossentropy"
   ]
  },
  {
   "cell_type": "code",
   "execution_count": 5,
   "metadata": {},
   "outputs": [
    {
     "output_type": "execute_result",
     "data": {
      "text/plain": [
       "[PhysicalDevice(name='/physical_device:GPU:0', device_type='GPU')]"
      ]
     },
     "metadata": {},
     "execution_count": 5
    }
   ],
   "source": [
    "tf.config.list_physical_devices('GPU')"
   ]
  },
  {
   "cell_type": "code",
   "execution_count": 160,
   "metadata": {},
   "outputs": [],
   "source": [
    "GLOBAL_BATCH_SIZE = 1093"
   ]
  },
  {
   "cell_type": "code",
   "execution_count": 161,
   "metadata": {},
   "outputs": [],
   "source": [
    "# create loss function that only takes into account values from the output dont have a true value of 0\n",
    "class Filtered_MAE(tf.keras.losses.Loss):\n",
    "\n",
    "    def call(self, y_true, y_pred):\n",
    "        # we can hardcode denominator as 10 since we know that there will always be 10 relevent values\n",
    "        # in this case I just multiply by 0.1 for simplicity\n",
    "        loss = my_loss(y_true, y_pred)\n",
    "        return tf.divide(loss, GLOBAL_BATCH_SIZE)"
   ]
  },
  {
   "cell_type": "code",
   "execution_count": 162,
   "metadata": {},
   "outputs": [],
   "source": [
    "def my_loss(y_true, y_pred):\n",
    "    \n",
    "    # This sigmoid is very close to a step function, if x = 0, then it will return nearly 0, and if x is a reasonable rating value,\n",
    "    # even something as low as 0.4, it will return (pretty much) 1. I will plug in y_true to this and then multiply the result by\n",
    "    # the error so that error on predictions where where y_true = 0 becomes tiny but where y_true is an actual rating stays \n",
    "    # pretty much the same\n",
    "    def my_step(x):\n",
    "        return tf.divide(1.0, tf.add(1.0, tf.exp(tf.multiply(-1000.0, tf.subtract(x, 0.02)))))\n",
    "    \n",
    "    # we can hardcode denominator as 10 since we know that there will always be 10 relevent values\n",
    "    # in this case I just multiply by 0.1 for simplicity  \n",
    "    return tf.multiply(0.1, tf.reduce_sum(tf.multiply(my_step(y_true), tf.abs(tf.subtract(y_pred, y_true)))))"
   ]
  },
  {
   "cell_type": "code",
   "execution_count": 168,
   "metadata": {},
   "outputs": [],
   "source": [
    "# get the model\n",
    "def get_model(n_inputs, n_outputs):\n",
    "\tmodel = Sequential()\n",
    "\tmodel.add(Dense(2000, input_dim=n_inputs, kernel_initializer='he_uniform', activation='relu'))\n",
    "\t# model.add(Dense(50, input_dim=n_inputs, kernel_initializer='he_uniform', activation='relu'))\n",
    "\tmodel.add(Dense(n_outputs))\n",
    "\tmy_loss = Filtered_MAE()\n",
    "\tmodel.compile(loss=my_loss, optimizer='adam')\n",
    "\treturn model"
   ]
  },
  {
   "cell_type": "code",
   "execution_count": 169,
   "metadata": {},
   "outputs": [],
   "source": [
    "n_inputs, n_outputs = features.shape[1], outputs.shape[1]"
   ]
  },
  {
   "cell_type": "code",
   "execution_count": 170,
   "metadata": {},
   "outputs": [],
   "source": [
    "model = get_model(n_inputs, n_outputs)"
   ]
  },
  {
   "cell_type": "code",
   "execution_count": 171,
   "metadata": {},
   "outputs": [],
   "source": [
    "from sklearn.model_selection import train_test_split\n",
    "X_train, X_test, y_train, y_test = train_test_split(features, outputs, test_size=0.2, random_state=42)"
   ]
  },
  {
   "cell_type": "code",
   "execution_count": 172,
   "metadata": {},
   "outputs": [
    {
     "output_type": "stream",
     "name": "stdout",
     "text": [
      "Epoch 1/10\n",
      "13/13 [==============================] - 1s 22ms/step - loss: 0.6939\n",
      "Epoch 2/10\n",
      "13/13 [==============================] - 0s 23ms/step - loss: 0.2774\n",
      "Epoch 3/10\n",
      "13/13 [==============================] - 0s 20ms/step - loss: 0.2376\n",
      "Epoch 4/10\n",
      "13/13 [==============================] - 0s 21ms/step - loss: 0.2232\n",
      "Epoch 5/10\n",
      "13/13 [==============================] - 0s 22ms/step - loss: 0.2139\n",
      "Epoch 6/10\n",
      "13/13 [==============================] - 0s 22ms/step - loss: 0.2065\n",
      "Epoch 7/10\n",
      "13/13 [==============================] - 0s 23ms/step - loss: 0.2022\n",
      "Epoch 8/10\n",
      "13/13 [==============================] - 0s 20ms/step - loss: 0.2000\n",
      "Epoch 9/10\n",
      "13/13 [==============================] - 0s 20ms/step - loss: 0.1962\n",
      "Epoch 10/10\n",
      "13/13 [==============================] - 0s 20ms/step - loss: 0.1957\n",
      "Evaluation on test set:\n",
      "4/4 [==============================] - 0s 10ms/step - loss: 0.2485\n"
     ]
    }
   ],
   "source": [
    "model.fit(X_train, y_train, verbose=1, epochs=100, batch_size=GLOBAL_BATCH_SIZE)\n",
    "print(\"Evaluation on test set:\")\n",
    "mae = model.evaluate(X_test, y_test, verbose=1, batch_size=GLOBAL_BATCH_SIZE)"
   ]
  },
  {
   "cell_type": "code",
   "execution_count": 14,
   "metadata": {},
   "outputs": [
    {
     "output_type": "execute_result",
     "data": {
      "text/plain": [
       "array([[0.8909991 , 0.6987118 , 0.4269492 , ..., 1.0185257 , 0.7517932 ,\n",
       "        0.65959996]], dtype=float32)"
      ]
     },
     "metadata": {},
     "execution_count": 14
    }
   ],
   "source": [
    "hypothetical = create_example(['EliGE', 'Stewie2K', 'Grim', 'FalleN', 'NAF'], ['device', 'Xyp9x', 'Magisk', 'dupreeh', 'gla1ve'], players_list)\n",
    "model.predict(np.asarray([hypothetical]))"
   ]
  },
  {
   "cell_type": "code",
   "execution_count": 15,
   "metadata": {},
   "outputs": [],
   "source": [
    "def print_prediction(example, players_list, model):\n",
    "    player_indices = [i for i, x in enumerate(example) if x == 1]\n",
    "    example_formatted = np.asarray([example])\n",
    "    pred = model.predict(example_formatted)\n",
    "\n",
    "    relevent_preds = np.zeros(10)\n",
    "\n",
    "    print(\"Team 1:\")\n",
    "    for i, player  in enumerate(player_indices):\n",
    "        if player >= len(players_list): player =player - len(players_list)\n",
    "        print(players_list[player]+': ', round(pred[0][player], 2))\n",
    "        relevent_preds[i] = round(pred[0][player], 2) \n",
    "        if i == 4:\n",
    "            print(\"Agregate Rating:\", round(np.sum(relevent_preds[0:5]), 2))\n",
    "            print(\"Team 2:\")\n",
    "        if i == 9:\n",
    "            print(\"Agregate Rating:\", round(np.sum(relevent_preds[5:10]), 2))\n"
   ]
  },
  {
   "cell_type": "code",
   "execution_count": 16,
   "metadata": {},
   "outputs": [
    {
     "output_type": "stream",
     "name": "stdout",
     "text": [
      "Team 1:\nEliGE:  0.71\nNAF:  0.9\nStewie2K:  0.51\nFalleN:  0.94\nGrim:  0.77\nAgregate Rating: 3.83\nTeam 2:\ndevice:  1.03\ndupreeh:  0.86\nXyp9x:  0.87\ngla1ve:  1.07\nMagisk:  1.06\nAgregate Rating: 4.89\n"
     ]
    }
   ],
   "source": [
    "print_prediction(hypothetical, players_list, model)"
   ]
  },
  {
   "cell_type": "code",
   "execution_count": 91,
   "metadata": {},
   "outputs": [],
   "source": [
    "def print_example_vs_pred(row, example_type='test'):\n",
    "    if example_type is 'test':\n",
    "        # Get an example from the test split\n",
    "        example = np.array(X_test.iloc[row])\n",
    "        truth = np.array(y_test.iloc[row])\n",
    "    elif example_type is 'train':\n",
    "        # Get an example from the trian split\n",
    "        example = np.array(X_train.iloc[row])\n",
    "        truth = np.array(y_train.iloc[row])\n",
    "    elif example_type is 'all':\n",
    "        # Get an example from the original dataframe\n",
    "        example = np.array(features.iloc[row])\n",
    "        truth = np.array(outputs.iloc[row]) \n",
    "    \n",
    "    players = np.where(example == 1.0)[0]\n",
    "\n",
    "    team1 = []\n",
    "    team2 = []\n",
    "    for i, player in enumerate(players):\n",
    "        if i < 5:\n",
    "            team1.append(players_list[player])\n",
    "        else:\n",
    "            team2.append(players_list[player-len(players_list)])\n",
    "    \n",
    "    example_for_pred = create_example(team1, team2, players_list)\n",
    "    pred = model.predict([example_for_pred])\n",
    "\n",
    "    data = []\n",
    "    for i, player  in enumerate(players):\n",
    "        \n",
    "        player_list_index = (player if player < len(players_list) \n",
    "                                   else player - len(players_list)\n",
    "                             )\n",
    "        data.append([players_list[player_list_index], round(pred[0][player], 2), truth[player]])\n",
    "\n",
    "    col_width = max(len(str(word)) for row in data for word in row) + 2  # padding\n",
    "    print(\"\".join(str(word).ljust(col_width) for word in ['Team 1', 'Pred', 'Truth']))\n",
    "    print('---------------------------')\n",
    "    for i, row in enumerate(data):\n",
    "        print(\"\".join(str(word).ljust(col_width) for word in row))\n",
    "        if i == 4:\n",
    "            print('---------------------------')               \n",
    "            print(\"\".join(str(word).ljust(col_width) for word in ['Team 2', 'Pred', 'Truth']))\n",
    "            print('---------------------------')   \n",
    "    print('---------------------------')\n",
    "    print(\"Loss: \", my_loss(np.array(truth, dtype='double'), np.array(pred, dtype='double')).numpy())\n"
   ]
  },
  {
   "cell_type": "code",
   "execution_count": 92,
   "metadata": {},
   "outputs": [
    {
     "output_type": "stream",
     "name": "stdout",
     "text": [
      "Team 1         Pred           Truth          \n---------------------------\nHEN1           1.07           1.61           \nyuurih         1.03           1.08           \nVINI           1.11           0.99           \nKSCERATO       1.06           1.22           \narT            1.08           0.91           \n---------------------------\nTeam 2         Pred           Truth          \n---------------------------\nAZR            0.98           0.76           \njks            1.01           0.98           \njkaem          0.99           0.86           \nGratisfaction  1.03           1.05           \nLiazz          1.04           1.06           \n---------------------------\nLoss:  0.1470878435798775\n"
     ]
    }
   ],
   "source": [
    "print_example_vs_pred(0, 'test')"
   ]
  },
  {
   "cell_type": "code",
   "execution_count": 93,
   "metadata": {},
   "outputs": [
    {
     "output_type": "stream",
     "name": "stdout",
     "text": [
      "Team 1   Pred     Truth    \n---------------------------\nFugLy    1.45     1.39     \nEthan    1.43     1.36     \nCeRq     1.38     1.36     \ndaps     1.02     1.0      \nBrehze   1.17     0.94     \n---------------------------\nTeam 2   Pred     Truth    \n---------------------------\nANGE1    0.78     0.84     \nISSAA    1.01     1.12     \nwoxic    0.83     0.88     \nDeadFox  0.82     0.96     \nbondik   0.83     0.91     \n---------------------------\nLoss:  0.08417594111474119\n"
     ]
    }
   ],
   "source": [
    "print_example_vs_pred(1, 'train')"
   ]
  },
  {
   "cell_type": "code",
   "execution_count": 94,
   "metadata": {},
   "outputs": [
    {
     "output_type": "stream",
     "name": "stdout",
     "text": [
      "Team 1       Pred         Truth        \n---------------------------\nKRIMZ        1.32         2.07         \nflusha       1.29         1.94         \nLekr0        1.49         1.19         \nGolden       1.7          1.25         \nJW           1.18         1.09         \n---------------------------\nTeam 2       Pred         Truth        \n---------------------------\nSnax         0.59         0.67         \nNEO          0.84         0.57         \nTaZ          0.69         0.77         \npashaBiceps  0.78         0.33         \nbyali        0.35         0.88         \n---------------------------\nLoss:  0.36605233137244947\n"
     ]
    }
   ],
   "source": [
    "print_example_vs_pred(123, 'all')"
   ]
  },
  {
   "cell_type": "code",
   "execution_count": 96,
   "metadata": {},
   "outputs": [
    {
     "output_type": "stream",
     "name": "stdout",
     "text": [
      "Team 1    Pred      Truth     \n---------------------------\nallu      1.19      1.16      \nAleksib   1.11      0.72      \nxseveN    1.08      1.17      \nsergej    1.14      1.05      \nAerial    0.92      1.18      \n---------------------------\nTeam 2    Pred      Truth     \n---------------------------\nnitr0     0.93      1.0       \nTwistzz   1.11      1.17      \nEliGE     1.17      1.44      \nNAF       0.93      1.2       \nStewie2K  1.07      0.78      \n---------------------------\nLoss:  0.18133195589320358\n"
     ]
    }
   ],
   "source": [
    "print_example_vs_pred(9000, 'all')"
   ]
  },
  {
   "cell_type": "code",
   "execution_count": 97,
   "metadata": {},
   "outputs": [],
   "source": [
    "model.save('model_big_01.h5')"
   ]
  },
  {
   "cell_type": "code",
   "execution_count": null,
   "metadata": {},
   "outputs": [],
   "source": []
  }
 ]
}