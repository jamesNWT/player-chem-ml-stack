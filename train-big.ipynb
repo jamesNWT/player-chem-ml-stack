{
 "metadata": {
  "language_info": {
   "codemirror_mode": {
    "name": "ipython",
    "version": 3
   },
   "file_extension": ".py",
   "mimetype": "text/x-python",
   "name": "python",
   "nbconvert_exporter": "python",
   "pygments_lexer": "ipython3",
   "version": "3.7.10-final"
  },
  "orig_nbformat": 2,
  "kernelspec": {
   "name": "python3",
   "display_name": "Python 3.7.10 64-bit ('tf': conda)",
   "metadata": {
    "interpreter": {
     "hash": "42eea32459e97d1fc562e9b561f8a94575df71e230e4ccdec5d01957082d6a36"
    }
   }
  }
 },
 "nbformat": 4,
 "nbformat_minor": 2,
 "cells": [
  {
   "cell_type": "code",
   "execution_count": null,
   "metadata": {},
   "outputs": [],
   "source": [
    "import pandas as pd\n",
    "from json_functions import create_df_big_output, create_example\n",
    "\n",
    "players_list, df = create_df_big_output('very-big.json')"
   ]
  },
  {
   "cell_type": "code",
   "execution_count": null,
   "metadata": {},
   "outputs": [],
   "source": [
    "import numpy as np\n",
    "import tensorflow as tf"
   ]
  },
  {
   "cell_type": "code",
   "execution_count": null,
   "metadata": {},
   "outputs": [],
   "source": [
    "features, outputs = df[\"rosters vector\"], df['rating vector']\n",
    "\n",
    "features = pd.DataFrame(features.values.tolist(), index= df.index)\n",
    "outputs = pd.DataFrame(outputs.values.tolist(), index= df.index)\n",
    "\n",
    "print(np.shape(features))\n",
    "print(np.shape(outputs))"
   ]
  },
  {
   "cell_type": "code",
   "execution_count": null,
   "metadata": {},
   "outputs": [],
   "source": [
    "import tensorflow as tf\n",
    "from tensorflow import keras\n",
    "from tensorflow.keras.models import Sequential\n",
    "from tensorflow.keras.layers import Dense, Activation\n",
    "from tensorflow.keras.optimizers import Adam\n",
    "from tensorflow.keras.metrics import categorical_crossentropy"
   ]
  },
  {
   "cell_type": "code",
   "execution_count": null,
   "metadata": {},
   "outputs": [],
   "source": [
    "tf.config.list_physical_devices('GPU')"
   ]
  },
  {
   "cell_type": "code",
   "execution_count": null,
   "metadata": {},
   "outputs": [],
   "source": [
    "# create loss function that only takes into account values from the output dont have a true value of 0\n",
    "\n",
    "# This sigmoid is very close to a step function, if x = 0, then it will return nearly 0, and if x is a reasonable rating value,\n",
    "# even something as low as 0.4, it will return (pretty much) 1. I will plug in y_true to this and then multiply the result by\n",
    "# the error so that error on predictions where where y_true = 0 becomes tiny but where y_true is an actual rating stays \n",
    "# pretty much the same\n",
    "def my_step(x):\n",
    "    return tf.divide(1.0, tf.add(1.0, tf.exp(tf.multiply(-1000.0, tf.subtract(x, 0.02)))))\n",
    "\n",
    "def my_loss(y_true, y_pred):\n",
    "    # we can hardcode denominator as 10 since we know that there will always be 10 relevent values\n",
    "    # in this case I just multiply by 0.1 for simplicity\n",
    "\n",
    "    return tf.multiply(0.1, tf.reduce_sum(tf.multiply(my_step(y_true), tf.abs(tf.subtract(y_pred, y_true)))))\n",
    "\n",
    " "
   ]
  },
  {
   "cell_type": "code",
   "execution_count": null,
   "metadata": {},
   "outputs": [],
   "source": [
    "# get the model\n",
    "def get_model(n_inputs, n_outputs):\n",
    "\tmodel = Sequential()\n",
    "\tmodel.add(Dense(1068, input_dim=n_inputs, kernel_initializer='he_uniform', activation='relu'))\n",
    "\t# model.add(Dense(50, input_dim=n_inputs, kernel_initializer='he_uniform', activation='relu'))\n",
    "\tmodel.add(Dense(n_outputs))\n",
    "\tmodel.compile(loss=my_loss, optimizer='adam')\n",
    "\treturn model"
   ]
  },
  {
   "cell_type": "code",
   "execution_count": null,
   "metadata": {},
   "outputs": [],
   "source": [
    "n_inputs, n_outputs = features.shape[1], outputs.shape[1]"
   ]
  },
  {
   "cell_type": "code",
   "execution_count": null,
   "metadata": {},
   "outputs": [],
   "source": [
    "model = get_model(n_inputs, n_outputs)"
   ]
  },
  {
   "cell_type": "code",
   "execution_count": null,
   "metadata": {},
   "outputs": [],
   "source": [
    "from sklearn.model_selection import train_test_split\n",
    "X_train, X_test, y_train, y_test = train_test_split(features, outputs, test_size=0.33, random_state=42)"
   ]
  },
  {
   "cell_type": "code",
   "execution_count": null,
   "metadata": {},
   "outputs": [],
   "source": [
    "model.fit(X_train, y_train, verbose=1, epochs=4, batch_size=500)\n",
    "print(\"Evaluation on test set:\")\n",
    "mae = model.evaluate(X_test, y_test, verbose=1)"
   ]
  },
  {
   "cell_type": "code",
   "execution_count": null,
   "metadata": {},
   "outputs": [],
   "source": [
    "example = create_example(['EliGE', 'Stewie2K', 'Grim', 'FalleN', 'NAF'], ['device', 'Xyp9x', 'Magisk', 'dupreeh', 'gla1ve'], players_list)\n",
    "model.predict(np.asarray([example]))"
   ]
  },
  {
   "cell_type": "code",
   "execution_count": null,
   "metadata": {},
   "outputs": [],
   "source": [
    "def print_prediction(example, players_list, model):\n",
    "    player_indices = [i for i, x in enumerate(example) if x == 1]\n",
    "    example_formatted = np.asarray([example])\n",
    "    pred = model.predict(example_formatted)\n",
    "\n",
    "    print(\"Team 1:\")\n",
    "    for i, player  in enumerate(player_indices):\n",
    "        if player >= len(players_list): player =player - len(players_list)\n",
    "        print(players_list[player]+': ', round(pred[0][player], 2))\n",
    "        if i == 5:\n",
    "            print(\"Agregate Rating:\", round(np.sum(pred[0][0:5]), 2))\n",
    "            print(\"Team 2:\")\n",
    "        if i == 9:\n",
    "            print(\"Agregate Rating:\", round(np.sum(pred[0][5:10]), 2))\n"
   ]
  },
  {
   "cell_type": "code",
   "execution_count": null,
   "metadata": {},
   "outputs": [],
   "source": [
    "print_prediction(example, players_list, model)"
   ]
  },
  {
   "cell_type": "code",
   "execution_count": null,
   "metadata": {},
   "outputs": [],
   "source": []
  }
 ]
}