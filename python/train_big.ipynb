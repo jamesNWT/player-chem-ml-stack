{
  "nbformat": 4,
  "nbformat_minor": 0,
  "metadata": {
    "language_info": {
      "codemirror_mode": {
        "name": "ipython",
        "version": 3
      },
      "file_extension": ".py",
      "mimetype": "text/x-python",
      "name": "python",
      "nbconvert_exporter": "python",
      "pygments_lexer": "ipython3",
      "version": "3.8.8-final"
    },
    "orig_nbformat": 2,
    "kernelspec": {
      "name": "python3",
      "display_name": "Python 3.8.8 64-bit ('tf-gpu': conda)",
      "metadata": {
        "interpreter": {
          "hash": "9498eed101f0e4725e0a7bf1362fb162fcbe095ec51a2a544b80ac40dc37e308"
        }
      }
    },
    "colab": {
      "name": "train-big.ipynb",
      "provenance": [],
      "collapsed_sections": [],
      "toc_visible": true
    },
    "accelerator": "GPU"
  },
  "cells": [
    {
      "cell_type": "markdown",
      "metadata": {
        "id": "aghiFROIbFc0"
      },
      "source": [
        "# Imports"
      ]
    },
    {
      "cell_type": "code",
      "metadata": {
        "id": "t1L0heYPIgCa"
      },
      "source": [
        "import pandas as pd\n",
        "from json_functions import create_df_big_output, create_example\n",
        "\n",
        "players_list, df = create_df_big_output('very-big.json', mirror=True)"
      ],
      "execution_count": 90,
      "outputs": []
    },
    {
      "cell_type": "code",
      "metadata": {
        "id": "SQ_ZUwiVIgCb"
      },
      "source": [
        "import numpy as np\n",
        "import tensorflow as tf\n",
        "import os"
      ],
      "execution_count": 2,
      "outputs": []
    },
    {
      "cell_type": "code",
      "metadata": {
        "id": "9SBS0JTIIgCc"
      },
      "source": [
        "import tensorflow as tf\n",
        "from tensorflow import keras\n",
        "from tensorflow.keras import regularizers\n",
        "from tensorflow.keras.models import Sequential\n",
        "from tensorflow.keras.layers import Dense, Activation, Dropout, Conv2D\n",
        "from tensorflow.keras.optimizers import Adam\n",
        "from tensorflow.keras.metrics import categorical_crossentropy\n",
        "import tensorflow.keras.backend as K "
      ],
      "execution_count": 17,
      "outputs": []
    },
    {
      "cell_type": "code",
      "metadata": {
        "colab": {
          "base_uri": "https://localhost:8080/"
        },
        "id": "vLr38AiyIgCd",
        "outputId": "ac1c162f-9971-4994-871b-937c0ea5b563"
      },
      "source": [
        "!pip install -q git+https://github.com/tensorflow/docs\n",
        "\n",
        "import tensorflow_docs as tfdocs\n",
        "import tensorflow_docs.modeling\n",
        "import tensorflow_docs.plots"
      ],
      "execution_count": 4,
      "outputs": [
        {
          "output_type": "stream",
          "text": [
            "\u001b[?25l\r\u001b[K     |▎                               | 10kB 21.4MB/s eta 0:00:01\r\u001b[K     |▋                               | 20kB 23.8MB/s eta 0:00:01\r\u001b[K     |█                               | 30kB 15.8MB/s eta 0:00:01\r\u001b[K     |█▎                              | 40kB 16.1MB/s eta 0:00:01\r\u001b[K     |█▋                              | 51kB 10.0MB/s eta 0:00:01\r\u001b[K     |██                              | 61kB 11.5MB/s eta 0:00:01\r\u001b[K     |██▎                             | 71kB 10.6MB/s eta 0:00:01\r\u001b[K     |██▋                             | 81kB 11.7MB/s eta 0:00:01\r\u001b[K     |██▉                             | 92kB 11.0MB/s eta 0:00:01\r\u001b[K     |███▏                            | 102kB 9.4MB/s eta 0:00:01\r\u001b[K     |███▌                            | 112kB 9.4MB/s eta 0:00:01\r\u001b[K     |███▉                            | 122kB 9.4MB/s eta 0:00:01\r\u001b[K     |████▏                           | 133kB 9.4MB/s eta 0:00:01\r\u001b[K     |████▌                           | 143kB 9.4MB/s eta 0:00:01\r\u001b[K     |████▉                           | 153kB 9.4MB/s eta 0:00:01\r\u001b[K     |█████▏                          | 163kB 9.4MB/s eta 0:00:01\r\u001b[K     |█████▍                          | 174kB 9.4MB/s eta 0:00:01\r\u001b[K     |█████▊                          | 184kB 9.4MB/s eta 0:00:01\r\u001b[K     |██████                          | 194kB 9.4MB/s eta 0:00:01\r\u001b[K     |██████▍                         | 204kB 9.4MB/s eta 0:00:01\r\u001b[K     |██████▊                         | 215kB 9.4MB/s eta 0:00:01\r\u001b[K     |███████                         | 225kB 9.4MB/s eta 0:00:01\r\u001b[K     |███████▍                        | 235kB 9.4MB/s eta 0:00:01\r\u001b[K     |███████▊                        | 245kB 9.4MB/s eta 0:00:01\r\u001b[K     |████████                        | 256kB 9.4MB/s eta 0:00:01\r\u001b[K     |████████▎                       | 266kB 9.4MB/s eta 0:00:01\r\u001b[K     |████████▋                       | 276kB 9.4MB/s eta 0:00:01\r\u001b[K     |█████████                       | 286kB 9.4MB/s eta 0:00:01\r\u001b[K     |█████████▎                      | 296kB 9.4MB/s eta 0:00:01\r\u001b[K     |█████████▋                      | 307kB 9.4MB/s eta 0:00:01\r\u001b[K     |██████████                      | 317kB 9.4MB/s eta 0:00:01\r\u001b[K     |██████████▎                     | 327kB 9.4MB/s eta 0:00:01\r\u001b[K     |██████████▋                     | 337kB 9.4MB/s eta 0:00:01\r\u001b[K     |██████████▉                     | 348kB 9.4MB/s eta 0:00:01\r\u001b[K     |███████████▏                    | 358kB 9.4MB/s eta 0:00:01\r\u001b[K     |███████████▌                    | 368kB 9.4MB/s eta 0:00:01\r\u001b[K     |███████████▉                    | 378kB 9.4MB/s eta 0:00:01\r\u001b[K     |████████████▏                   | 389kB 9.4MB/s eta 0:00:01\r\u001b[K     |████████████▌                   | 399kB 9.4MB/s eta 0:00:01\r\u001b[K     |████████████▉                   | 409kB 9.4MB/s eta 0:00:01\r\u001b[K     |█████████████▏                  | 419kB 9.4MB/s eta 0:00:01\r\u001b[K     |█████████████▌                  | 430kB 9.4MB/s eta 0:00:01\r\u001b[K     |█████████████▊                  | 440kB 9.4MB/s eta 0:00:01\r\u001b[K     |██████████████                  | 450kB 9.4MB/s eta 0:00:01\r\u001b[K     |██████████████▍                 | 460kB 9.4MB/s eta 0:00:01\r\u001b[K     |██████████████▊                 | 471kB 9.4MB/s eta 0:00:01\r\u001b[K     |███████████████                 | 481kB 9.4MB/s eta 0:00:01\r\u001b[K     |███████████████▍                | 491kB 9.4MB/s eta 0:00:01\r\u001b[K     |███████████████▊                | 501kB 9.4MB/s eta 0:00:01\r\u001b[K     |████████████████                | 512kB 9.4MB/s eta 0:00:01\r\u001b[K     |████████████████▎               | 522kB 9.4MB/s eta 0:00:01\r\u001b[K     |████████████████▋               | 532kB 9.4MB/s eta 0:00:01\r\u001b[K     |█████████████████               | 542kB 9.4MB/s eta 0:00:01\r\u001b[K     |█████████████████▎              | 552kB 9.4MB/s eta 0:00:01\r\u001b[K     |█████████████████▋              | 563kB 9.4MB/s eta 0:00:01\r\u001b[K     |██████████████████              | 573kB 9.4MB/s eta 0:00:01\r\u001b[K     |██████████████████▎             | 583kB 9.4MB/s eta 0:00:01\r\u001b[K     |██████████████████▋             | 593kB 9.4MB/s eta 0:00:01\r\u001b[K     |███████████████████             | 604kB 9.4MB/s eta 0:00:01\r\u001b[K     |███████████████████▏            | 614kB 9.4MB/s eta 0:00:01\r\u001b[K     |███████████████████▌            | 624kB 9.4MB/s eta 0:00:01\r\u001b[K     |███████████████████▉            | 634kB 9.4MB/s eta 0:00:01\r\u001b[K     |████████████████████▏           | 645kB 9.4MB/s eta 0:00:01\r\u001b[K     |████████████████████▌           | 655kB 9.4MB/s eta 0:00:01\r\u001b[K     |████████████████████▉           | 665kB 9.4MB/s eta 0:00:01\r\u001b[K     |█████████████████████▏          | 675kB 9.4MB/s eta 0:00:01\r\u001b[K     |█████████████████████▌          | 686kB 9.4MB/s eta 0:00:01\r\u001b[K     |█████████████████████▊          | 696kB 9.4MB/s eta 0:00:01\r\u001b[K     |██████████████████████          | 706kB 9.4MB/s eta 0:00:01\r\u001b[K     |██████████████████████▍         | 716kB 9.4MB/s eta 0:00:01\r\u001b[K     |██████████████████████▊         | 727kB 9.4MB/s eta 0:00:01\r\u001b[K     |███████████████████████         | 737kB 9.4MB/s eta 0:00:01\r\u001b[K     |███████████████████████▍        | 747kB 9.4MB/s eta 0:00:01\r\u001b[K     |███████████████████████▊        | 757kB 9.4MB/s eta 0:00:01\r\u001b[K     |████████████████████████        | 768kB 9.4MB/s eta 0:00:01\r\u001b[K     |████████████████████████▍       | 778kB 9.4MB/s eta 0:00:01\r\u001b[K     |████████████████████████▋       | 788kB 9.4MB/s eta 0:00:01\r\u001b[K     |█████████████████████████       | 798kB 9.4MB/s eta 0:00:01\r\u001b[K     |█████████████████████████▎      | 808kB 9.4MB/s eta 0:00:01\r\u001b[K     |█████████████████████████▋      | 819kB 9.4MB/s eta 0:00:01\r\u001b[K     |██████████████████████████      | 829kB 9.4MB/s eta 0:00:01\r\u001b[K     |██████████████████████████▎     | 839kB 9.4MB/s eta 0:00:01\r\u001b[K     |██████████████████████████▋     | 849kB 9.4MB/s eta 0:00:01\r\u001b[K     |███████████████████████████     | 860kB 9.4MB/s eta 0:00:01\r\u001b[K     |███████████████████████████▏    | 870kB 9.4MB/s eta 0:00:01\r\u001b[K     |███████████████████████████▌    | 880kB 9.4MB/s eta 0:00:01\r\u001b[K     |███████████████████████████▉    | 890kB 9.4MB/s eta 0:00:01\r\u001b[K     |████████████████████████████▏   | 901kB 9.4MB/s eta 0:00:01\r\u001b[K     |████████████████████████████▌   | 911kB 9.4MB/s eta 0:00:01\r\u001b[K     |████████████████████████████▉   | 921kB 9.4MB/s eta 0:00:01\r\u001b[K     |█████████████████████████████▏  | 931kB 9.4MB/s eta 0:00:01\r\u001b[K     |█████████████████████████████▌  | 942kB 9.4MB/s eta 0:00:01\r\u001b[K     |█████████████████████████████▉  | 952kB 9.4MB/s eta 0:00:01\r\u001b[K     |██████████████████████████████  | 962kB 9.4MB/s eta 0:00:01\r\u001b[K     |██████████████████████████████▍ | 972kB 9.4MB/s eta 0:00:01\r\u001b[K     |██████████████████████████████▊ | 983kB 9.4MB/s eta 0:00:01\r\u001b[K     |███████████████████████████████ | 993kB 9.4MB/s eta 0:00:01\r\u001b[K     |███████████████████████████████▍| 1.0MB 9.4MB/s eta 0:00:01\r\u001b[K     |███████████████████████████████▊| 1.0MB 9.4MB/s eta 0:00:01\r\u001b[K     |████████████████████████████████| 1.0MB 9.4MB/s \n",
            "\u001b[?25h  Building wheel for tensorflow-docs (setup.py) ... \u001b[?25l\u001b[?25hdone\n"
          ],
          "name": "stdout"
        }
      ]
    },
    {
      "cell_type": "code",
      "metadata": {
        "id": "-7OmXNeQIgCd"
      },
      "source": [
        "from  IPython import display\n",
        "from matplotlib import pyplot as plt\n",
        "\n",
        "import numpy as np\n",
        "\n",
        "import pathlib\n",
        "import shutil\n",
        "import tempfile"
      ],
      "execution_count": 5,
      "outputs": []
    },
    {
      "cell_type": "markdown",
      "metadata": {
        "id": "ofvFNzDKcBUv"
      },
      "source": [
        "# Check GPU"
      ]
    },
    {
      "cell_type": "code",
      "metadata": {
        "colab": {
          "base_uri": "https://localhost:8080/"
        },
        "id": "pegNTQn2IgCd",
        "outputId": "c9ce56aa-6f58-48fc-d5bd-37cf2d3d3373"
      },
      "source": [
        "tf.config.list_physical_devices('GPU')"
      ],
      "execution_count": 6,
      "outputs": [
        {
          "output_type": "execute_result",
          "data": {
            "text/plain": [
              "[PhysicalDevice(name='/physical_device:GPU:0', device_type='GPU')]"
            ]
          },
          "metadata": {
            "tags": []
          },
          "execution_count": 6
        }
      ]
    },
    {
      "cell_type": "markdown",
      "metadata": {
        "id": "MzYa5mNnbL82"
      },
      "source": [
        "# Create dataset from json file"
      ]
    },
    {
      "cell_type": "code",
      "metadata": {
        "colab": {
          "base_uri": "https://localhost:8080/"
        },
        "id": "nGLp9W4UIgCc",
        "outputId": "62e24847-7fd6-4da7-d556-722113c27e5e"
      },
      "source": [
        "features, outputs = df[\"rosters vector\"], df['rating vector']\n",
        "\n",
        "features = pd.DataFrame(features.values.tolist(), index= df.index)\n",
        "outputs = pd.DataFrame(outputs.values.tolist(), index= df.index)\n",
        "\n",
        "print(np.shape(features))\n",
        "print(np.shape(outputs))"
      ],
      "execution_count": 7,
      "outputs": [
        {
          "output_type": "stream",
          "text": [
            "(17488, 1068)\n",
            "(17488, 1068)\n"
          ],
          "name": "stdout"
        }
      ]
    },
    {
      "cell_type": "code",
      "metadata": {
        "id": "r9liGRWbIgCe"
      },
      "source": [
        "from sklearn.model_selection import train_test_split\n",
        "X, X_test, y, y_test = train_test_split(features, outputs, test_size=0.1, random_state=42)\n",
        "\n",
        "# I'm just going to use train_test_split again to create a validation dataset\n",
        "X_train, X_val, y_train, y_val = train_test_split(X, y, test_size=0.1, random_state=42)\n",
        "\n",
        "validation_ds = (X_val, y_val)"
      ],
      "execution_count": 8,
      "outputs": []
    },
    {
      "cell_type": "code",
      "metadata": {
        "colab": {
          "base_uri": "https://localhost:8080/"
        },
        "id": "ZW_XJYgwIgCg",
        "outputId": "f06f82b3-692a-4f9c-9e21-e7b3a450f085"
      },
      "source": [
        "print(len(X_train))\n",
        "print(len(X))"
      ],
      "execution_count": 9,
      "outputs": [
        {
          "output_type": "stream",
          "text": [
            "14165\n",
            "15739\n"
          ],
          "name": "stdout"
        }
      ]
    },
    {
      "cell_type": "markdown",
      "metadata": {
        "id": "RvygpETRbSWR"
      },
      "source": [
        "# Set a global batch size and steps per epoch\n",
        "\n",
        "I need to set the global batch size for my custom loss function to work."
      ]
    },
    {
      "cell_type": "code",
      "metadata": {
        "id": "9HFBcy3TIgCg"
      },
      "source": [
        "# I'll use steps per epoch instead of batch size because my custom loss function could be innacurate on a smaller batch at end of training set\n",
        "GLOBAL_BATCH_SIZE = 329\n",
        "STEPS_PER_EPOCH = len(X_train)//GLOBAL_BATCH_SIZE"
      ],
      "execution_count": 10,
      "outputs": []
    },
    {
      "cell_type": "markdown",
      "metadata": {
        "id": "ez9igJ38bkjL"
      },
      "source": [
        "# Create custom loss function\n",
        "\n",
        "I have extracted my custom loss function to another file. \n",
        "\n",
        "It is basically MAE where each result in our output vector is \"filtered\" by a binary step function, which I made with a sigmoid. \n",
        "\n",
        "The sigmoid defined by my_step is very close to a step function, if x = 0, then it will return nearly 0, and if x is a reasonable rating value, even something as low as 0.4, it will return (pretty much) 1. I will plug in y_true to this and then multiply the result by the error so that error on predictions where where y_true = 0 becomes tiny but where y_true is an actual rating stays pretty much the same"
      ]
    },
    {
      "cell_type": "code",
      "metadata": {
        "id": "kzvjBln4TOBQ"
      },
      "source": [
        "from custom_loss import filtered_mae"
      ],
      "execution_count": 11,
      "outputs": []
    },
    {
      "cell_type": "markdown",
      "metadata": {
        "id": "qeVRDOnDar_3"
      },
      "source": [
        "# Create Compile and fit fucntion"
      ]
    },
    {
      "cell_type": "code",
      "metadata": {
        "id": "OG8Y8NN_IgCh"
      },
      "source": [
        "def compile_and_fit(model, \n",
        "                    name,\n",
        "                    max_epochs=1000, \n",
        "                    initial_lr=0.001, \n",
        "                    es_patience=50,\n",
        "                    verbose=0):\n",
        "\n",
        "    # Reduce the learning rate as training goes on\n",
        "    lr_schedule = tf.keras.optimizers.schedules.InverseTimeDecay(\n",
        "        initial_lr,\n",
        "        decay_steps=STEPS_PER_EPOCH*0.1*max_epochs,\n",
        "        decay_rate=1,\n",
        "        staircase=False)\n",
        "    \n",
        "    # Add early stopping\n",
        "    early_stopping = tf.keras.callbacks.EarlyStopping(monitor='val_loss', \n",
        "                                                      patience=es_patience, \n",
        "                                                      verbose=1)\n",
        "\n",
        "    model.compile(loss=filtered_mae(GLOBAL_BATCH_SIZE),\n",
        "                  optimizer=tf.keras.optimizers.Adam(lr_schedule))\n",
        "    \n",
        "    for output in model.outputs:\n",
        "        output._uses_learning_phase = True\n",
        "\n",
        "    model.summary()\n",
        "\n",
        "    history = model.fit(X_train,\n",
        "                        y_train, \n",
        "                        verbose=verbose, \n",
        "                        epochs=max_epochs,\n",
        "                        # steps_per_epoch=STEPS_PER_EPOCH,\n",
        "                        batch_size = GLOBAL_BATCH_SIZE,\n",
        "                        validation_data=validation_ds,\n",
        "                        validation_batch_size = GLOBAL_BATCH_SIZE,\n",
        "                        # validation_steps=STEPS_PER_EPOCH//10,\n",
        "                        callbacks=[early_stopping])\n",
        "    print(\"Evaluation on test set:\")\n",
        "    mae = model.evaluate(X_test, y_test,\n",
        "                         verbose=1,\n",
        "                         batch_size = GLOBAL_BATCH_SIZE)\n",
        "    \n",
        "    return history\n"
      ],
      "execution_count": 12,
      "outputs": []
    },
    {
      "cell_type": "markdown",
      "metadata": {
        "id": "XXVKakvT4xuE"
      },
      "source": [
        "# Train a few models with different Architectures"
      ]
    },
    {
      "cell_type": "code",
      "metadata": {
        "colab": {
          "base_uri": "https://localhost:8080/"
        },
        "id": "lNHh2JKRIgCi",
        "outputId": "1191eff9-10e6-46e3-9632-3efe62d030f2"
      },
      "source": [
        "n_inputs, n_outputs = features.shape[1], outputs.shape[1]\n",
        "n_inputs"
      ],
      "execution_count": 13,
      "outputs": [
        {
          "output_type": "execute_result",
          "data": {
            "text/plain": [
              "1068"
            ]
          },
          "metadata": {
            "tags": []
          },
          "execution_count": 13
        }
      ]
    },
    {
      "cell_type": "code",
      "metadata": {
        "id": "qg_YGHtCIgCi"
      },
      "source": [
        "linear_perceptron_model = Sequential([\n",
        "    Dense(n_outputs, input_dim=n_inputs, activation='linear')\n",
        "])"
      ],
      "execution_count": 14,
      "outputs": []
    },
    {
      "cell_type": "code",
      "metadata": {
        "colab": {
          "base_uri": "https://localhost:8080/"
        },
        "id": "g_ntIRJ1IgCj",
        "outputId": "d16fa5e8-5a47-47bb-f092-8c43a11b0f70"
      },
      "source": [
        "histories = {}\n",
        "histories['linear'] =  compile_and_fit(model=linear_perceptron_model,\n",
        "                                       name='linear',\n",
        "                                       initial_lr=0.005,\n",
        "                                       verbose=1)\n"
      ],
      "execution_count": 15,
      "outputs": [
        {
          "output_type": "stream",
          "text": [
            "Model: \"sequential\"\n",
            "_________________________________________________________________\n",
            "Layer (type)                 Output Shape              Param #   \n",
            "=================================================================\n",
            "dense (Dense)                (None, 1068)              1141692   \n",
            "=================================================================\n",
            "Total params: 1,141,692\n",
            "Trainable params: 1,141,692\n",
            "Non-trainable params: 0\n",
            "_________________________________________________________________\n",
            "Epoch 1/1000\n",
            "44/44 [==============================] - 4s 27ms/step - loss: 0.7251 - val_loss: 0.2603\n",
            "Epoch 2/1000\n",
            "44/44 [==============================] - 0s 6ms/step - loss: 0.2507 - val_loss: 0.2496\n",
            "Epoch 3/1000\n",
            "44/44 [==============================] - 0s 6ms/step - loss: 0.2203 - val_loss: 0.2524\n",
            "Epoch 4/1000\n",
            "44/44 [==============================] - 0s 6ms/step - loss: 0.2132 - val_loss: 0.2550\n",
            "Epoch 5/1000\n",
            "44/44 [==============================] - 0s 6ms/step - loss: 0.2094 - val_loss: 0.2577\n",
            "Epoch 6/1000\n",
            "44/44 [==============================] - 0s 6ms/step - loss: 0.2057 - val_loss: 0.2579\n",
            "Epoch 7/1000\n",
            "44/44 [==============================] - 0s 6ms/step - loss: 0.2041 - val_loss: 0.2602\n",
            "Epoch 8/1000\n",
            "44/44 [==============================] - 0s 6ms/step - loss: 0.2027 - val_loss: 0.2610\n",
            "Epoch 9/1000\n",
            "44/44 [==============================] - 0s 6ms/step - loss: 0.2019 - val_loss: 0.2621\n",
            "Epoch 10/1000\n",
            "44/44 [==============================] - 0s 6ms/step - loss: 0.1998 - val_loss: 0.2629\n",
            "Epoch 11/1000\n",
            "44/44 [==============================] - 0s 5ms/step - loss: 0.2001 - val_loss: 0.2643\n",
            "Epoch 12/1000\n",
            "44/44 [==============================] - 0s 6ms/step - loss: 0.2007 - val_loss: 0.2647\n",
            "Epoch 13/1000\n",
            "44/44 [==============================] - 0s 6ms/step - loss: 0.1998 - val_loss: 0.2646\n",
            "Epoch 14/1000\n",
            "44/44 [==============================] - 0s 6ms/step - loss: 0.1999 - val_loss: 0.2658\n",
            "Epoch 15/1000\n",
            "44/44 [==============================] - 0s 6ms/step - loss: 0.1988 - val_loss: 0.2653\n",
            "Epoch 16/1000\n",
            "44/44 [==============================] - 0s 5ms/step - loss: 0.1970 - val_loss: 0.2662\n",
            "Epoch 17/1000\n",
            "44/44 [==============================] - 0s 6ms/step - loss: 0.1970 - val_loss: 0.2660\n",
            "Epoch 18/1000\n",
            "44/44 [==============================] - 0s 6ms/step - loss: 0.1968 - val_loss: 0.2666\n",
            "Epoch 19/1000\n",
            "44/44 [==============================] - 0s 5ms/step - loss: 0.1978 - val_loss: 0.2656\n",
            "Epoch 20/1000\n",
            "44/44 [==============================] - 0s 5ms/step - loss: 0.1975 - val_loss: 0.2668\n",
            "Epoch 21/1000\n",
            "44/44 [==============================] - 0s 6ms/step - loss: 0.1952 - val_loss: 0.2671\n",
            "Epoch 22/1000\n",
            "44/44 [==============================] - 0s 6ms/step - loss: 0.1960 - val_loss: 0.2673\n",
            "Epoch 23/1000\n",
            "44/44 [==============================] - 0s 6ms/step - loss: 0.1960 - val_loss: 0.2672\n",
            "Epoch 24/1000\n",
            "44/44 [==============================] - 0s 6ms/step - loss: 0.1961 - val_loss: 0.2672\n",
            "Epoch 25/1000\n",
            "44/44 [==============================] - 0s 5ms/step - loss: 0.1945 - val_loss: 0.2668\n",
            "Epoch 26/1000\n",
            "44/44 [==============================] - 0s 6ms/step - loss: 0.1959 - val_loss: 0.2678\n",
            "Epoch 27/1000\n",
            "44/44 [==============================] - 0s 6ms/step - loss: 0.1948 - val_loss: 0.2683\n",
            "Epoch 28/1000\n",
            "44/44 [==============================] - 0s 5ms/step - loss: 0.1928 - val_loss: 0.2674\n",
            "Epoch 29/1000\n",
            "44/44 [==============================] - 0s 6ms/step - loss: 0.1950 - val_loss: 0.2685\n",
            "Epoch 30/1000\n",
            "44/44 [==============================] - 0s 6ms/step - loss: 0.1942 - val_loss: 0.2681\n",
            "Epoch 31/1000\n",
            "44/44 [==============================] - 0s 6ms/step - loss: 0.1938 - val_loss: 0.2685\n",
            "Epoch 32/1000\n",
            "44/44 [==============================] - 0s 6ms/step - loss: 0.1933 - val_loss: 0.2682\n",
            "Epoch 33/1000\n",
            "44/44 [==============================] - 0s 6ms/step - loss: 0.1928 - val_loss: 0.2685\n",
            "Epoch 34/1000\n",
            "44/44 [==============================] - 0s 6ms/step - loss: 0.1927 - val_loss: 0.2671\n",
            "Epoch 35/1000\n",
            "44/44 [==============================] - 0s 6ms/step - loss: 0.1908 - val_loss: 0.2680\n",
            "Epoch 36/1000\n",
            "44/44 [==============================] - 0s 5ms/step - loss: 0.1940 - val_loss: 0.2673\n",
            "Epoch 37/1000\n",
            "44/44 [==============================] - 0s 6ms/step - loss: 0.1924 - val_loss: 0.2676\n",
            "Epoch 38/1000\n",
            "44/44 [==============================] - 0s 6ms/step - loss: 0.1919 - val_loss: 0.2679\n",
            "Epoch 39/1000\n",
            "44/44 [==============================] - 0s 5ms/step - loss: 0.1924 - val_loss: 0.2687\n",
            "Epoch 40/1000\n",
            "44/44 [==============================] - 0s 6ms/step - loss: 0.1921 - val_loss: 0.2679\n",
            "Epoch 41/1000\n",
            "44/44 [==============================] - 0s 6ms/step - loss: 0.1917 - val_loss: 0.2688\n",
            "Epoch 42/1000\n",
            "44/44 [==============================] - 0s 6ms/step - loss: 0.1916 - val_loss: 0.2681\n",
            "Epoch 43/1000\n",
            "44/44 [==============================] - 0s 6ms/step - loss: 0.1921 - val_loss: 0.2683\n",
            "Epoch 44/1000\n",
            "44/44 [==============================] - 0s 6ms/step - loss: 0.1915 - val_loss: 0.2681\n",
            "Epoch 45/1000\n",
            "44/44 [==============================] - 0s 5ms/step - loss: 0.1931 - val_loss: 0.2677\n",
            "Epoch 46/1000\n",
            "44/44 [==============================] - 0s 6ms/step - loss: 0.1897 - val_loss: 0.2681\n",
            "Epoch 47/1000\n",
            "44/44 [==============================] - 0s 6ms/step - loss: 0.1905 - val_loss: 0.2687\n",
            "Epoch 48/1000\n",
            "44/44 [==============================] - 0s 5ms/step - loss: 0.1918 - val_loss: 0.2686\n",
            "Epoch 49/1000\n",
            "44/44 [==============================] - 0s 5ms/step - loss: 0.1912 - val_loss: 0.2690\n",
            "Epoch 50/1000\n",
            "44/44 [==============================] - 0s 6ms/step - loss: 0.1900 - val_loss: 0.2689\n",
            "Epoch 51/1000\n",
            "44/44 [==============================] - 0s 5ms/step - loss: 0.1897 - val_loss: 0.2694\n",
            "Epoch 52/1000\n",
            "44/44 [==============================] - 0s 5ms/step - loss: 0.1902 - val_loss: 0.2686\n",
            "Epoch 00052: early stopping\n",
            "Evaluation on test set:\n",
            "6/6 [==============================] - 0s 4ms/step - loss: 0.2708\n"
          ],
          "name": "stdout"
        }
      ]
    },
    {
      "cell_type": "code",
      "metadata": {
        "id": "67lAyIFpIgCj"
      },
      "source": [
        "tanh_perceptron_model = Sequential([\n",
        "    Dense(n_outputs, input_dim=n_inputs, activation='tanh')\n",
        "])"
      ],
      "execution_count": 38,
      "outputs": []
    },
    {
      "cell_type": "code",
      "metadata": {
        "colab": {
          "base_uri": "https://localhost:8080/"
        },
        "id": "tpGjkFa3IgCj",
        "outputId": "ad36b628-d9f3-4b33-96ca-d8e7ed36e611"
      },
      "source": [
        "histories['tanh_peceptron'] = compile_and_fit(model=tanh_perceptron_model,\n",
        "                                              name='tanh_peceptron',\n",
        "                                              initial_lr=0.005)"
      ],
      "execution_count": 39,
      "outputs": [
        {
          "output_type": "stream",
          "text": [
            "Model: \"sequential_16\"\n",
            "_________________________________________________________________\n",
            "Layer (type)                 Output Shape              Param #   \n",
            "=================================================================\n",
            "dense_45 (Dense)             (None, 1068)              1141692   \n",
            "=================================================================\n",
            "Total params: 1,141,692\n",
            "Trainable params: 1,141,692\n",
            "Non-trainable params: 0\n",
            "_________________________________________________________________\n",
            "Epoch 00062: early stopping\n",
            "Evaluation on test set:\n",
            "6/6 [==============================] - 0s 4ms/step - loss: 0.2522\n"
          ],
          "name": "stdout"
        }
      ]
    },
    {
      "cell_type": "code",
      "metadata": {
        "colab": {
          "base_uri": "https://localhost:8080/"
        },
        "id": "zL13C1aZIgCn",
        "outputId": "6afe653c-a693-4841-8307-68c759b2af80"
      },
      "source": [
        "medium_model = Sequential([\n",
        "    Dense(1068, input_dim=n_inputs, activation='relu'),\n",
        "    Dense(2136, activation='relu'),\n",
        "    Dense(n_outputs)\n",
        "])\n",
        "histories['medium_model'] = compile_and_fit(model=medium_model,\n",
        "                                            name='medium_model',\n",
        "                                            initial_lr=0.001)"
      ],
      "execution_count": 40,
      "outputs": [
        {
          "output_type": "stream",
          "text": [
            "Model: \"sequential_17\"\n",
            "_________________________________________________________________\n",
            "Layer (type)                 Output Shape              Param #   \n",
            "=================================================================\n",
            "dense_46 (Dense)             (None, 1068)              1141692   \n",
            "_________________________________________________________________\n",
            "dense_47 (Dense)             (None, 2136)              2283384   \n",
            "_________________________________________________________________\n",
            "dense_48 (Dense)             (None, 1068)              2282316   \n",
            "=================================================================\n",
            "Total params: 5,707,392\n",
            "Trainable params: 5,707,392\n",
            "Non-trainable params: 0\n",
            "_________________________________________________________________\n",
            "Epoch 00053: early stopping\n",
            "Evaluation on test set:\n",
            "6/6 [==============================] - 0s 5ms/step - loss: 0.2623\n"
          ],
          "name": "stdout"
        }
      ]
    },
    {
      "cell_type": "code",
      "metadata": {
        "colab": {
          "base_uri": "https://localhost:8080/"
        },
        "id": "-vJvJI5HIgCn",
        "outputId": "89ce495b-37ae-4ea2-d6c0-0931d1ef9ed0"
      },
      "source": [
        "medium_model_regularized = Sequential([\n",
        "    Dense(1068, \n",
        "          input_dim=n_inputs,\n",
        "          kernel_regularizer=regularizers.l2(0.001),\n",
        "          activation='relu'),\n",
        "    Dense(2136, kernel_regularizer=regularizers.l2(0.001), activation='relu'),\n",
        "    Dense(n_outputs)\n",
        "])\n",
        "histories['medium_model_reg'] = compile_and_fit(model=medium_model_regularized,\n",
        "                                                name='medium_model_reg', \n",
        "                                                max_epochs=1000, \n",
        "                                                initial_lr=0.001)"
      ],
      "execution_count": 42,
      "outputs": [
        {
          "output_type": "stream",
          "text": [
            "Model: \"sequential_19\"\n",
            "_________________________________________________________________\n",
            "Layer (type)                 Output Shape              Param #   \n",
            "=================================================================\n",
            "dense_52 (Dense)             (None, 1068)              1141692   \n",
            "_________________________________________________________________\n",
            "dense_53 (Dense)             (None, 2136)              2283384   \n",
            "_________________________________________________________________\n",
            "dense_54 (Dense)             (None, 1068)              2282316   \n",
            "=================================================================\n",
            "Total params: 5,707,392\n",
            "Trainable params: 5,707,392\n",
            "Non-trainable params: 0\n",
            "_________________________________________________________________\n",
            "Epoch 00113: early stopping\n",
            "Evaluation on test set:\n",
            "6/6 [==============================] - 0s 4ms/step - loss: 0.2331\n"
          ],
          "name": "stdout"
        }
      ]
    },
    {
      "cell_type": "code",
      "metadata": {
        "colab": {
          "base_uri": "https://localhost:8080/"
        },
        "id": "qVclrS1FIgCo",
        "outputId": "2d338019-81f9-469f-d54a-e952719a090f"
      },
      "source": [
        "medium_model_dropout = Sequential([\n",
        "    Dense(1068, input_dim=n_inputs, activation='relu'),\n",
        "    Dropout(0.5),\n",
        "    Dense(2136, activation='relu'),\n",
        "    Dropout(0.5),\n",
        "    Dense(n_outputs)\n",
        "])\n",
        "histories['medium_model_dropout'] = compile_and_fit(model=medium_model_dropout,\n",
        "                                                    name='medium_model_dropout',\n",
        "                                                    max_epochs=1000,\n",
        "                                                    initial_lr=0.001)"
      ],
      "execution_count": 43,
      "outputs": [
        {
          "output_type": "stream",
          "text": [
            "Model: \"sequential_20\"\n",
            "_________________________________________________________________\n",
            "Layer (type)                 Output Shape              Param #   \n",
            "=================================================================\n",
            "dense_55 (Dense)             (None, 1068)              1141692   \n",
            "_________________________________________________________________\n",
            "dropout_8 (Dropout)          (None, 1068)              0         \n",
            "_________________________________________________________________\n",
            "dense_56 (Dense)             (None, 2136)              2283384   \n",
            "_________________________________________________________________\n",
            "dropout_9 (Dropout)          (None, 2136)              0         \n",
            "_________________________________________________________________\n",
            "dense_57 (Dense)             (None, 1068)              2282316   \n",
            "=================================================================\n",
            "Total params: 5,707,392\n",
            "Trainable params: 5,707,392\n",
            "Non-trainable params: 0\n",
            "_________________________________________________________________\n",
            "Epoch 00052: early stopping\n",
            "Evaluation on test set:\n",
            "6/6 [==============================] - 0s 4ms/step - loss: 0.2675\n"
          ],
          "name": "stdout"
        }
      ]
    },
    {
      "cell_type": "code",
      "metadata": {
        "tags": [
          "outputPrepend"
        ],
        "colab": {
          "base_uri": "https://localhost:8080/"
        },
        "id": "z18cio_-IgCo",
        "outputId": "f0eb8c57-7f22-45de-ec1d-95efa3beaeb3"
      },
      "source": [
        "medium_model_dropout_regularized = Sequential([\n",
        "    Dense(1068,\n",
        "          input_dim=n_inputs,\n",
        "          kernel_regularizer=regularizers.l2(0.001),\n",
        "          activation='relu'),\n",
        "    Dropout(0.5),\n",
        "    Dense(2136, kernel_regularizer=regularizers.l2(0.001), activation='relu'),\n",
        "    Dropout(0.5),\n",
        "    Dense(n_outputs)\n",
        "])\n",
        "histories['medium_dropout_regularized'] = compile_and_fit(model=medium_model_dropout_regularized, \n",
        "                                                          name='medium_dropout_regularized',\n",
        "                                                          max_epochs=1000, \n",
        "                                                          initial_lr=0.001)"
      ],
      "execution_count": 44,
      "outputs": [
        {
          "output_type": "stream",
          "text": [
            "Model: \"sequential_21\"\n",
            "_________________________________________________________________\n",
            "Layer (type)                 Output Shape              Param #   \n",
            "=================================================================\n",
            "dense_58 (Dense)             (None, 1068)              1141692   \n",
            "_________________________________________________________________\n",
            "dropout_10 (Dropout)         (None, 1068)              0         \n",
            "_________________________________________________________________\n",
            "dense_59 (Dense)             (None, 2136)              2283384   \n",
            "_________________________________________________________________\n",
            "dropout_11 (Dropout)         (None, 2136)              0         \n",
            "_________________________________________________________________\n",
            "dense_60 (Dense)             (None, 1068)              2282316   \n",
            "=================================================================\n",
            "Total params: 5,707,392\n",
            "Trainable params: 5,707,392\n",
            "Non-trainable params: 0\n",
            "_________________________________________________________________\n",
            "Epoch 00301: early stopping\n",
            "Evaluation on test set:\n",
            "6/6 [==============================] - 0s 4ms/step - loss: 0.2335\n"
          ],
          "name": "stdout"
        }
      ]
    },
    {
      "cell_type": "code",
      "metadata": {
        "colab": {
          "base_uri": "https://localhost:8080/"
        },
        "id": "cP5ypExqetc_",
        "outputId": "6fd9cc03-5f47-47e0-e622-d6bd7321b532"
      },
      "source": [
        "histories"
      ],
      "execution_count": 45,
      "outputs": [
        {
          "output_type": "execute_result",
          "data": {
            "text/plain": [
              "{'huge_regularized_dropout': <tensorflow.python.keras.callbacks.History at 0x7f55c252dfd0>,\n",
              " 'large_reg': <tensorflow.python.keras.callbacks.History at 0x7f55c267c710>,\n",
              " 'large_reg_dropout': <tensorflow.python.keras.callbacks.History at 0x7f55de32acd0>,\n",
              " 'linear': <tensorflow.python.keras.callbacks.History at 0x7f55f023d890>,\n",
              " 'medium_dropout_regularized': <tensorflow.python.keras.callbacks.History at 0x7f55a459c1d0>,\n",
              " 'medium_model': <tensorflow.python.keras.callbacks.History at 0x7f55b824a090>,\n",
              " 'medium_model_dropout': <tensorflow.python.keras.callbacks.History at 0x7f55a44d19d0>,\n",
              " 'medium_model_reg': <tensorflow.python.keras.callbacks.History at 0x7f55a46f7ad0>,\n",
              " 'small_reg': <tensorflow.python.keras.callbacks.History at 0x7f55de155450>,\n",
              " 'small_reg_2': <tensorflow.python.keras.callbacks.History at 0x7f55da4cd850>,\n",
              " 'tanh_peceptron': <tensorflow.python.keras.callbacks.History at 0x7f55b83b0b50>}"
            ]
          },
          "metadata": {
            "tags": []
          },
          "execution_count": 45
        }
      ]
    },
    {
      "cell_type": "code",
      "metadata": {
        "colab": {
          "base_uri": "https://localhost:8080/"
        },
        "id": "uY4Cq3LM51aF",
        "outputId": "237d70d6-f8b2-446a-fce2-2f2287be4c1e"
      },
      "source": [
        "small_regularized_model = Sequential([\n",
        "    Dense(1068, input_dim=n_inputs, kernel_regularizer=regularizers.l2(0.001), activation='relu'),\n",
        "    Dense(n_outputs)\n",
        "])\n",
        "histories['small_reg'] = compile_and_fit(model=small_regularized_model, \n",
        "                                                        name='small_regularized',\n",
        "                                                        max_epochs=1000, \n",
        "                                                        initial_lr=0.001,\n",
        "                                                        verbose=0)"
      ],
      "execution_count": 21,
      "outputs": [
        {
          "output_type": "stream",
          "text": [
            "Model: \"sequential_4\"\n",
            "_________________________________________________________________\n",
            "Layer (type)                 Output Shape              Param #   \n",
            "=================================================================\n",
            "dense_7 (Dense)              (None, 1068)              1141692   \n",
            "_________________________________________________________________\n",
            "dense_8 (Dense)              (None, 1068)              1141692   \n",
            "=================================================================\n",
            "Total params: 2,283,384\n",
            "Trainable params: 2,283,384\n",
            "Non-trainable params: 0\n",
            "_________________________________________________________________\n",
            "Epoch 00070: early stopping\n",
            "Evaluation on test set:\n",
            "6/6 [==============================] - 0s 4ms/step - loss: 0.2521\n"
          ],
          "name": "stdout"
        }
      ]
    },
    {
      "cell_type": "code",
      "metadata": {
        "colab": {
          "base_uri": "https://localhost:8080/"
        },
        "id": "MrUfrVJlWAiv",
        "outputId": "0d3b972c-030d-49dc-f7bf-0de4d143b460"
      },
      "source": [
        "small_regularized_model_2 = Sequential([\n",
        "    Dense(1068, input_dim=n_inputs, kernel_regularizer=regularizers.l2(0.05), activation='relu'),\n",
        "    Dense(n_outputs)\n",
        "])\n",
        "histories['small_reg_2'] = compile_and_fit(model=small_regularized_model, \n",
        "                                                        name='small_regularized_2',\n",
        "                                                        max_epochs=1000, \n",
        "                                                        initial_lr=0.001,\n",
        "                                                        verbose=0)"
      ],
      "execution_count": 25,
      "outputs": [
        {
          "output_type": "stream",
          "text": [
            "Model: \"sequential_4\"\n",
            "_________________________________________________________________\n",
            "Layer (type)                 Output Shape              Param #   \n",
            "=================================================================\n",
            "dense_7 (Dense)              (None, 1068)              1141692   \n",
            "_________________________________________________________________\n",
            "dense_8 (Dense)              (None, 1068)              1141692   \n",
            "=================================================================\n",
            "Total params: 2,283,384\n",
            "Trainable params: 2,283,384\n",
            "Non-trainable params: 0\n",
            "_________________________________________________________________\n",
            "Epoch 00115: early stopping\n",
            "Evaluation on test set:\n",
            "6/6 [==============================] - 0s 4ms/step - loss: 0.2615\n"
          ],
          "name": "stdout"
        }
      ]
    },
    {
      "cell_type": "code",
      "metadata": {
        "colab": {
          "base_uri": "https://localhost:8080/",
          "height": 844
        },
        "id": "JiNRJTZielHn",
        "outputId": "18967fc8-a714-4bea-9b7e-bb586953f49d"
      },
      "source": [
        "plotter = tfdocs.plots.HistoryPlotter(metric = 'loss', smoothing_std=10)\n",
        "\n",
        "plt.figure(figsize = (20,14))\n",
        "\n",
        "plotter.plot(histories)\n",
        "a = plt.xscale('log')\n",
        "plt.xlim([5, max(plt.xlim())])\n",
        "plt.ylim([0.2, 0.35])\n",
        "plt.xlabel(\"Epochs [Log Scale]\")"
      ],
      "execution_count": 46,
      "outputs": [
        {
          "output_type": "execute_result",
          "data": {
            "text/plain": [
              "Text(0.5, 0, 'Epochs [Log Scale]')"
            ]
          },
          "metadata": {
            "tags": []
          },
          "execution_count": 46
        },
        {
          "output_type": "display_data",
          "data": {
            "image/png": "[encoded data removed]",
            "text/plain": [
              "<Figure size 1440x1008 with 1 Axes>"
            ]
          },
          "metadata": {
            "tags": [],
            "needs_background": "light"
          }
        }
      ]
    },
    {
      "cell_type": "markdown",
      "metadata": {
        "id": "EUXktSwc44fC"
      },
      "source": [
        "The medium model with dropout and regularization performed the best so far"
      ]
    },
    {
      "cell_type": "markdown",
      "metadata": {
        "id": "KmSEYDu04_t2"
      },
      "source": [
        "## Bigger Models"
      ]
    },
    {
      "cell_type": "code",
      "metadata": {
        "id": "DX9bepCZi9Im"
      },
      "source": [
        "histories_big = {}"
      ],
      "execution_count": 48,
      "outputs": []
    },
    {
      "cell_type": "code",
      "metadata": {
        "colab": {
          "base_uri": "https://localhost:8080/"
        },
        "id": "1_7QalFMW01_",
        "outputId": "9ab6bbde-9338-49b2-df5c-e5405ede6b8c"
      },
      "source": [
        "large_regularized_model = Sequential([\n",
        "    Dense(1068, input_dim=n_inputs, kernel_regularizer=regularizers.l2(0.001), activation='relu'),\n",
        "    Dense(2136, kernel_regularizer=regularizers.l2(0.001), activation='relu'),\n",
        "    Dense(1068, kernel_regularizer=regularizers.l2(0.001), activation='relu'),\n",
        "    Dense(n_outputs)\n",
        "])\n",
        "histories_big['large_reg'] = compile_and_fit(model=large_regularized_model, \n",
        "                                                        name='large_reg',\n",
        "                                                        max_epochs=1000, \n",
        "                                                        initial_lr=0.001,\n",
        "                                                        verbose=0)"
      ],
      "execution_count": 49,
      "outputs": [
        {
          "output_type": "stream",
          "text": [
            "Model: \"sequential_22\"\n",
            "_________________________________________________________________\n",
            "Layer (type)                 Output Shape              Param #   \n",
            "=================================================================\n",
            "dense_61 (Dense)             (None, 1068)              1141692   \n",
            "_________________________________________________________________\n",
            "dense_62 (Dense)             (None, 2136)              2283384   \n",
            "_________________________________________________________________\n",
            "dense_63 (Dense)             (None, 1068)              2282316   \n",
            "_________________________________________________________________\n",
            "dense_64 (Dense)             (None, 1068)              1141692   \n",
            "=================================================================\n",
            "Total params: 6,849,084\n",
            "Trainable params: 6,849,084\n",
            "Non-trainable params: 0\n",
            "_________________________________________________________________\n",
            "Epoch 00211: early stopping\n",
            "Evaluation on test set:\n",
            "6/6 [==============================] - 0s 4ms/step - loss: 0.2334\n"
          ],
          "name": "stdout"
        }
      ]
    },
    {
      "cell_type": "code",
      "metadata": {
        "colab": {
          "base_uri": "https://localhost:8080/"
        },
        "id": "KceozkrtXJdF",
        "outputId": "0197d11c-ec06-40de-e4ae-5335b1f53bf4"
      },
      "source": [
        "large_regularized_drop_model = Sequential([\n",
        "    Dense(1068, input_dim=n_inputs, kernel_regularizer=regularizers.l2(0.001), activation='relu'),\n",
        "    Dense(2136, kernel_regularizer=regularizers.l2(0.001), activation='relu'),\n",
        "    Dropout(0.5),\n",
        "    Dense(1068, kernel_regularizer=regularizers.l2(0.001), activation='relu'),\n",
        "    Dropout(0.5),\n",
        "    Dense(n_outputs)\n",
        "])\n",
        "histories_big['large_reg_dropout'] = compile_and_fit(model=large_regularized_drop_model, \n",
        "                                                        name='large_reg_dropout',\n",
        "                                                        max_epochs=1000, \n",
        "                                                        initial_lr=0.001,\n",
        "                                                        verbose=0)"
      ],
      "execution_count": 50,
      "outputs": [
        {
          "output_type": "stream",
          "text": [
            "Model: \"sequential_23\"\n",
            "_________________________________________________________________\n",
            "Layer (type)                 Output Shape              Param #   \n",
            "=================================================================\n",
            "dense_65 (Dense)             (None, 1068)              1141692   \n",
            "_________________________________________________________________\n",
            "dense_66 (Dense)             (None, 2136)              2283384   \n",
            "_________________________________________________________________\n",
            "dropout_12 (Dropout)         (None, 2136)              0         \n",
            "_________________________________________________________________\n",
            "dense_67 (Dense)             (None, 1068)              2282316   \n",
            "_________________________________________________________________\n",
            "dropout_13 (Dropout)         (None, 1068)              0         \n",
            "_________________________________________________________________\n",
            "dense_68 (Dense)             (None, 1068)              1141692   \n",
            "=================================================================\n",
            "Total params: 6,849,084\n",
            "Trainable params: 6,849,084\n",
            "Non-trainable params: 0\n",
            "_________________________________________________________________\n",
            "Epoch 00175: early stopping\n",
            "Evaluation on test set:\n",
            "6/6 [==============================] - 0s 4ms/step - loss: 0.2332\n"
          ],
          "name": "stdout"
        }
      ]
    },
    {
      "cell_type": "code",
      "metadata": {
        "colab": {
          "base_uri": "https://localhost:8080/"
        },
        "id": "IM_GV862IgCo",
        "outputId": "bb3ac0b2-7337-42f8-cf79-b11ac109cb83"
      },
      "source": [
        "huge_regularize_dropout_model = Sequential([\n",
        "    Dense(2000, input_dim=n_inputs, kernel_regularizer=regularizers.l2(0.001), activation='relu'),\n",
        "    Dense(4000, kernel_regularizer=regularizers.l2(0.001), activation='relu'),\n",
        "    Dropout(0.5),\n",
        "    Dense(8000, kernel_regularizer=regularizers.l2(0.001), activation='relu'),\n",
        "    Dropout(0.5),\n",
        "    Dense(4000, kernel_regularizer=regularizers.l2(0.001), activation='relu'),\n",
        "    Dropout(0.5),\n",
        "    Dense(2000, kernel_regularizer=regularizers.l2(0.001), activation='relu'),\n",
        "    Dropout(0.5),\n",
        "    Dense(1068, kernel_regularizer=regularizers.l2(0.001), activation='relu'),\n",
        "    Dense(n_outputs)\n",
        "])\n",
        "histories_big['huge_regularized_dropout'] = compile_and_fit(model=huge_regularize_dropout_model, \n",
        "                                                        name='huge_regularized_dropout',\n",
        "                                                        max_epochs=1000, \n",
        "                                                        initial_lr=0.001,\n",
        "                                                        verbose=2)"
      ],
      "execution_count": 51,
      "outputs": [
        {
          "output_type": "stream",
          "text": [
            "Model: \"sequential_24\"\n",
            "_________________________________________________________________\n",
            "Layer (type)                 Output Shape              Param #   \n",
            "=================================================================\n",
            "dense_69 (Dense)             (None, 2000)              2138000   \n",
            "_________________________________________________________________\n",
            "dense_70 (Dense)             (None, 4000)              8004000   \n",
            "_________________________________________________________________\n",
            "dropout_14 (Dropout)         (None, 4000)              0         \n",
            "_________________________________________________________________\n",
            "dense_71 (Dense)             (None, 8000)              32008000  \n",
            "_________________________________________________________________\n",
            "dropout_15 (Dropout)         (None, 8000)              0         \n",
            "_________________________________________________________________\n",
            "dense_72 (Dense)             (None, 4000)              32004000  \n",
            "_________________________________________________________________\n",
            "dropout_16 (Dropout)         (None, 4000)              0         \n",
            "_________________________________________________________________\n",
            "dense_73 (Dense)             (None, 2000)              8002000   \n",
            "_________________________________________________________________\n",
            "dropout_17 (Dropout)         (None, 2000)              0         \n",
            "_________________________________________________________________\n",
            "dense_74 (Dense)             (None, 1068)              2137068   \n",
            "_________________________________________________________________\n",
            "dense_75 (Dense)             (None, 1068)              1141692   \n",
            "=================================================================\n",
            "Total params: 85,434,760\n",
            "Trainable params: 85,434,760\n",
            "Non-trainable params: 0\n",
            "_________________________________________________________________\n",
            "Epoch 1/1000\n",
            "44/44 - 4s - loss: 6.7179 - val_loss: 1.9109\n",
            "Epoch 2/1000\n",
            "44/44 - 3s - loss: 1.1835 - val_loss: 0.7010\n",
            "Epoch 3/1000\n",
            "44/44 - 3s - loss: 0.5536 - val_loss: 0.4194\n",
            "Epoch 4/1000\n",
            "44/44 - 3s - loss: 0.3801 - val_loss: 0.3253\n",
            "Epoch 5/1000\n",
            "44/44 - 3s - loss: 0.3163 - val_loss: 0.2849\n",
            "Epoch 6/1000\n",
            "44/44 - 3s - loss: 0.2870 - val_loss: 0.2654\n",
            "Epoch 7/1000\n",
            "44/44 - 3s - loss: 0.2717 - val_loss: 0.2551\n",
            "Epoch 8/1000\n",
            "44/44 - 3s - loss: 0.2636 - val_loss: 0.2482\n",
            "Epoch 9/1000\n",
            "44/44 - 3s - loss: 0.2586 - val_loss: 0.2445\n",
            "Epoch 10/1000\n",
            "44/44 - 3s - loss: 0.2550 - val_loss: 0.2426\n",
            "Epoch 11/1000\n",
            "44/44 - 3s - loss: 0.2522 - val_loss: 0.2405\n",
            "Epoch 12/1000\n",
            "44/44 - 3s - loss: 0.2506 - val_loss: 0.2400\n",
            "Epoch 13/1000\n",
            "44/44 - 3s - loss: 0.2493 - val_loss: 0.2377\n",
            "Epoch 14/1000\n",
            "44/44 - 3s - loss: 0.2483 - val_loss: 0.2374\n",
            "Epoch 15/1000\n",
            "44/44 - 3s - loss: 0.2476 - val_loss: 0.2369\n",
            "Epoch 16/1000\n",
            "44/44 - 3s - loss: 0.2471 - val_loss: 0.2369\n",
            "Epoch 17/1000\n",
            "44/44 - 3s - loss: 0.2464 - val_loss: 0.2369\n",
            "Epoch 18/1000\n",
            "44/44 - 3s - loss: 0.2461 - val_loss: 0.2361\n",
            "Epoch 19/1000\n",
            "44/44 - 3s - loss: 0.2457 - val_loss: 0.2354\n",
            "Epoch 20/1000\n",
            "44/44 - 3s - loss: 0.2456 - val_loss: 0.2352\n",
            "Epoch 21/1000\n",
            "44/44 - 3s - loss: 0.2452 - val_loss: 0.2351\n",
            "Epoch 22/1000\n",
            "44/44 - 3s - loss: 0.2447 - val_loss: 0.2349\n",
            "Epoch 23/1000\n",
            "44/44 - 3s - loss: 0.2447 - val_loss: 0.2349\n",
            "Epoch 24/1000\n",
            "44/44 - 3s - loss: 0.2447 - val_loss: 0.2349\n",
            "Epoch 25/1000\n",
            "44/44 - 3s - loss: 0.2442 - val_loss: 0.2344\n",
            "Epoch 26/1000\n",
            "44/44 - 3s - loss: 0.2441 - val_loss: 0.2346\n",
            "Epoch 27/1000\n",
            "44/44 - 3s - loss: 0.2441 - val_loss: 0.2351\n",
            "Epoch 28/1000\n",
            "44/44 - 3s - loss: 0.2441 - val_loss: 0.2336\n",
            "Epoch 29/1000\n",
            "44/44 - 3s - loss: 0.2440 - val_loss: 0.2344\n",
            "Epoch 30/1000\n",
            "44/44 - 3s - loss: 0.2437 - val_loss: 0.2337\n",
            "Epoch 31/1000\n",
            "44/44 - 3s - loss: 0.2435 - val_loss: 0.2339\n",
            "Epoch 32/1000\n",
            "44/44 - 3s - loss: 0.2435 - val_loss: 0.2340\n",
            "Epoch 33/1000\n",
            "44/44 - 3s - loss: 0.2435 - val_loss: 0.2336\n",
            "Epoch 34/1000\n",
            "44/44 - 3s - loss: 0.2432 - val_loss: 0.2340\n",
            "Epoch 35/1000\n",
            "44/44 - 3s - loss: 0.2434 - val_loss: 0.2331\n",
            "Epoch 36/1000\n",
            "44/44 - 3s - loss: 0.2430 - val_loss: 0.2336\n",
            "Epoch 37/1000\n",
            "44/44 - 3s - loss: 0.2430 - val_loss: 0.2340\n",
            "Epoch 38/1000\n",
            "44/44 - 3s - loss: 0.2430 - val_loss: 0.2335\n",
            "Epoch 39/1000\n",
            "44/44 - 3s - loss: 0.2428 - val_loss: 0.2337\n",
            "Epoch 40/1000\n",
            "44/44 - 3s - loss: 0.2429 - val_loss: 0.2334\n",
            "Epoch 41/1000\n",
            "44/44 - 3s - loss: 0.2428 - val_loss: 0.2329\n",
            "Epoch 42/1000\n",
            "44/44 - 3s - loss: 0.2427 - val_loss: 0.2334\n",
            "Epoch 43/1000\n",
            "44/44 - 3s - loss: 0.2426 - val_loss: 0.2341\n",
            "Epoch 44/1000\n",
            "44/44 - 3s - loss: 0.2426 - val_loss: 0.2336\n",
            "Epoch 45/1000\n",
            "44/44 - 3s - loss: 0.2426 - val_loss: 0.2337\n",
            "Epoch 46/1000\n",
            "44/44 - 3s - loss: 0.2426 - val_loss: 0.2334\n",
            "Epoch 47/1000\n",
            "44/44 - 3s - loss: 0.2425 - val_loss: 0.2334\n",
            "Epoch 48/1000\n",
            "44/44 - 3s - loss: 0.2425 - val_loss: 0.2329\n",
            "Epoch 49/1000\n",
            "44/44 - 3s - loss: 0.2424 - val_loss: 0.2333\n",
            "Epoch 50/1000\n",
            "44/44 - 3s - loss: 0.2423 - val_loss: 0.2329\n",
            "Epoch 51/1000\n",
            "44/44 - 3s - loss: 0.2423 - val_loss: 0.2329\n",
            "Epoch 52/1000\n",
            "44/44 - 3s - loss: 0.2422 - val_loss: 0.2333\n",
            "Epoch 53/1000\n",
            "44/44 - 3s - loss: 0.2423 - val_loss: 0.2332\n",
            "Epoch 54/1000\n",
            "44/44 - 3s - loss: 0.2422 - val_loss: 0.2327\n",
            "Epoch 55/1000\n",
            "44/44 - 3s - loss: 0.2422 - val_loss: 0.2332\n",
            "Epoch 56/1000\n",
            "44/44 - 3s - loss: 0.2420 - val_loss: 0.2325\n",
            "Epoch 57/1000\n",
            "44/44 - 3s - loss: 0.2421 - val_loss: 0.2325\n",
            "Epoch 58/1000\n",
            "44/44 - 3s - loss: 0.2421 - val_loss: 0.2324\n",
            "Epoch 59/1000\n",
            "44/44 - 3s - loss: 0.2420 - val_loss: 0.2327\n",
            "Epoch 60/1000\n",
            "44/44 - 3s - loss: 0.2421 - val_loss: 0.2327\n",
            "Epoch 61/1000\n",
            "44/44 - 3s - loss: 0.2420 - val_loss: 0.2327\n",
            "Epoch 62/1000\n",
            "44/44 - 3s - loss: 0.2419 - val_loss: 0.2327\n",
            "Epoch 63/1000\n",
            "44/44 - 3s - loss: 0.2420 - val_loss: 0.2326\n",
            "Epoch 64/1000\n",
            "44/44 - 3s - loss: 0.2420 - val_loss: 0.2327\n",
            "Epoch 65/1000\n",
            "44/44 - 3s - loss: 0.2419 - val_loss: 0.2325\n",
            "Epoch 66/1000\n",
            "44/44 - 3s - loss: 0.2419 - val_loss: 0.2327\n",
            "Epoch 67/1000\n",
            "44/44 - 3s - loss: 0.2419 - val_loss: 0.2323\n",
            "Epoch 68/1000\n",
            "44/44 - 3s - loss: 0.2417 - val_loss: 0.2327\n",
            "Epoch 69/1000\n",
            "44/44 - 3s - loss: 0.2418 - val_loss: 0.2326\n",
            "Epoch 70/1000\n",
            "44/44 - 3s - loss: 0.2417 - val_loss: 0.2322\n",
            "Epoch 71/1000\n",
            "44/44 - 3s - loss: 0.2416 - val_loss: 0.2324\n",
            "Epoch 72/1000\n",
            "44/44 - 3s - loss: 0.2417 - val_loss: 0.2327\n",
            "Epoch 73/1000\n",
            "44/44 - 3s - loss: 0.2417 - val_loss: 0.2326\n",
            "Epoch 74/1000\n",
            "44/44 - 3s - loss: 0.2417 - val_loss: 0.2323\n",
            "Epoch 75/1000\n",
            "44/44 - 3s - loss: 0.2417 - val_loss: 0.2324\n",
            "Epoch 76/1000\n",
            "44/44 - 3s - loss: 0.2417 - val_loss: 0.2325\n",
            "Epoch 77/1000\n",
            "44/44 - 3s - loss: 0.2417 - val_loss: 0.2323\n",
            "Epoch 78/1000\n",
            "44/44 - 3s - loss: 0.2416 - val_loss: 0.2324\n",
            "Epoch 79/1000\n",
            "44/44 - 3s - loss: 0.2416 - val_loss: 0.2323\n",
            "Epoch 80/1000\n",
            "44/44 - 3s - loss: 0.2416 - val_loss: 0.2321\n",
            "Epoch 81/1000\n",
            "44/44 - 3s - loss: 0.2416 - val_loss: 0.2323\n",
            "Epoch 82/1000\n",
            "44/44 - 3s - loss: 0.2415 - val_loss: 0.2326\n",
            "Epoch 83/1000\n",
            "44/44 - 3s - loss: 0.2415 - val_loss: 0.2323\n",
            "Epoch 84/1000\n",
            "44/44 - 3s - loss: 0.2415 - val_loss: 0.2323\n",
            "Epoch 85/1000\n",
            "44/44 - 3s - loss: 0.2415 - val_loss: 0.2325\n",
            "Epoch 86/1000\n",
            "44/44 - 3s - loss: 0.2415 - val_loss: 0.2323\n",
            "Epoch 87/1000\n",
            "44/44 - 3s - loss: 0.2415 - val_loss: 0.2323\n",
            "Epoch 88/1000\n",
            "44/44 - 3s - loss: 0.2414 - val_loss: 0.2322\n",
            "Epoch 89/1000\n",
            "44/44 - 3s - loss: 0.2414 - val_loss: 0.2322\n",
            "Epoch 90/1000\n",
            "44/44 - 3s - loss: 0.2414 - val_loss: 0.2321\n",
            "Epoch 91/1000\n",
            "44/44 - 3s - loss: 0.2414 - val_loss: 0.2328\n",
            "Epoch 92/1000\n",
            "44/44 - 3s - loss: 0.2414 - val_loss: 0.2318\n",
            "Epoch 93/1000\n",
            "44/44 - 3s - loss: 0.2413 - val_loss: 0.2324\n",
            "Epoch 94/1000\n",
            "44/44 - 3s - loss: 0.2413 - val_loss: 0.2323\n",
            "Epoch 95/1000\n",
            "44/44 - 3s - loss: 0.2414 - val_loss: 0.2320\n",
            "Epoch 96/1000\n",
            "44/44 - 3s - loss: 0.2414 - val_loss: 0.2325\n",
            "Epoch 97/1000\n",
            "44/44 - 3s - loss: 0.2414 - val_loss: 0.2325\n",
            "Epoch 98/1000\n",
            "44/44 - 3s - loss: 0.2413 - val_loss: 0.2322\n",
            "Epoch 99/1000\n",
            "44/44 - 3s - loss: 0.2413 - val_loss: 0.2322\n",
            "Epoch 100/1000\n",
            "44/44 - 3s - loss: 0.2413 - val_loss: 0.2320\n",
            "Epoch 101/1000\n",
            "44/44 - 3s - loss: 0.2414 - val_loss: 0.2323\n",
            "Epoch 102/1000\n",
            "44/44 - 3s - loss: 0.2413 - val_loss: 0.2324\n",
            "Epoch 103/1000\n",
            "44/44 - 3s - loss: 0.2413 - val_loss: 0.2321\n",
            "Epoch 104/1000\n",
            "44/44 - 3s - loss: 0.2412 - val_loss: 0.2323\n",
            "Epoch 105/1000\n",
            "44/44 - 3s - loss: 0.2412 - val_loss: 0.2323\n",
            "Epoch 106/1000\n",
            "44/44 - 3s - loss: 0.2412 - val_loss: 0.2323\n",
            "Epoch 107/1000\n",
            "44/44 - 3s - loss: 0.2412 - val_loss: 0.2320\n",
            "Epoch 108/1000\n",
            "44/44 - 3s - loss: 0.2412 - val_loss: 0.2321\n",
            "Epoch 109/1000\n",
            "44/44 - 3s - loss: 0.2412 - val_loss: 0.2322\n",
            "Epoch 110/1000\n",
            "44/44 - 3s - loss: 0.2412 - val_loss: 0.2321\n",
            "Epoch 111/1000\n",
            "44/44 - 3s - loss: 0.2411 - val_loss: 0.2323\n",
            "Epoch 112/1000\n",
            "44/44 - 3s - loss: 0.2412 - val_loss: 0.2321\n",
            "Epoch 113/1000\n",
            "44/44 - 3s - loss: 0.2413 - val_loss: 0.2320\n",
            "Epoch 114/1000\n",
            "44/44 - 3s - loss: 0.2412 - val_loss: 0.2321\n",
            "Epoch 115/1000\n",
            "44/44 - 3s - loss: 0.2412 - val_loss: 0.2321\n",
            "Epoch 116/1000\n",
            "44/44 - 3s - loss: 0.2411 - val_loss: 0.2320\n",
            "Epoch 117/1000\n",
            "44/44 - 3s - loss: 0.2411 - val_loss: 0.2321\n",
            "Epoch 118/1000\n",
            "44/44 - 3s - loss: 0.2411 - val_loss: 0.2321\n",
            "Epoch 119/1000\n",
            "44/44 - 3s - loss: 0.2411 - val_loss: 0.2321\n",
            "Epoch 120/1000\n",
            "44/44 - 3s - loss: 0.2411 - val_loss: 0.2323\n",
            "Epoch 121/1000\n",
            "44/44 - 3s - loss: 0.2412 - val_loss: 0.2322\n",
            "Epoch 122/1000\n",
            "44/44 - 3s - loss: 0.2411 - val_loss: 0.2321\n",
            "Epoch 123/1000\n",
            "44/44 - 3s - loss: 0.2411 - val_loss: 0.2321\n",
            "Epoch 124/1000\n",
            "44/44 - 3s - loss: 0.2410 - val_loss: 0.2322\n",
            "Epoch 125/1000\n",
            "44/44 - 3s - loss: 0.2410 - val_loss: 0.2319\n",
            "Epoch 126/1000\n",
            "44/44 - 3s - loss: 0.2410 - val_loss: 0.2319\n",
            "Epoch 127/1000\n",
            "44/44 - 3s - loss: 0.2411 - val_loss: 0.2324\n",
            "Epoch 128/1000\n",
            "44/44 - 3s - loss: 0.2411 - val_loss: 0.2321\n",
            "Epoch 129/1000\n",
            "44/44 - 3s - loss: 0.2410 - val_loss: 0.2322\n",
            "Epoch 130/1000\n",
            "44/44 - 3s - loss: 0.2411 - val_loss: 0.2320\n",
            "Epoch 131/1000\n",
            "44/44 - 3s - loss: 0.2410 - val_loss: 0.2320\n",
            "Epoch 132/1000\n",
            "44/44 - 3s - loss: 0.2410 - val_loss: 0.2320\n",
            "Epoch 133/1000\n",
            "44/44 - 3s - loss: 0.2410 - val_loss: 0.2323\n",
            "Epoch 134/1000\n",
            "44/44 - 3s - loss: 0.2410 - val_loss: 0.2321\n",
            "Epoch 135/1000\n",
            "44/44 - 3s - loss: 0.2409 - val_loss: 0.2320\n",
            "Epoch 136/1000\n",
            "44/44 - 3s - loss: 0.2410 - val_loss: 0.2319\n",
            "Epoch 137/1000\n",
            "44/44 - 3s - loss: 0.2408 - val_loss: 0.2322\n",
            "Epoch 138/1000\n",
            "44/44 - 3s - loss: 0.2409 - val_loss: 0.2319\n",
            "Epoch 139/1000\n",
            "44/44 - 3s - loss: 0.2409 - val_loss: 0.2322\n",
            "Epoch 140/1000\n",
            "44/44 - 3s - loss: 0.2410 - val_loss: 0.2322\n",
            "Epoch 141/1000\n",
            "44/44 - 3s - loss: 0.2409 - val_loss: 0.2322\n",
            "Epoch 142/1000\n",
            "44/44 - 3s - loss: 0.2409 - val_loss: 0.2320\n",
            "Epoch 00142: early stopping\n",
            "Evaluation on test set:\n",
            "6/6 [==============================] - 0s 18ms/step - loss: 0.2345\n"
          ],
          "name": "stdout"
        }
      ]
    },
    {
      "cell_type": "code",
      "metadata": {
        "colab": {
          "base_uri": "https://localhost:8080/"
        },
        "id": "54XOB_I5nTLU",
        "outputId": "80eccc53-5096-476e-a818-31abf97da03a"
      },
      "source": [
        "histories"
      ],
      "execution_count": 56,
      "outputs": [
        {
          "output_type": "execute_result",
          "data": {
            "text/plain": [
              "{'linear': <tensorflow.python.keras.callbacks.History at 0x7f55f023d890>,\n",
              " 'medium_dropout_regularized': <tensorflow.python.keras.callbacks.History at 0x7f55a459c1d0>,\n",
              " 'medium_model': <tensorflow.python.keras.callbacks.History at 0x7f55b824a090>,\n",
              " 'medium_model_dropout': <tensorflow.python.keras.callbacks.History at 0x7f55a44d19d0>,\n",
              " 'medium_model_reg': <tensorflow.python.keras.callbacks.History at 0x7f55a46f7ad0>,\n",
              " 'small_reg': <tensorflow.python.keras.callbacks.History at 0x7f55de155450>,\n",
              " 'small_reg_2': <tensorflow.python.keras.callbacks.History at 0x7f55da4cd850>,\n",
              " 'tanh_peceptron': <tensorflow.python.keras.callbacks.History at 0x7f55b83b0b50>}"
            ]
          },
          "metadata": {
            "tags": []
          },
          "execution_count": 56
        }
      ]
    },
    {
      "cell_type": "code",
      "metadata": {
        "id": "EFQLc5dFik4k"
      },
      "source": [
        "histories_big['medium_model_reg'] = histories['medium_model_reg']"
      ],
      "execution_count": 57,
      "outputs": []
    },
    {
      "cell_type": "code",
      "metadata": {
        "colab": {
          "base_uri": "https://localhost:8080/",
          "height": 848
        },
        "id": "9UhS8mzXYh7K",
        "outputId": "3570ddd7-355c-42f9-deac-be15f6496b09"
      },
      "source": [
        "plotter = tfdocs.plots.HistoryPlotter(metric = 'loss', smoothing_std=10)\n",
        "\n",
        "plt.figure(figsize = (20,14))\n",
        "\n",
        "plotter.plot(histories_big)\n",
        "a = plt.xscale('log')\n",
        "plt.xlim([5, max(plt.xlim())])\n",
        "plt.ylim([0.22, 0.3])\n",
        "plt.xlabel(\"Epochs [Log Scale]\")"
      ],
      "execution_count": 58,
      "outputs": [
        {
          "output_type": "execute_result",
          "data": {
            "text/plain": [
              "Text(0.5, 0, 'Epochs [Log Scale]')"
            ]
          },
          "metadata": {
            "tags": []
          },
          "execution_count": 58
        },
        {
          "output_type": "display_data",
          "data": {
            "image/png": "[encoded data removed]",
            "text/plain": [
              "<Figure size 1440x1008 with 1 Axes>"
            ]
          },
          "metadata": {
            "tags": [],
            "needs_background": "light"
          }
        }
      ]
    },
    {
      "cell_type": "markdown",
      "metadata": {
        "id": "3DSEI5Ft5R7p"
      },
      "source": [
        "Despite being way bigger than the medium model the huge model perform no better. I think this implies that the problem is only solvable to this degree with the information I'm giving the model."
      ]
    },
    {
      "cell_type": "code",
      "metadata": {
        "id": "3Qzz2yDyYRJL"
      },
      "source": [
        "medium_model_regularized.save('med_l2reg.h5')"
      ],
      "execution_count": 20,
      "outputs": []
    },
    {
      "cell_type": "markdown",
      "metadata": {
        "id": "z5SyxNL9BdDQ"
      },
      "source": [
        "# Expirement with our model"
      ]
    },
    {
      "cell_type": "code",
      "metadata": {
        "id": "Jfu_gI7L2wKE"
      },
      "source": [
        "model = medium_model_regularized\n"
      ],
      "execution_count": 59,
      "outputs": []
    },
    {
      "cell_type": "markdown",
      "metadata": {
        "id": "ib4vGAiNBsR5"
      },
      "source": [
        "## Function to print the output of a single prediction"
      ]
    },
    {
      "cell_type": "code",
      "metadata": {
        "id": "REsqK-E-Bzh0"
      },
      "source": [
        "def print_prediction(example, players_list, model):\n",
        "    player_indices = [i for i, x in enumerate(example) if x == 1]\n",
        "    example_formatted = np.asarray([example])\n",
        "    pred = model.predict(example_formatted)\n",
        "\n",
        "    relevent_preds = np.zeros(10)\n",
        "\n",
        "    print(\"Team 1:\")\n",
        "    for i, player  in enumerate(player_indices):\n",
        "        if player >= len(players_list): player =player - len(players_list)\n",
        "        print(f'{players_list[player]:10} {round(pred[0][player], 2):.2f}')\n",
        "        relevent_preds[i] = round(pred[0][player], 2) \n",
        "        if i == 4:\n",
        "            print(\"Agregate Rating:\", round(np.sum(relevent_preds[0:5]), 2))\n",
        "            print(\"Team 2:\")\n",
        "        if i == 9:\n",
        "            print(\"Agregate Rating:\", round(np.sum(relevent_preds[5:10]), 2))\n"
      ],
      "execution_count": 60,
      "outputs": []
    },
    {
      "cell_type": "markdown",
      "metadata": {
        "id": "uepOojoRB5YI"
      },
      "source": [
        "## Predict on some games"
      ]
    },
    {
      "cell_type": "code",
      "metadata": {
        "id": "tPB6lqfwCAMy"
      },
      "source": [
        "hypothetical = create_example(['EliGE', 'Stewie2K', 'Grim', 'FalleN', 'NAF'], ['device', 'Xyp9x', 'Magisk', 'dupreeh', 'gla1ve'], players_list)\n"
      ],
      "execution_count": 61,
      "outputs": []
    },
    {
      "cell_type": "code",
      "metadata": {
        "colab": {
          "base_uri": "https://localhost:8080/"
        },
        "id": "FL6Xn0K4CFGp",
        "outputId": "34a129ba-81f6-4522-e4c6-cee9a1a9f073"
      },
      "source": [
        "print_prediction(hypothetical, players_list, model)"
      ],
      "execution_count": 62,
      "outputs": [
        {
          "output_type": "stream",
          "text": [
            "Team 1:\n",
            "EliGE      1.03\n",
            "NAF        1.03\n",
            "Stewie2K   0.87\n",
            "FalleN     0.89\n",
            "Grim       0.93\n",
            "Agregate Rating: 4.75\n",
            "Team 2:\n",
            "device     1.21\n",
            "dupreeh    1.14\n",
            "Xyp9x      1.08\n",
            "gla1ve     1.04\n",
            "Magisk     1.13\n",
            "Agregate Rating: 5.6\n"
          ],
          "name": "stdout"
        }
      ]
    },
    {
      "cell_type": "markdown",
      "metadata": {
        "id": "wJib0ClhEQvu"
      },
      "source": [
        "Let's compare these results to a real game played between these two teams that happened after I collected the training data (the model hasn't seen this game):\n",
        "\n",
        "![liquid-vs-astralis-2.png](data:image/png;base64,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)\n",
        "![liquid-vs-astralis.png](data:image/png;base64,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)"
      ]
    },
    {
      "cell_type": "markdown",
      "metadata": {
        "id": "WOOlGimUFEcG"
      },
      "source": [
        "Well, it didn't do a fantastic job at predicting individual ratings here. But at least it knew device would do the best on Astralis. I guess its not surprising that the model doesn't predict super well on individual games since performance can vary so extremely from game to game (as exemplified by Stewie2K here)\n",
        "\n",
        "One thing it does get right is the winner of the game, if we assume that whoever has the higher agregate rating would win (It would be virtually impossible to win a CSGO game with a team that has a lower agregate rating, so this is a fair assumption)\n",
        "\n",
        "Lets check that the order of teams doesn't have too much of an effect on the results:"
      ]
    },
    {
      "cell_type": "code",
      "metadata": {
        "colab": {
          "base_uri": "https://localhost:8080/"
        },
        "id": "XJD5PKM1HeRQ",
        "outputId": "ea2322c8-487d-458a-fb89-cb4776a45640"
      },
      "source": [
        "hypothetical = create_example(['device', 'Xyp9x', 'Magisk', 'dupreeh', 'gla1ve'], ['EliGE', 'Stewie2K', 'Grim', 'FalleN', 'NAF'], players_list)\n",
        "print_prediction(hypothetical, players_list, model)"
      ],
      "execution_count": 63,
      "outputs": [
        {
          "output_type": "stream",
          "text": [
            "Team 1:\n",
            "device     1.21\n",
            "dupreeh    1.14\n",
            "Xyp9x      1.10\n",
            "gla1ve     1.05\n",
            "Magisk     1.14\n",
            "Agregate Rating: 5.64\n",
            "Team 2:\n",
            "EliGE      1.04\n",
            "NAF        1.04\n",
            "Stewie2K   0.88\n",
            "FalleN     0.90\n",
            "Grim       0.94\n",
            "Agregate Rating: 4.8\n"
          ],
          "name": "stdout"
        }
      ]
    },
    {
      "cell_type": "markdown",
      "metadata": {
        "id": "ydxVDAnRHX7w"
      },
      "source": [
        "So the order of the teams doesn't matter. That's good.\n",
        "\n",
        "## Old Astralis vs New Astralis\n",
        "\n",
        "Here's a hypothetical game that could never happen: 2016 Astralis vs current Astralis. Current Astralis is the most dominant CSGO roster of all time, so we would expect to see higher ratings accross the board for them, which we do. (They are team 2 here)."
      ]
    },
    {
      "cell_type": "code",
      "metadata": {
        "colab": {
          "base_uri": "https://localhost:8080/"
        },
        "id": "0eyQLE0mJTXt",
        "outputId": "757d9eaf-d6fe-424a-982f-559ed988cfd9"
      },
      "source": [
        "hypothetical = create_example(['device', 'Xyp9x', 'Kjaerbye', 'dupreeh', 'karrigan'], ['device', 'Xyp9x', 'Magisk', 'dupreeh', 'gla1ve'], players_list)\n",
        "print_prediction(hypothetical, players_list, model)"
      ],
      "execution_count": 64,
      "outputs": [
        {
          "output_type": "stream",
          "text": [
            "Team 1:\n",
            "karrigan   0.75\n",
            "device     1.15\n",
            "dupreeh    1.09\n",
            "Xyp9x      1.03\n",
            "Kjaerbye   0.83\n",
            "Agregate Rating: 4.85\n",
            "Team 2:\n",
            "device     1.15\n",
            "dupreeh    1.09\n",
            "Xyp9x      1.03\n",
            "gla1ve     0.99\n",
            "Magisk     1.08\n",
            "Agregate Rating: 5.34\n"
          ],
          "name": "stdout"
        }
      ]
    },
    {
      "cell_type": "markdown",
      "metadata": {
        "id": "S18DKMK-IbaV"
      },
      "source": [
        "Let's see how the model says each of these Astralis's would do against FaZe"
      ]
    },
    {
      "cell_type": "code",
      "metadata": {
        "colab": {
          "base_uri": "https://localhost:8080/"
        },
        "id": "OZMpaEd2CG34",
        "outputId": "58c6ed34-0cb7-491d-ed02-a23ffd2b345c"
      },
      "source": [
        "hypothetical = create_example(['device', 'Xyp9x', 'Kjaerbye', 'dupreeh', 'karrigan'], ['flamie', 's1mple', 'electronic', 'Boombl4', 'Perfecto'], players_list)\n",
        "print_prediction(hypothetical, players_list, model)"
      ],
      "execution_count": 65,
      "outputs": [
        {
          "output_type": "stream",
          "text": [
            "Team 1:\n",
            "karrigan   0.80\n",
            "device     1.20\n",
            "dupreeh    1.13\n",
            "Xyp9x      1.08\n",
            "Kjaerbye   0.87\n",
            "Agregate Rating: 5.08\n",
            "Team 2:\n",
            "s1mple     1.23\n",
            "flamie     0.92\n",
            "electronic 1.12\n",
            "Boombl4    0.97\n",
            "Perfecto   0.93\n",
            "Agregate Rating: 5.17\n"
          ],
          "name": "stdout"
        }
      ]
    },
    {
      "cell_type": "code",
      "metadata": {
        "colab": {
          "base_uri": "https://localhost:8080/"
        },
        "id": "VRdg3zPwHU49",
        "outputId": "8a907a82-5da1-4e23-99c2-6065b8e6d5cb"
      },
      "source": [
        "hypothetical = create_example(['device', 'Xyp9x', 'Magisk', 'dupreeh', 'gla1ve'], ['flamie', 's1mple', 'electronic', 'Boombl4', 'Perfecto'], players_list)\n",
        "print_prediction(hypothetical, players_list, model)"
      ],
      "execution_count": 66,
      "outputs": [
        {
          "output_type": "stream",
          "text": [
            "Team 1:\n",
            "device     1.14\n",
            "dupreeh    1.08\n",
            "Xyp9x      1.02\n",
            "gla1ve     0.98\n",
            "Magisk     1.07\n",
            "Agregate Rating: 5.29\n",
            "Team 2:\n",
            "s1mple     1.19\n",
            "flamie     0.88\n",
            "electronic 1.08\n",
            "Boombl4    0.95\n",
            "Perfecto   0.89\n",
            "Agregate Rating: 4.99\n"
          ],
          "name": "stdout"
        }
      ]
    },
    {
      "cell_type": "markdown",
      "metadata": {
        "id": "upJWS_9oJ1lG"
      },
      "source": [
        "The model says that Old Astralis loses to NaVi while New Astralis wins, which seems pretty much right to me. The model shows that niether device, dupreeh, or Xyp9x perform as well on new astralis, but the rest of the team performs better which more than makes up for it. \n",
        "\n",
        "Intuitively this seems right, as Astralis is known for dominating while no one player carries the game. Every player contributes so no individual needs to \"pop off\"."
      ]
    },
    {
      "cell_type": "code",
      "metadata": {
        "id": "Zha0pdJ6JLIe"
      },
      "source": [
        "#TODO\n",
        "# choose a player, hold opponents equal, then loop thru all possible teammates\n",
        "# to find best teammates.\n",
        "# hold 3 teammates equal to find best teammate\n"
      ],
      "execution_count": 67,
      "outputs": []
    },
    {
      "cell_type": "code",
      "metadata": {
        "colab": {
          "base_uri": "https://localhost:8080/"
        },
        "id": "sQy9PFaYQpB7",
        "outputId": "fb087bd8-2bcd-41ce-d883-0278c8a9d12d"
      },
      "source": [
        "example = create_example(['flamie', 's1mple', 'electronic', 'Boombl4', 'Perfecto'], \n",
        "                         ['ZywOo'], players_list)\n",
        "print_prediction(example, players_list, model)"
      ],
      "execution_count": 69,
      "outputs": [
        {
          "output_type": "stream",
          "text": [
            "Team 1:\n",
            "s1mple     1.33\n",
            "flamie     1.05\n",
            "electronic 1.19\n",
            "Boombl4    0.96\n",
            "Perfecto   1.03\n",
            "Agregate Rating: 5.56\n",
            "Team 2:\n",
            "ZywOo      1.24\n"
          ],
          "name": "stdout"
        }
      ]
    },
    {
      "cell_type": "code",
      "metadata": {
        "colab": {
          "base_uri": "https://localhost:8080/"
        },
        "id": "NzMrPQl_f_Ra",
        "outputId": "2ab7c978-bdb4-4d69-caf5-69221263d163"
      },
      "source": [
        "example = create_example([], \n",
        "                         ['karrigan'], players_list)\n",
        "print_prediction(example, players_list, model)"
      ],
      "execution_count": 70,
      "outputs": [
        {
          "output_type": "stream",
          "text": [
            "Team 1:\n",
            "karrigan   1.11\n"
          ],
          "name": "stdout"
        }
      ]
    },
    {
      "cell_type": "code",
      "metadata": {
        "id": "RFSLTrBkiTwu"
      },
      "source": [
        "def find_best_teammate(player, player_list, model, min_games_together=10):\n",
        "  from json_functions import get_teammates\n",
        "  teammates = get_teammates(player, \"very-big.json\", min_games_together)\n",
        "  \n",
        "  player_index = player_list.index(player)\n",
        "  from json_functions import create_example\n",
        "  best_rating = 0\n",
        "  best_teammate = 'none'\n",
        "\n",
        "  avg_rating = 0\n",
        "  \n",
        "  for teammate in teammates:\n",
        "    if player != teammate:\n",
        "      example = create_example([player, teammate], [], player_list)\n",
        "      pred_rating = model.predict(np.asarray([example]))[0][player_index]\n",
        "      avg_rating += pred_rating\n",
        "      if pred_rating > best_rating:\n",
        "        best_rating = pred_rating\n",
        "        best_teammate = teammate\n",
        "  avg_rating = avg_rating/len(teammates)\n",
        "  return best_teammate, best_rating, avg_rating"
      ],
      "execution_count": 71,
      "outputs": []
    },
    {
      "cell_type": "code",
      "metadata": {
        "colab": {
          "base_uri": "https://localhost:8080/"
        },
        "id": "UQYdnAic_2Wm",
        "outputId": "5c4bf819-c1d0-46cb-ab1e-80d9267aaa18"
      },
      "source": [
        "example = create_example(['karrigan'], \n",
        "                         [], players_list)\n",
        "print_prediction(example, players_list, model)"
      ],
      "execution_count": 72,
      "outputs": [
        {
          "output_type": "stream",
          "text": [
            "Team 1:\n",
            "karrigan   1.11\n"
          ],
          "name": "stdout"
        }
      ]
    },
    {
      "cell_type": "code",
      "metadata": {
        "colab": {
          "base_uri": "https://localhost:8080/"
        },
        "id": "hL6gaUU9idPa",
        "outputId": "5d0f2bf9-c873-4fdd-a743-29dfb2dde16d"
      },
      "source": [
        "find_best_teammate(\"karrigan\",\n",
        "                   players_list, \n",
        "                   model)"
      ],
      "execution_count": 73,
      "outputs": [
        {
          "output_type": "execute_result",
          "data": {
            "text/plain": [
              "('NaToSaphiX', 1.1173428, 1.0887110373553108)"
            ]
          },
          "metadata": {
            "tags": []
          },
          "execution_count": 73
        }
      ]
    },
    {
      "cell_type": "code",
      "metadata": {
        "colab": {
          "base_uri": "https://localhost:8080/"
        },
        "id": "mFMdOGqS9WEz",
        "outputId": "ceaad558-e33f-4176-ad4c-3a54445e134d"
      },
      "source": [
        "find_best_teammate(\"Stewie2K\",\n",
        "                   players_list, \n",
        "                   model)"
      ],
      "execution_count": 74,
      "outputs": [
        {
          "output_type": "execute_result",
          "data": {
            "text/plain": [
              "('autimatic', 1.2383341, 1.2183052367634244)"
            ]
          },
          "metadata": {
            "tags": []
          },
          "execution_count": 74
        }
      ]
    },
    {
      "cell_type": "code",
      "metadata": {
        "id": "p_0wNUZAJe1Z"
      },
      "source": [
        "def make_player_list_min_games(file_to_use, min_games=10):\n",
        "  import json\n",
        "  with open(file_to_use, encoding=\"utf-8\") as json_file:\n",
        "    data = json.load(json_file) \n",
        "\n",
        "    players_list = {}\n",
        "    filtered_players_list = []\n",
        "\n",
        "    for cs_map in data:\n",
        "      for player in cs_map['team1']:\n",
        "        if player['name'] not in players_list:\n",
        "          players_list[player['name']] = 0\n",
        "        else:\n",
        "          players_list[player['name']] = players_list[player['name']] + 1\n",
        "      for player in cs_map['team2']:\n",
        "        if player['name'] not in players_list:\n",
        "          players_list[player['name']] = 0\n",
        "        else:\n",
        "          players_list[player['name']] = players_list[player['name']] + 1\n",
        "    \n",
        "    for player in players_list:\n",
        "      if players_list[player] >= min_games:\n",
        "        filtered_players_list.append(player)\n",
        "\n",
        "    return  filtered_players_list"
      ],
      "execution_count": 75,
      "outputs": []
    },
    {
      "cell_type": "code",
      "metadata": {
        "id": "64i5bkRmFCl6"
      },
      "source": [
        "# for player in make_player_list_min_games(\"very-big.json\"):\n",
        "\n",
        "players_list_min_games = make_player_list_min_games(\"very-big.json\", 300)"
      ],
      "execution_count": 76,
      "outputs": []
    },
    {
      "cell_type": "code",
      "metadata": {
        "colab": {
          "base_uri": "https://localhost:8080/"
        },
        "id": "Unh-txqeH3ec",
        "outputId": "6e4e58ac-195d-4672-f6cd-d00da200bb9b"
      },
      "source": [
        "len(players_list_min_games)"
      ],
      "execution_count": 77,
      "outputs": [
        {
          "output_type": "execute_result",
          "data": {
            "text/plain": [
              "121"
            ]
          },
          "metadata": {
            "tags": []
          },
          "execution_count": 77
        }
      ]
    },
    {
      "cell_type": "code",
      "metadata": {
        "colab": {
          "base_uri": "https://localhost:8080/"
        },
        "id": "_fnRJpLEKugN",
        "outputId": "5bfc0b2c-7791-496e-9cce-b4a2660f8b5f"
      },
      "source": [
        "best_rating_diff = 0\n",
        "best_teammates = []\n",
        "all_pairs = []\n",
        "for player in players_list_min_games:\n",
        "  teammate, rating, avg_rating = find_best_teammate(player,\n",
        "                                                    players_list,\n",
        "                                                    model,\n",
        "                                                    min_games_together=150)\n",
        "  rating_diff = rating - avg_rating\n",
        "  all_pairs.append([player, teammate, rating_diff])\n",
        "\n",
        "  if rating_diff > best_rating_diff:\n",
        "    best_rating_diff = rating_diff\n",
        "    best_teammates = [player, teammate]\n",
        "    print(best_teammates, rating_diff)\n",
        "\n",
        "print(f\"{best_teammates[1]} and {best_teammates[0]} have the best chemistry \" \n",
        "      + f\"according to the model. {best_teammates[0]} performs \"\n",
        "      + f\"{best_rating_diff:.3f} rating better when he plays with {best_teammates[1]}\")\n"
      ],
      "execution_count": 78,
      "outputs": [
        {
          "output_type": "stream",
          "text": [
            "['snatchie', 'Furlan'] 0.004775375127792358\n",
            "['phr', 'TOAO'] 0.006125843524932839\n",
            "['XANTARES', 'hardstyle'] 0.013109910488128707\n",
            "['s1mple', 'Zeus'] 0.014178763736378164\n",
            "['flamie', 'Zeus'] 0.017315799539739496\n",
            "['rain', 'YNk'] 0.02177198727925611\n",
            "['nitr0', 'TACO'] 0.024179172515869096\n",
            "['tarik', 'crush'] 0.029253678662436444\n",
            "['device', 'Xyp9x'] 0.033349454402923584\n",
            "['Kjaerbye', 'MSL'] 0.04054827160305452\n",
            "MSL and Kjaerbye have the best chemistry according to the model. Kjaerbye performs 0.041 rating better when he plays with MSL\n"
          ],
          "name": "stdout"
        }
      ]
    },
    {
      "cell_type": "code",
      "metadata": {
        "colab": {
          "base_uri": "https://localhost:8080/"
        },
        "id": "cgPXCV0CzM74",
        "outputId": "a90a2c3c-c0a6-42bc-be40-8b2e2b5bc8f0"
      },
      "source": [
        "all_pairs = pd.DataFrame(all_pairs, columns =['player', 'helper', 'rating diff'])\n",
        "all_pairs = all_pairs.sort_values(by=['rating diff'], ascending=False).reset_index(drop=True)\n",
        "print(all_pairs.head(20))"
      ],
      "execution_count": 79,
      "outputs": [
        {
          "output_type": "stream",
          "text": [
            "       player   helper  rating diff\n",
            "0    Kjaerbye      MSL     0.040548\n",
            "1      Magisk    Xyp9x     0.037288\n",
            "2      Snappi   es3tag     0.035732\n",
            "3      device    Xyp9x     0.033349\n",
            "4      gla1ve    Xyp9x     0.032495\n",
            "5       tarik    crush     0.029254\n",
            "6   EspiranTo    LETN1     0.025240\n",
            "7       ISSAA    ANGE1     0.025033\n",
            "8       nitr0     TACO     0.024179\n",
            "9      chrisJ    Rejin     0.024069\n",
            "10    dupreeh    Xyp9x     0.023892\n",
            "11       apEX     NBK-     0.023569\n",
            "12        mir   magixx     0.023381\n",
            "13        jks      FNS     0.023189\n",
            "14   coldzera     swag     0.021775\n",
            "15       rain      YNk     0.021772\n",
            "16      STYKO  kRYSTAL     0.021389\n",
            "17      oskar   chrisJ     0.021247\n",
            "18        AZR      FNS     0.021168\n",
            "19   karrigan      ave     0.021089\n"
          ],
          "name": "stdout"
        }
      ]
    },
    {
      "cell_type": "code",
      "metadata": {
        "id": "Fh4tD-n5Vot5"
      },
      "source": [
        "def roster_to_string(roster):\n",
        "  str_roster = \"\"\n",
        "  for player in roster:\n",
        "    str_roster = str_roster + player + \" \"\n",
        "  return str_roster\n",
        "\n",
        "def get_lineups(file_to_use, min_games=10):\n",
        "  import json\n",
        "  with open(file_to_use, encoding=\"utf-8\") as json_file:\n",
        "    data = json.load(json_file)\n",
        "    teams_dict = {}\n",
        "    teams_list = []\n",
        "    \n",
        "    for cs_map in data:\n",
        "      team1 = roster_to_string(sorted([tm['name'] for tm in cs_map['team1']]))\n",
        "      team2 = roster_to_string(sorted([tm['name'] for tm in cs_map['team2']]))\n",
        "      if team1 not in teams_dict:\n",
        "        teams_dict[team1] = 0\n",
        "      else:\n",
        "        teams_dict[team1] = teams_dict[team1] + 1 \n",
        "      if team2 not in teams_dict:\n",
        "        teams_dict[team2] = 0\n",
        "      else:\n",
        "        teams_dict[team2] = teams_dict[team2] + 1\n",
        "    \n",
        "\n",
        "    for team in teams_dict:\n",
        "      if teams_dict[team] >= min_games:\n",
        "        team = team.split()\n",
        "        if len(team) == 5:\n",
        "          teams_list.append(team)\n",
        "    return teams_list"
      ],
      "execution_count": 80,
      "outputs": []
    },
    {
      "cell_type": "code",
      "metadata": {
        "colab": {
          "base_uri": "https://localhost:8080/"
        },
        "id": "dtF8eN6XbLLN",
        "outputId": "ceb45a7d-5c2f-4e95-c4bf-4a3f0e756134"
      },
      "source": [
        "lineups = get_lineups(\"very-big.json\", min_games=30)\n",
        "len(lineups)\n"
      ],
      "execution_count": 86,
      "outputs": [
        {
          "output_type": "execute_result",
          "data": {
            "text/plain": [
              "156"
            ]
          },
          "metadata": {
            "tags": []
          },
          "execution_count": 86
        }
      ]
    },
    {
      "cell_type": "code",
      "metadata": {
        "id": "U8u-cKf0bOAF"
      },
      "source": [
        "def find_best_lineups(lineups):\n",
        "  from json_functions import create_example\n",
        "  \n",
        "  lineup_rating = []\n",
        "\n",
        "  for lineup in lineups:\n",
        "    example = create_example(lineup, [], players_list)\n",
        "    player_indices = [i for i, x in enumerate(example) if x == 1]\n",
        "    if len(player_indices) > 5:\n",
        "      continue\n",
        "    pred = model.predict(np.asarray([example]))\n",
        "\n",
        "    relevent_preds = np.zeros(5)\n",
        "\n",
        "    for i, player  in enumerate(player_indices):\n",
        "      relevent_preds[i] = pred[0][player]\n",
        "    rating = np.sum(relevent_preds)\n",
        "    \n",
        "    lineup_rating.append((lineup, rating))\n",
        "  print(lineup_rating)\n",
        "  df = pd.DataFrame(lineup_rating, columns =['lineup', 'rating'])\n",
        "  best_lineups = df.sort_values(by=['rating'], ascending=False).reset_index(drop=True)\n",
        "  return best_lineups\n"
      ],
      "execution_count": 87,
      "outputs": []
    },
    {
      "cell_type": "code",
      "metadata": {
        "colab": {
          "base_uri": "https://localhost:8080/"
        },
        "id": "k74xIXHXfQz1",
        "outputId": "689ca2bf-1764-4453-b148-7cbb86acefee"
      },
      "source": [
        "best_lineups = find_best_lineups(lineups)"
      ],
      "execution_count": 88,
      "outputs": [
        {
          "output_type": "stream",
          "text": [
            "[(['Furlan', 'GruBy', 'TOAO', 'phr', 'snatchie'], 5.032610833644867), (['Calyx', 'MAJ3R', 'XANTARES', 'ngiN', 'paz'], 5.502757787704468), (['Edward', 'Zeus', 'electronic', 'flamie', 's1mple'], 5.769599795341492), (['Boombl4', 'Kvik', 'balblna', 'jmqa', 'waterfaLLZ'], 4.427728712558746), (['GuardiaN', 'NiKo', 'karrigan', 'olofmeister', 'rain'], 5.561209976673126), (['STYKO', 'chrisJ', 'oskar', 'ropz', 'suNny'], 5.461091756820679), (['Jame', 'KrizzeN', 'buster', 'dimasick', 'qikert'], 5.477634608745575), (['COLDYY1', 'DavCost', 'Dima', 'S0tF1k', 'sdy'], 5.122834920883179), (['SHiPZ', 'SPELLAN', 'bubble', 'pNshr', 'v1c7oR'], 5.200208604335785), (['RUSH', 'Skadoodle', 'Stewie2K', 'autimatic', 'tarik'], 5.5858957171440125), (['NBK-', 'apEX', 'bodyy', 'kennyS', 'shox'], 5.5118690729141235), (['Golden', 'JW', 'KRIMZ', 'Lekr0', 'flusha'], 5.313262403011322), (['FalleN', 'TACO', 'coldzera', 'felps', 'fer'], 5.382760047912598), (['Brehze', 'CeRq', 'Ethan', 'FugLy', 'daps'], 5.496957063674927), (['ANGE1', 'DeadFox', 'ISSAA', 'bondik', 'woxic'], 5.26902163028717), (['FalleN', 'TACO', 'boltz', 'coldzera', 'fer'], 5.360456466674805), (['Kjaerbye', 'MSL', 'aizy', 'mertz', 'valde'], 5.528050065040588), (['AdreN', 'Dosia', 'Hobbit', 'mou', 'seized'], 5.129930317401886), (['EliGE', 'NAF', 'Twistzz', 'nitr0', 'steel'], 5.7628167271614075), (['Magisk', 'Xyp9x', 'device', 'dupreeh', 'gla1ve'], 6.023767709732056), (['MICHU', 'NEO', 'Snax', 'byali', 'pashaBiceps'], 4.99726003408432), (['AZR', 'Nifty', 'USTILO', 'jkaem', 'jks'], 5.330158114433289), (['BnTeT', 'DD', 'captainMo', 'somebody', 'xccurate'], 4.929518938064575), (['GeT_RiGhT', 'REZ', 'dennis', 'draken', 'f0rest'], 5.373133480548859), (['HSK', 'XigN', 'glow', 'solo', 'zeff'], 4.659471273422241), (['MODDII', 'RUBINO', 'Snappi', 'es3tag', 'niko'], 5.145578861236572), (['AcilioN', 'EspiranTo', 'TENZKI', 'nexa', 'nukkye'], 5.359019458293915), (['Bubzkji', 'dragonfly', 'refrezh', 'stavn', 'torben'], 4.905225515365601), (['Happy', 'RpK', 'ScreaM', 'hAdji', 'kioShiMa'], 5.202801823616028), (['NBK-', 'apEX', 'bodyy', 'kennyS', 'mixwell'], 5.471940755844116), (['Impulse', 'LETN1', 'NENO', 'emi', 'huNter-'], 5.276926100254059), (['FNS', 'RUSH', 'Skadoodle', 'autimatic', 'tarik'], 5.4686718583106995), (['GuardiaN', 'NiKo', 'Xizt', 'karrigan', 'rain'], 5.490480899810791), (['FalleN', 'Stewie2K', 'boltz', 'coldzera', 'fer'], 5.398815155029297), (['EliGE', 'NAF', 'TACO', 'Twistzz', 'nitr0'], 5.662650525569916), (['Ace', 'Relyks', 'dapr', 'dazzLe', 'moose'], 4.8398385643959045), (['JUGi', 'Snappi', 'cajunb', 'gade', 'k0nfig'], 5.271427631378174), (['AdreN', 'Dosia', 'Hobbit', 'mir', 'mou'], 5.121891915798187), (['MINISE', 'TaZ', 'mouz', 'rallen', 'reatz'], 5.186810374259949), (['Ex6TenZ', 'SmithZz', 'bodyy', 'kennyS', 'shox'], 5.184922635555267), (['Aerial', 'Aleksib', 'allu', 'sergej', 'xseveN'], 5.499525547027588), (['GeT_RiGhT', 'Lekr0', 'REZ', 'dennis', 'f0rest'], 5.444437026977539), (['ANDROID', 'ShahZaM', 'dephh', 'stanislaw', 'yay'], 5.131769239902496), (['Snax', 'chrisJ', 'oskar', 'ropz', 'suNny'], 5.430960416793823), (['HEN1', 'LUCAS1', 'NEKIZ', 'steel', 'yel'], 4.852072298526764), (['FalleN', 'Stewie2K', 'coldzera', 'fer', 'tarik'], 5.45739483833313), (['Jame', 'KrizzeN', 'buster', 'fitch', 'qikert'], 5.388706922531128), (['AcilioN', 'MODDII', 'es3tag', 'friberg', 'mertz'], 5.223249197006226), (['chopper', 'crush', 'hutji', 'jR', 'tonyblack'], 4.692251682281494), (['ALEX', 'AmaNEk', 'LOGAN', 'devoduvek', 'to1nou'], 5.182803452014923), (['MICHU', 'NEO', 'morelz', 'pashaBiceps', 'snatchie'], 4.888548731803894), (['Kjaerbye', 'aizy', 'cadiaN', 'gade', 'valde'], 5.4206782579422), (['JUGi', 'Snappi', 'cajunb', 'k0nfig', 'niko'], 5.232807457447052), (['AZR', 'Gratisfaction', 'Liazz', 'jkaem', 'jks'], 5.350387334823608), (['Subroza', 'WARDELL', 'koosta', 'neptune', 'steel'], 5.08098167181015), (['Brollan', 'JW', 'KRIMZ', 'Xizt', 'twist'], 5.268460631370544), (['Furlan', 'GruBy', 'SZPERO', 'kaper', 'phr'], 4.972512602806091), (['BARBARR', 'Bååten', 'Plopski', 'ZINKEN', 'nawwk'], 5.070775032043457), (['ANGE1', 'DeadFox', 'Hobbit', 'ISSAA', 'woxic'], 5.309950590133667), (['SHiPZ', 'blocker', 'bubble', 'poizon', 'v1c7oR'], 5.383818626403809), (['JaCkz', 'Lucky', 'bodyy', 'kennyS', 'shox'], 5.519923567771912), (['FL1T', 'Jerry', 'almazer', 'facecrack', 'xsepower'], 5.469852685928345), (['EspiranTo', 'LETN1', 'huNter-', 'nexa', 'ottoNd'], 5.516718626022339), (['ALEX', 'NBK-', 'RpK', 'ZywOo', 'apEX'], 5.48443478345871), (['EliGE', 'NAF', 'Stewie2K', 'Twistzz', 'nitr0'], 5.689480543136597), (['Boombl4', 'Kvik', 'WorldEdit', 'n0rb3r7', 'wayLander'], 4.624468684196472), (['AdreN', 'GuardiaN', 'NiKo', 'olofmeister', 'rain'], 5.566192805767059), (['KSCERATO', 'VINI', 'ableJ', 'arT', 'yuurih'], 5.330142378807068), (['Freeman', 'Kaze', 'advent', 'aumaN', 'zhokiNg'], 4.7243823409080505), (['Spiidi', 'denis', 'faveN', 'mirbit', 'syrsoN'], 5.1191986203193665), (['Attacker', 'BnTeT', 'Summer', 'somebody', 'xccurate'], 4.825560212135315), (['COLDYY1', 'S0tF1k', 'chopper', 'iDISBALANCE', 'sdy'], 5.095569849014282), (['Brehze', 'CeRq', 'Ethan', 'daps', 'tarik'], 5.678362548351288), (['Jame', 'SANJI', 'buster', 'fitch', 'qikert'], 5.254778563976288), (['chrisJ', 'frozen', 'karrigan', 'ropz', 'woxic'], 5.627313733100891), (['MINISE', 'TaZ', 'dycha', 'mouz', 'rallen'], 5.32034957408905), (['AmaNEk', 'JaCkz', 'Lucky', 'kennyS', 'shox'], 5.587663650512695), (['Bubzkji', 'HUNDEN', 'acoR', 'b0RUP', 'sjuush'], 5.262294828891754), (['blameF', 'es3tag', 'friberg', 'mertz', 'stavn'], 5.353321313858032), (['MSL', 'Snappi', 'k0nfig', 'niko', 'refrezh'], 5.20820415019989), (['ANGE1', 'ISSAA', 'loWel', 'nukkye', 'oskar'], 5.228719532489777), (['JUGi', 'Kjaerbye', 'aizy', 'gade', 'valde'], 5.493847489356995), (['NaToSaphiX', 'blameF', 'es3tag', 'friberg', 'stavn'], 5.249282956123352), (['GuardiaN', 'NEO', 'NiKo', 'olofmeister', 'rain'], 5.447629034519196), (['Spiidi', 'faveN', 'k1to', 'mirbit', 'syrsoN'], 5.144957959651947), (['AdreN', 'Jame', 'SANJI', 'buster', 'qikert'], 5.275863230228424), (['Brehze', 'CeRq', 'Ethan', 'stanislaw', 'tarik'], 5.712353348731995), (['MICHU', 'Snax', 'Vegi', 'phr', 'snatchie'], 5.001911997795105), (['Forester', 'Krad', 'kinqie', 'speed4k', 'svyat'], 5.04106730222702), (['Attacker', 'BnTeT', 'Freeman', 'Summer', 'somebody'], 4.922931373119354), (['STOMP', 'innocent', 'mono', 'oskarish', 'reatz'], 4.999650716781616), (['Bubzkji', 'HUNDEN', 'acoR', 'roeJ', 'sjuush'], 5.3942137360572815), (['Aerial', 'allu', 'sergej', 'suNny', 'xseveN'], 5.433292031288147), (['FalleN', 'LUCAS1', 'TACO', 'fer', 'kNgV-'], 5.313162207603455), (['Spiidi', 'denis', 'faveN', 'k1to', 'syrsoN'], 5.151250004768372), (['XANTARES', 'nex', 'smooya', 'tabseN', 'tiziaN'], 5.379659354686737), (['Brollan', 'Golden', 'JW', 'KRIMZ', 'flusha'], 5.222107827663422), (['NiKo', 'broky', 'coldzera', 'olofmeister', 'rain'], 5.600762486457825), (['ZOREE', 'doto', 'hoody', 'sAw', 'sLowi'], 5.201065242290497), (['Snappi', 'b0RUP', 'cadiaN', 'es3tag', 'stavn'], 5.274189352989197), (['Boombl4', 'GuardiaN', 'electronic', 'flamie', 's1mple'], 5.69633561372757), (['Lekr0', 'Plopski', 'REZ', 'f0rest', 'twist'], 5.518040418624878), (['ALEX', 'RpK', 'ZywOo', 'apEX', 'shox'], 5.463119328022003), (['HEN1', 'KSCERATO', 'VINI', 'arT', 'yuurih'], 5.361508727073669), (['AmaNEk', 'JaCkz', 'huNter-', 'kennyS', 'nexa'], 5.640877842903137), (['JUGi', 'Kjaerbye', 'aizy', 'cajunb', 'gade'], 5.282801568508148), (['EspiranTo', 'LETN1', 'SHiPZ', 'emi', 'ottoNd'], 5.259019255638123), (['Ax1Le', 'interz', 'nafany', 'sh1ro', 'supra'], 5.705678045749664), (['JT', 'Sonic', 'floppy', 'motm', 'oSee'], 5.340734481811523), (['Maden', 'Maikelele', 'STYKO', 'kRYSTAL', 'zehN'], 5.35713255405426), (['chopper', 'iDISBALANCE', 'magixx', 'mir', 'sdy'], 5.407509446144104), (['EasTor', 'alex', 'loWel', 'mopoz', 'steel'], 5.18744820356369), (['Aleksib', 'ISSAA', 'NBK-', 'mantuu', 'valde'], 5.4775636196136475), (['FalleN', 'TACO', 'fer', 'kNgV-', 'meyern'], 5.385530352592468), (['XANTARES', 'k1to', 'syrsoN', 'tabseN', 'tiziaN'], 5.407478451728821), (['RUSH', 'blameF', 'k0nfig', 'oBo', 'poizon'], 5.423273265361786), (['Kjaerbye', 'MSL', 'aizy', 'cajunb', 'gade'], 5.286527037620544), (['Boombl4', 'Perfecto', 'electronic', 'flamie', 's1mple'], 5.637250363826752), (['Lekr0', 'Plopski', 'REZ', 'nawwk', 'twist'], 5.400802731513977), (['BnTeT', 'autimatic', 'daps', 'koosta', 's0m'], 5.114623725414276), (['AcilioN', 'Bubzkji', 'acoR', 'roeJ', 'sjuush'], 5.379023432731628), (['RpK', 'ZywOo', 'apEX', 'misutaaa', 'shox'], 5.495629251003265), (['Lucky', 'Maka', 'Nivera', 'kioShiMa', 'xms'], 5.27560830116272), (['Aerial', 'Jamppi', 'allu', 'sergej', 'suNny'], 5.454202890396118), (['Spiidi', 'denis', 'dycha', 'faveN', 'snatchie'], 5.113621115684509), (['TeSeS', 'b0RUP', 'cadiaN', 'niko', 'stavn'], 5.351495862007141), (['Forester', 'Krad', 'kinqie', 'rAge', 'svyat'], 5.096228897571564), (['Jyo', 'boX', 'lollipop21k', 'mds', 'speed4k'], 5.1125030517578125), (['FalleN', 'TACO', 'fer', 'kNgV-', 'trk'], 5.34233283996582), (['Kristou', 'MSL', 'aizy', 'cajunb', 'gade'], 5.2272263169288635), (['Farlig', 'Maden', 'STYKO', 'kRYSTAL', 'zehN'], 5.372966289520264), (['Bymas', 'NiKo', 'broky', 'coldzera', 'rain'], 5.603955388069153), (['Plopski', 'REZ', 'hampus', 'nawwk', 'twist'], 5.327117681503296), (['AdreN', 'Jame', 'SANJI', 'YEKINDAR', 'qikert'], 5.32355123758316), (['Maluk3', 'b4rtiN', 'malbsMd', 'pesadelo', 'prt'], 4.933056175708771), (['EliGE', 'Grim', 'NAF', 'Stewie2K', 'Twistzz'], 5.712159514427185), (['Ax1Le', 'Hobbit', 'interz', 'nafany', 'sh1ro'], 5.627670049667358), (['Kjaerbye', 'NiKo', 'broky', 'coldzera', 'rain'], 5.550345063209534), (['Lekr0', 'MSL', 'aizy', 'cajunb', 'gade'], 5.377282023429871), (['Dima', 'FinigaN', 'Patsi', 'S0tF1k', 'degster'], 4.966358125209808), (['Bymas', 'chrisJ', 'frozen', 'karrigan', 'ropz'], 5.560845494270325), (['Jonji', 'MarKE', 'Xeppaa', 'leaf', 'vanity'], 5.53446888923645), (['Magisk', 'device', 'dupreeh', 'es3tag', 'gla1ve'], 5.847980618476868), (['Jame', 'SANJI', 'YEKINDAR', 'buster', 'qikert'], 5.393927097320557), (['CRUC1AL', 'MiGHTYMAX', 'Surreal', 'flameZ', 'robiin'], 5.1328282952308655), (['JUST', 'MUTiRiS', 'arki', 'rmn', 'stadodo'], 4.936229586601257), (['LUCAS1', 'kNgV-', 'leo_drk', 'trk', 'vsm'], 5.28227299451828), (['AmaNEk', 'NiKo', 'huNter-', 'kennyS', 'nexa'], 5.710595726966858), (['RUSH', 'blameF', 'jks', 'k0nfig', 'poizon'], 5.465344727039337), (['NEOFRAG', 'SHOCK', 'ZEDKO', 'beastik', 'oskar'], 5.017175018787384), (['EliGE', 'FalleN', 'Grim', 'NAF', 'Stewie2K'], 5.645312666893005), (['Spiidi', 'denis', 'faveN', 'kressy', 'slaxz-'], 4.906559884548187), (['ALEX', 'Xeppaa', 'es3tag', 'floppy', 'mezii'], 5.518604159355164), (['boltz', 'chelo', 'danoco', 'shz', 'yel'], 4.790569961071014), (['El1an', 'Forester', 'Krad', 'Lack1', 'NickelBack'], 5.411983370780945), (['AcilioN', 'Nodios', 'jabbi', 'maNkz', 'nicoodoz'], 5.172456443309784)]\n"
          ],
          "name": "stdout"
        }
      ]
    },
    {
      "cell_type": "code",
      "metadata": {
        "colab": {
          "base_uri": "https://localhost:8080/",
          "height": 979
        },
        "id": "qcgQaooelAcj",
        "outputId": "59da7de2-cf5b-4f22-939a-faf0eaa5aa4b"
      },
      "source": [
        "best_lineups.head(30)"
      ],
      "execution_count": 89,
      "outputs": [
        {
          "output_type": "execute_result",
          "data": {
            "text/html": [
              "<div>\n",
              "<style scoped>\n",
              "    .dataframe tbody tr th:only-of-type {\n",
              "        vertical-align: middle;\n",
              "    }\n",
              "\n",
              "    .dataframe tbody tr th {\n",
              "        vertical-align: top;\n",
              "    }\n",
              "\n",
              "    .dataframe thead th {\n",
              "        text-align: right;\n",
              "    }\n",
              "</style>\n",
              "<table border=\"1\" class=\"dataframe\">\n",
              "  <thead>\n",
              "    <tr style=\"text-align: right;\">\n",
              "      <th></th>\n",
              "      <th>lineup</th>\n",
              "      <th>rating</th>\n",
              "    </tr>\n",
              "  </thead>\n",
              "  <tbody>\n",
              "    <tr>\n",
              "      <th>0</th>\n",
              "      <td>[Magisk, Xyp9x, device, dupreeh, gla1ve]</td>\n",
              "      <td>6.023768</td>\n",
              "    </tr>\n",
              "    <tr>\n",
              "      <th>1</th>\n",
              "      <td>[Magisk, device, dupreeh, es3tag, gla1ve]</td>\n",
              "      <td>5.847981</td>\n",
              "    </tr>\n",
              "    <tr>\n",
              "      <th>2</th>\n",
              "      <td>[Edward, Zeus, electronic, flamie, s1mple]</td>\n",
              "      <td>5.769600</td>\n",
              "    </tr>\n",
              "    <tr>\n",
              "      <th>3</th>\n",
              "      <td>[EliGE, NAF, Twistzz, nitr0, steel]</td>\n",
              "      <td>5.762817</td>\n",
              "    </tr>\n",
              "    <tr>\n",
              "      <th>4</th>\n",
              "      <td>[Brehze, CeRq, Ethan, stanislaw, tarik]</td>\n",
              "      <td>5.712353</td>\n",
              "    </tr>\n",
              "    <tr>\n",
              "      <th>5</th>\n",
              "      <td>[EliGE, Grim, NAF, Stewie2K, Twistzz]</td>\n",
              "      <td>5.712160</td>\n",
              "    </tr>\n",
              "    <tr>\n",
              "      <th>6</th>\n",
              "      <td>[AmaNEk, NiKo, huNter-, kennyS, nexa]</td>\n",
              "      <td>5.710596</td>\n",
              "    </tr>\n",
              "    <tr>\n",
              "      <th>7</th>\n",
              "      <td>[Ax1Le, interz, nafany, sh1ro, supra]</td>\n",
              "      <td>5.705678</td>\n",
              "    </tr>\n",
              "    <tr>\n",
              "      <th>8</th>\n",
              "      <td>[Boombl4, GuardiaN, electronic, flamie, s1mple]</td>\n",
              "      <td>5.696336</td>\n",
              "    </tr>\n",
              "    <tr>\n",
              "      <th>9</th>\n",
              "      <td>[EliGE, NAF, Stewie2K, Twistzz, nitr0]</td>\n",
              "      <td>5.689481</td>\n",
              "    </tr>\n",
              "    <tr>\n",
              "      <th>10</th>\n",
              "      <td>[Brehze, CeRq, Ethan, daps, tarik]</td>\n",
              "      <td>5.678363</td>\n",
              "    </tr>\n",
              "    <tr>\n",
              "      <th>11</th>\n",
              "      <td>[EliGE, NAF, TACO, Twistzz, nitr0]</td>\n",
              "      <td>5.662651</td>\n",
              "    </tr>\n",
              "    <tr>\n",
              "      <th>12</th>\n",
              "      <td>[EliGE, FalleN, Grim, NAF, Stewie2K]</td>\n",
              "      <td>5.645313</td>\n",
              "    </tr>\n",
              "    <tr>\n",
              "      <th>13</th>\n",
              "      <td>[AmaNEk, JaCkz, huNter-, kennyS, nexa]</td>\n",
              "      <td>5.640878</td>\n",
              "    </tr>\n",
              "    <tr>\n",
              "      <th>14</th>\n",
              "      <td>[Boombl4, Perfecto, electronic, flamie, s1mple]</td>\n",
              "      <td>5.637250</td>\n",
              "    </tr>\n",
              "    <tr>\n",
              "      <th>15</th>\n",
              "      <td>[Ax1Le, Hobbit, interz, nafany, sh1ro]</td>\n",
              "      <td>5.627670</td>\n",
              "    </tr>\n",
              "    <tr>\n",
              "      <th>16</th>\n",
              "      <td>[chrisJ, frozen, karrigan, ropz, woxic]</td>\n",
              "      <td>5.627314</td>\n",
              "    </tr>\n",
              "    <tr>\n",
              "      <th>17</th>\n",
              "      <td>[Bymas, NiKo, broky, coldzera, rain]</td>\n",
              "      <td>5.603955</td>\n",
              "    </tr>\n",
              "    <tr>\n",
              "      <th>18</th>\n",
              "      <td>[NiKo, broky, coldzera, olofmeister, rain]</td>\n",
              "      <td>5.600762</td>\n",
              "    </tr>\n",
              "    <tr>\n",
              "      <th>19</th>\n",
              "      <td>[AmaNEk, JaCkz, Lucky, kennyS, shox]</td>\n",
              "      <td>5.587664</td>\n",
              "    </tr>\n",
              "    <tr>\n",
              "      <th>20</th>\n",
              "      <td>[RUSH, Skadoodle, Stewie2K, autimatic, tarik]</td>\n",
              "      <td>5.585896</td>\n",
              "    </tr>\n",
              "    <tr>\n",
              "      <th>21</th>\n",
              "      <td>[AdreN, GuardiaN, NiKo, olofmeister, rain]</td>\n",
              "      <td>5.566193</td>\n",
              "    </tr>\n",
              "    <tr>\n",
              "      <th>22</th>\n",
              "      <td>[GuardiaN, NiKo, karrigan, olofmeister, rain]</td>\n",
              "      <td>5.561210</td>\n",
              "    </tr>\n",
              "    <tr>\n",
              "      <th>23</th>\n",
              "      <td>[Bymas, chrisJ, frozen, karrigan, ropz]</td>\n",
              "      <td>5.560845</td>\n",
              "    </tr>\n",
              "    <tr>\n",
              "      <th>24</th>\n",
              "      <td>[Kjaerbye, NiKo, broky, coldzera, rain]</td>\n",
              "      <td>5.550345</td>\n",
              "    </tr>\n",
              "    <tr>\n",
              "      <th>25</th>\n",
              "      <td>[Jonji, MarKE, Xeppaa, leaf, vanity]</td>\n",
              "      <td>5.534469</td>\n",
              "    </tr>\n",
              "    <tr>\n",
              "      <th>26</th>\n",
              "      <td>[Kjaerbye, MSL, aizy, mertz, valde]</td>\n",
              "      <td>5.528050</td>\n",
              "    </tr>\n",
              "    <tr>\n",
              "      <th>27</th>\n",
              "      <td>[JaCkz, Lucky, bodyy, kennyS, shox]</td>\n",
              "      <td>5.519924</td>\n",
              "    </tr>\n",
              "    <tr>\n",
              "      <th>28</th>\n",
              "      <td>[ALEX, Xeppaa, es3tag, floppy, mezii]</td>\n",
              "      <td>5.518604</td>\n",
              "    </tr>\n",
              "    <tr>\n",
              "      <th>29</th>\n",
              "      <td>[Lekr0, Plopski, REZ, f0rest, twist]</td>\n",
              "      <td>5.518040</td>\n",
              "    </tr>\n",
              "  </tbody>\n",
              "</table>\n",
              "</div>"
            ],
            "text/plain": [
              "                                             lineup    rating\n",
              "0          [Magisk, Xyp9x, device, dupreeh, gla1ve]  6.023768\n",
              "1         [Magisk, device, dupreeh, es3tag, gla1ve]  5.847981\n",
              "2        [Edward, Zeus, electronic, flamie, s1mple]  5.769600\n",
              "3               [EliGE, NAF, Twistzz, nitr0, steel]  5.762817\n",
              "4           [Brehze, CeRq, Ethan, stanislaw, tarik]  5.712353\n",
              "5             [EliGE, Grim, NAF, Stewie2K, Twistzz]  5.712160\n",
              "6             [AmaNEk, NiKo, huNter-, kennyS, nexa]  5.710596\n",
              "7             [Ax1Le, interz, nafany, sh1ro, supra]  5.705678\n",
              "8   [Boombl4, GuardiaN, electronic, flamie, s1mple]  5.696336\n",
              "9            [EliGE, NAF, Stewie2K, Twistzz, nitr0]  5.689481\n",
              "10               [Brehze, CeRq, Ethan, daps, tarik]  5.678363\n",
              "11               [EliGE, NAF, TACO, Twistzz, nitr0]  5.662651\n",
              "12             [EliGE, FalleN, Grim, NAF, Stewie2K]  5.645313\n",
              "13           [AmaNEk, JaCkz, huNter-, kennyS, nexa]  5.640878\n",
              "14  [Boombl4, Perfecto, electronic, flamie, s1mple]  5.637250\n",
              "15           [Ax1Le, Hobbit, interz, nafany, sh1ro]  5.627670\n",
              "16          [chrisJ, frozen, karrigan, ropz, woxic]  5.627314\n",
              "17             [Bymas, NiKo, broky, coldzera, rain]  5.603955\n",
              "18       [NiKo, broky, coldzera, olofmeister, rain]  5.600762\n",
              "19             [AmaNEk, JaCkz, Lucky, kennyS, shox]  5.587664\n",
              "20    [RUSH, Skadoodle, Stewie2K, autimatic, tarik]  5.585896\n",
              "21       [AdreN, GuardiaN, NiKo, olofmeister, rain]  5.566193\n",
              "22    [GuardiaN, NiKo, karrigan, olofmeister, rain]  5.561210\n",
              "23          [Bymas, chrisJ, frozen, karrigan, ropz]  5.560845\n",
              "24          [Kjaerbye, NiKo, broky, coldzera, rain]  5.550345\n",
              "25             [Jonji, MarKE, Xeppaa, leaf, vanity]  5.534469\n",
              "26              [Kjaerbye, MSL, aizy, mertz, valde]  5.528050\n",
              "27              [JaCkz, Lucky, bodyy, kennyS, shox]  5.519924\n",
              "28            [ALEX, Xeppaa, es3tag, floppy, mezii]  5.518604\n",
              "29             [Lekr0, Plopski, REZ, f0rest, twist]  5.518040"
            ]
          },
          "metadata": {
            "tags": []
          },
          "execution_count": 89
        }
      ]
    },
    {
      "cell_type": "code",
      "metadata": {
        "id": "DhQwena_p-h4"
      },
      "source": [
        "def find_best_roster_for(player):\n",
        "  for i in range(len(best_lineups)):\n",
        "    if player in best_lineups.loc[i, 'lineup']:\n",
        "      return best_lineups.loc[i, 'lineup']\n",
        "  return \"player not found\""
      ],
      "execution_count": 211,
      "outputs": []
    },
    {
      "cell_type": "code",
      "metadata": {
        "colab": {
          "base_uri": "https://localhost:8080/"
        },
        "id": "DW4hdU9pvnXK",
        "outputId": "02b8b172-c95d-470a-c302-826e0fe8f356"
      },
      "source": [
        "find_best_roster_for(\"NiKo\")"
      ],
      "execution_count": 212,
      "outputs": [
        {
          "output_type": "execute_result",
          "data": {
            "text/plain": [
              "['AmaNEk', 'NiKo', 'huNter-', 'kennyS', 'nexa']"
            ]
          },
          "metadata": {
            "tags": []
          },
          "execution_count": 212
        }
      ]
    },
    {
      "cell_type": "code",
      "metadata": {
        "colab": {
          "base_uri": "https://localhost:8080/"
        },
        "id": "6ypVzA6Ovp6y",
        "outputId": "d051063e-f446-4198-bb11-705d1e6f9b65"
      },
      "source": [
        "find_best_roster_for(\"karrigan\")"
      ],
      "execution_count": 213,
      "outputs": [
        {
          "output_type": "execute_result",
          "data": {
            "text/plain": [
              "['chrisJ', 'frozen', 'karrigan', 'ropz', 'woxic']"
            ]
          },
          "metadata": {
            "tags": []
          },
          "execution_count": 213
        }
      ]
    },
    {
      "cell_type": "code",
      "metadata": {
        "colab": {
          "base_uri": "https://localhost:8080/"
        },
        "id": "ntr7Ar-MwbU7",
        "outputId": "49cc2233-a1de-4740-cc87-19a21edd20a9"
      },
      "source": [
        "find_best_roster_for(\"coldzera\")"
      ],
      "execution_count": 214,
      "outputs": [
        {
          "output_type": "execute_result",
          "data": {
            "text/plain": [
              "['Bymas', 'NiKo', 'broky', 'coldzera', 'rain']"
            ]
          },
          "metadata": {
            "tags": []
          },
          "execution_count": 214
        }
      ]
    },
    {
      "cell_type": "code",
      "metadata": {
        "colab": {
          "base_uri": "https://localhost:8080/"
        },
        "id": "2t6TrZKGwpfe",
        "outputId": "915e1571-3788-4027-99fc-e0ff565a34d0"
      },
      "source": [
        "find_best_roster_for(\"chrisJ\")"
      ],
      "execution_count": 217,
      "outputs": [
        {
          "output_type": "execute_result",
          "data": {
            "text/plain": [
              "['chrisJ', 'frozen', 'karrigan', 'ropz', 'woxic']"
            ]
          },
          "metadata": {
            "tags": []
          },
          "execution_count": 217
        }
      ]
    },
    {
      "cell_type": "code",
      "metadata": {
        "id": "zWp-kMCkw8iV"
      },
      "source": [
        ""
      ],
      "execution_count": null,
      "outputs": []
    }
  ]
}