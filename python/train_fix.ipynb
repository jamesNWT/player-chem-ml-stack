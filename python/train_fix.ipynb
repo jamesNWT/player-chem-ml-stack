{
  "nbformat": 4,
  "nbformat_minor": 0,
  "metadata": {
    "language_info": {
      "codemirror_mode": {
        "name": "ipython",
        "version": 3
      },
      "file_extension": ".py",
      "mimetype": "text/x-python",
      "name": "python",
      "nbconvert_exporter": "python",
      "pygments_lexer": "ipython3",
      "version": "3.8.8-final"
    },
    "orig_nbformat": 2,
    "kernelspec": {
      "name": "python3",
      "display_name": "Python 3.8.8 64-bit ('tf-gpu2': conda)",
      "metadata": {
        "interpreter": {
          "hash": "d2c73338f38b5ac58d6acd22fd480fa8a32a4f240574a97c57b2af1622c480c9"
        }
      }
    },
    "colab": {
      "name": "Copy of train.ipynb",
      "provenance": [],
      "collapsed_sections": []
    },
    "accelerator": "GPU"
  },
  "cells": [
    {
      "cell_type": "code",
      "metadata": {
        "id": "qqVwd40RI80_",
        "colab": {
          "base_uri": "https://localhost:8080/"
        },
        "outputId": "63bea48c-48b7-41c4-add8-729acc9850f1"
      },
      "source": [
        "import pandas as pd\n",
        "# from json_functions import create_df_fixed, create_example\n",
        "\n",
        "# players_list, df = create_df_fixed('very-big.json')"
      ],
      "execution_count": 1,
      "outputs": []
    },
    {
      "cell_type": "code",
      "execution_count": 22,
      "metadata": {},
      "outputs": [],
      "source": [
        "from json_functions import make_player_list, create_example\n",
        "\n",
        "def create_df_fixed(file_to_use, mirror=True):\n",
        "    import numpy as np\n",
        "    raw_dataset = pd.read_json(file_to_use)\n",
        "    processed_data = []\n",
        "\n",
        "    players_list = make_player_list(file_to_use)\n",
        "    numPlayers = len(players_list)\n",
        "\n",
        "    for index, game in raw_dataset.iterrows():\n",
        "\n",
        "        if len(game.team1) > 5 or len(game.team2) > 5:\n",
        "            continue\n",
        "        roster_team1 = [0] * numPlayers\n",
        "        roster_team2 = [0] * numPlayers\n",
        "        rating_vector = [[0, 0.]] * 10\n",
        "        rating_vector = np.array(rating_vector)\n",
        "\n",
        "        # populate the team 1 roster and performance vectors\n",
        "        for i, player in enumerate(game.team1):\n",
        "            player_index = players_list.index(player['name'])\n",
        "            roster_team1[player_index] = 1\n",
        "            rating_vector[i][0] = player_index\n",
        "            rating_vector[i][1] = round(float(player['rating']), 3)\n",
        "        # populate the team 2 roster and performance vectors\n",
        "        for i, player in enumerate(game.team2):\n",
        "            player_index = players_list.index(player['name'])\n",
        "            roster_team2[player_index] = 1\n",
        "            rating_vector[i+5][0] = player_index\n",
        "            rating_vector[i+5][1] = round(float(player['rating']), 3)\n",
        "        \n",
        "        # sort ratings acording to corresponding player index\n",
        "        rating_vector = rating_vector[rating_vector[:,0].argsort()]\n",
        "\n",
        "        # put it all together in row, keep only ratings part of rating vector\n",
        "        row = [roster_team1+roster_team2, rating_vector[:,1].tolist()]\n",
        "        processed_data.append(row)\n",
        "\n",
        "        if mirror:\n",
        "            # now flip the teams around and add that to the training data\n",
        "            temp = rating_vector[:,1].tolist()\n",
        "            rating_vector_mirrored = temp[5:10] + temp[0:5]\n",
        "            \n",
        "            row_mirrored = [roster_team2+roster_team1, rating_vector_mirrored]\n",
        "            processed_data.append(row_mirrored)\n",
        "\n",
        "    return players_list, pd.DataFrame(processed_data, columns=['rosters vector',\n",
        "                                                               'rating vector'])"
      ]
    },
    {
      "cell_type": "code",
      "execution_count": 7,
      "metadata": {},
      "outputs": [
        {
          "output_type": "execute_result",
          "data": {
            "text/plain": [
              "                                          rosters vector  \\\n",
              "0      [1, 1, 1, 1, 1, 0, 0, 0, 0, 0, 0, 0, 0, 0, 0, ...   \n",
              "1      [0, 0, 0, 0, 0, 1, 1, 1, 1, 1, 0, 0, 0, 0, 0, ...   \n",
              "2      [0, 0, 0, 0, 0, 0, 0, 0, 0, 0, 1, 1, 1, 1, 1, ...   \n",
              "3      [0, 0, 0, 0, 0, 0, 0, 0, 0, 0, 0, 0, 0, 0, 0, ...   \n",
              "4      [0, 0, 0, 0, 0, 0, 0, 0, 0, 0, 0, 0, 0, 0, 0, ...   \n",
              "...                                                  ...   \n",
              "17483  [0, 0, 0, 0, 0, 0, 0, 0, 0, 0, 0, 0, 0, 0, 0, ...   \n",
              "17484  [0, 0, 0, 0, 0, 0, 0, 0, 0, 0, 0, 0, 0, 0, 0, ...   \n",
              "17485  [0, 0, 0, 0, 0, 0, 0, 0, 0, 0, 0, 0, 0, 0, 0, ...   \n",
              "17486  [0, 0, 0, 0, 0, 0, 0, 0, 0, 0, 0, 0, 0, 0, 0, ...   \n",
              "17487  [0, 0, 0, 0, 0, 0, 0, 0, 0, 0, 0, 0, 0, 0, 0, ...   \n",
              "\n",
              "                                           rating vector  \n",
              "0      [1.55, 1.47, 1.07, 0.88, 0.86, 1.32, 1.11, 1.0...  \n",
              "1      [1.32, 1.11, 1.06, 0.82, 0.68, 1.55, 1.47, 1.0...  \n",
              "2      [1.75, 1.49, 1.32, 1.19, 0.99, 0.9, 0.88, 0.83...  \n",
              "3      [0.9, 0.88, 0.83, 0.79, 0.56, 1.75, 1.49, 1.32...  \n",
              "4      [1.32, 0.75, 0.96, 0.83, 1.03, 1.48, 1.28, 1.2...  \n",
              "...                                                  ...  \n",
              "17483  [1.34, 0.46, 0.71, 0.74, 2.09, 1.29, 0.81, 0.5...  \n",
              "17484  [0.86, 0.65, 1.15, 0.85, 0.77, 1.48, 1.14, 1.1...  \n",
              "17485  [1.48, 1.14, 1.16, 0.94, 1.04, 0.86, 0.65, 1.1...  \n",
              "17486  [1.03, 1.11, 1.05, 0.94, 1.14, 0.8, 1.09, 1.42...  \n",
              "17487  [0.8, 1.09, 1.42, 1.16, 0.91, 1.03, 1.11, 1.05...  \n",
              "\n",
              "[17488 rows x 2 columns]"
            ],
            "text/html": "<div>\n<style scoped>\n    .dataframe tbody tr th:only-of-type {\n        vertical-align: middle;\n    }\n\n    .dataframe tbody tr th {\n        vertical-align: top;\n    }\n\n    .dataframe thead th {\n        text-align: right;\n    }\n</style>\n<table border=\"1\" class=\"dataframe\">\n  <thead>\n    <tr style=\"text-align: right;\">\n      <th></th>\n      <th>rosters vector</th>\n      <th>rating vector</th>\n    </tr>\n  </thead>\n  <tbody>\n    <tr>\n      <th>0</th>\n      <td>[1, 1, 1, 1, 1, 0, 0, 0, 0, 0, 0, 0, 0, 0, 0, ...</td>\n      <td>[1.55, 1.47, 1.07, 0.88, 0.86, 1.32, 1.11, 1.0...</td>\n    </tr>\n    <tr>\n      <th>1</th>\n      <td>[0, 0, 0, 0, 0, 1, 1, 1, 1, 1, 0, 0, 0, 0, 0, ...</td>\n      <td>[1.32, 1.11, 1.06, 0.82, 0.68, 1.55, 1.47, 1.0...</td>\n    </tr>\n    <tr>\n      <th>2</th>\n      <td>[0, 0, 0, 0, 0, 0, 0, 0, 0, 0, 1, 1, 1, 1, 1, ...</td>\n      <td>[1.75, 1.49, 1.32, 1.19, 0.99, 0.9, 0.88, 0.83...</td>\n    </tr>\n    <tr>\n      <th>3</th>\n      <td>[0, 0, 0, 0, 0, 0, 0, 0, 0, 0, 0, 0, 0, 0, 0, ...</td>\n      <td>[0.9, 0.88, 0.83, 0.79, 0.56, 1.75, 1.49, 1.32...</td>\n    </tr>\n    <tr>\n      <th>4</th>\n      <td>[0, 0, 0, 0, 0, 0, 0, 0, 0, 0, 0, 0, 0, 0, 0, ...</td>\n      <td>[1.32, 0.75, 0.96, 0.83, 1.03, 1.48, 1.28, 1.2...</td>\n    </tr>\n    <tr>\n      <th>...</th>\n      <td>...</td>\n      <td>...</td>\n    </tr>\n    <tr>\n      <th>17483</th>\n      <td>[0, 0, 0, 0, 0, 0, 0, 0, 0, 0, 0, 0, 0, 0, 0, ...</td>\n      <td>[1.34, 0.46, 0.71, 0.74, 2.09, 1.29, 0.81, 0.5...</td>\n    </tr>\n    <tr>\n      <th>17484</th>\n      <td>[0, 0, 0, 0, 0, 0, 0, 0, 0, 0, 0, 0, 0, 0, 0, ...</td>\n      <td>[0.86, 0.65, 1.15, 0.85, 0.77, 1.48, 1.14, 1.1...</td>\n    </tr>\n    <tr>\n      <th>17485</th>\n      <td>[0, 0, 0, 0, 0, 0, 0, 0, 0, 0, 0, 0, 0, 0, 0, ...</td>\n      <td>[1.48, 1.14, 1.16, 0.94, 1.04, 0.86, 0.65, 1.1...</td>\n    </tr>\n    <tr>\n      <th>17486</th>\n      <td>[0, 0, 0, 0, 0, 0, 0, 0, 0, 0, 0, 0, 0, 0, 0, ...</td>\n      <td>[1.03, 1.11, 1.05, 0.94, 1.14, 0.8, 1.09, 1.42...</td>\n    </tr>\n    <tr>\n      <th>17487</th>\n      <td>[0, 0, 0, 0, 0, 0, 0, 0, 0, 0, 0, 0, 0, 0, 0, ...</td>\n      <td>[0.8, 1.09, 1.42, 1.16, 0.91, 1.03, 1.11, 1.05...</td>\n    </tr>\n  </tbody>\n</table>\n<p>17488 rows × 2 columns</p>\n</div>"
          },
          "metadata": {},
          "execution_count": 7
        }
      ],
      "source": [
        "players_list, df = create_df_fixed('../data/very-big.json')\n",
        "\n",
        "df"
      ]
    },
    {
      "cell_type": "code",
      "metadata": {
        "id": "SZx-Ece0I81B"
      },
      "source": [
        "import numpy as np\n",
        "import tensorflow as tf"
      ],
      "execution_count": 8,
      "outputs": []
    },
    {
      "cell_type": "code",
      "metadata": {
        "id": "qCD2r_ZsI81B"
      },
      "source": [
        "features, outputs = df[\"rosters vector\"], df['rating vector']\n",
        "\n",
        "features = pd.DataFrame(features.values.tolist(), index= df.index)\n",
        "outputs = pd.DataFrame(outputs.values.tolist(), index= df.index)\n",
        "\n",
        "print(np.shape(features))\n",
        "print(np.shape(outputs))\n"
      ],
      "execution_count": 9,
      "outputs": [
        {
          "output_type": "stream",
          "name": "stdout",
          "text": [
            "(17488, 1068)\n(17488, 10)\n"
          ]
        }
      ]
    },
    {
      "cell_type": "code",
      "metadata": {
        "id": "oI9-2-fg3dws"
      },
      "source": [
        "import tensorflow as tf"
      ],
      "execution_count": 10,
      "outputs": []
    },
    {
      "cell_type": "code",
      "execution_count": 11,
      "metadata": {},
      "outputs": [],
      "source": [
        "from tensorflow import keras\n",
        "from tensorflow.keras.models import Sequential\n",
        "from tensorflow.keras.layers import Dense, Activation\n",
        "from tensorflow.keras.optimizers import Adam\n",
        "from tensorflow.keras.metrics import categorical_crossentropy"
      ]
    },
    {
      "cell_type": "code",
      "metadata": {
        "id": "o_cGuksS5lwq"
      },
      "source": [
        "tf.config.list_physical_devices('GPU')"
      ],
      "execution_count": 12,
      "outputs": [
        {
          "output_type": "execute_result",
          "data": {
            "text/plain": [
              "[]"
            ]
          },
          "metadata": {},
          "execution_count": 12
        }
      ]
    },
    {
      "cell_type": "code",
      "metadata": {
        "id": "AN87P80d3rMH"
      },
      "source": [
        "# get the model\n",
        "def get_model(n_inputs, n_outputs):\n",
        "\tmodel = Sequential()\n",
        "\tmodel.add(Dense(2000, input_dim=n_inputs, kernel_initializer='he_uniform', activation='relu'))\n",
        "\tmodel.add(Dense(2000, input_dim=n_inputs, kernel_initializer='he_uniform', activation='relu'))\n",
        "\tmodel.add(Dense(500, input_dim=n_inputs, kernel_initializer='he_uniform', activation='relu'))\n",
        "\tmodel.add(Dense(20, input_dim=n_inputs, kernel_initializer='he_uniform', activation='relu'))\t\n",
        "\tmodel.add(Dense(n_outputs))\n",
        "\tmodel.compile(loss='mae', optimizer='adam')\n",
        "\treturn model"
      ],
      "execution_count": 13,
      "outputs": []
    },
    {
      "cell_type": "code",
      "metadata": {
        "id": "Yr4UPEli35Mz"
      },
      "source": [
        "n_inputs, n_outputs = features.shape[1], outputs.shape[1]"
      ],
      "execution_count": 14,
      "outputs": []
    },
    {
      "cell_type": "code",
      "metadata": {
        "id": "iyAKrxvm43La"
      },
      "source": [
        "model = get_model(n_inputs, n_outputs)"
      ],
      "execution_count": 15,
      "outputs": []
    },
    {
      "cell_type": "code",
      "metadata": {
        "id": "tk14QRAs4-zQ"
      },
      "source": [
        "from sklearn.model_selection import train_test_split\n",
        "X_train, X_test, y_train, y_test = train_test_split(features, outputs, test_size=0.33, random_state=42)"
      ],
      "execution_count": 16,
      "outputs": []
    },
    {
      "cell_type": "code",
      "metadata": {
        "colab": {
          "base_uri": "https://localhost:8080/"
        },
        "id": "TbkAW5825PMv",
        "outputId": "e154f5c4-34ae-46c0-d615-067bb494a61a"
      },
      "source": [
        "model.fit(X_train, y_train, verbose=1, epochs=20, batch_size=2048)\n",
        "print(\"Evaluation on test set:\")\n",
        "mae = model.evaluate(X_test, y_test, verbose=1)"
      ],
      "execution_count": 17,
      "outputs": [
        {
          "output_type": "stream",
          "name": "stdout",
          "text": [
            "Epoch 1/20\n",
            "6/6 [==============================] - 2s 348ms/step - loss: 0.6808\n",
            "Epoch 2/20\n",
            "6/6 [==============================] - 2s 274ms/step - loss: 0.4917\n",
            "Epoch 3/20\n",
            "6/6 [==============================] - 2s 282ms/step - loss: 0.4425\n",
            "Epoch 4/20\n",
            "6/6 [==============================] - 2s 280ms/step - loss: 0.4022\n",
            "Epoch 5/20\n",
            "6/6 [==============================] - 2s 289ms/step - loss: 0.3704\n",
            "Epoch 6/20\n",
            "6/6 [==============================] - 2s 301ms/step - loss: 0.3451\n",
            "Epoch 7/20\n",
            "6/6 [==============================] - 2s 287ms/step - loss: 0.3228\n",
            "Epoch 8/20\n",
            "6/6 [==============================] - 2s 277ms/step - loss: 0.3008\n",
            "Epoch 9/20\n",
            "6/6 [==============================] - 2s 275ms/step - loss: 0.2796\n",
            "Epoch 10/20\n",
            "6/6 [==============================] - 2s 271ms/step - loss: 0.2613\n",
            "Epoch 11/20\n",
            "6/6 [==============================] - 2s 290ms/step - loss: 0.2492\n",
            "Epoch 12/20\n",
            "6/6 [==============================] - 2s 307ms/step - loss: 0.2429\n",
            "Epoch 13/20\n",
            "6/6 [==============================] - 2s 302ms/step - loss: 0.2404\n",
            "Epoch 14/20\n",
            "6/6 [==============================] - 2s 291ms/step - loss: 0.2389\n",
            "Epoch 15/20\n",
            "6/6 [==============================] - 2s 332ms/step - loss: 0.2374\n",
            "Epoch 16/20\n",
            "6/6 [==============================] - 2s 274ms/step - loss: 0.2356\n",
            "Epoch 17/20\n",
            "6/6 [==============================] - 2s 253ms/step - loss: 0.2338\n",
            "Epoch 18/20\n",
            "6/6 [==============================] - 1s 240ms/step - loss: 0.2324\n",
            "Epoch 19/20\n",
            "6/6 [==============================] - 1s 231ms/step - loss: 0.2309\n",
            "Epoch 20/20\n",
            "6/6 [==============================] - 1s 227ms/step - loss: 0.2298\n",
            "Evaluation on test set:\n",
            "181/181 [==============================] - 2s 10ms/step - loss: 0.2545\n"
          ]
        }
      ]
    },
    {
      "cell_type": "code",
      "execution_count": 23,
      "metadata": {},
      "outputs": [
        {
          "output_type": "execute_result",
          "data": {
            "text/plain": [
              "array([[1.1291966 , 1.0445014 , 1.0598189 , 0.96564984, 0.9988414 ,\n",
              "        1.0738106 , 1.0584363 , 1.0242057 , 1.083325  , 1.0856991 ]],\n",
              "      dtype=float32)"
            ]
          },
          "metadata": {},
          "execution_count": 23
        }
      ],
      "source": [
        "example = create_example(['EliGE', 'Stewie2K', 'Grim', 'FalleN', 'NAF'], ['device', 'Xyp9x', 'Magisk', 'dupreeh', 'gla1ve'], players_list)\n",
        "model.predict(np.asarray([example]))"
      ]
    },
    {
      "cell_type": "code",
      "execution_count": 24,
      "metadata": {},
      "outputs": [],
      "source": [
        "def print_prediction(example, players_list, model):\n",
        "    player_indices = [i for i, x in enumerate(example) if x == 1]\n",
        "    example_formatted = np.asarray([example])\n",
        "    pred = model.predict(example_formatted)\n",
        "\n",
        "    print(\"Team 1:\")\n",
        "    for i, player  in enumerate(player_indices):\n",
        "        if player >= len(players_list): player =player - len(players_list)\n",
        "        print(players_list[player]+': ', round(pred[0][i], 2))\n",
        "        if i == 4:\n",
        "            print(\"Agregate Rating:\", round(np.sum(pred[0][0:5]), 2))\n",
        "            print(\"Team 2:\")\n",
        "        if i == 9:\n",
        "            print(\"Agregate Rating:\", round(np.sum(pred[0][5:10]), 2))\n"
      ]
    },
    {
      "cell_type": "code",
      "execution_count": 25,
      "metadata": {},
      "outputs": [
        {
          "output_type": "stream",
          "name": "stdout",
          "text": [
            "Team 1:\nEliGE:  1.13\nNAF:  1.04\nStewie2K:  1.06\nFalleN:  0.97\nGrim:  1.0\nAgregate Rating: 5.2\nTeam 2:\ndevice:  1.07\ndupreeh:  1.06\nXyp9x:  1.02\ngla1ve:  1.08\nMagisk:  1.09\nAgregate Rating: 5.33\n"
          ]
        }
      ],
      "source": [
        "print_prediction(example, players_list, model)"
      ]
    },
    {
      "source": [
        "Compare these results to a couple real matches played between these two teams on March 26th that the model hasn't seen:\n",
        "\n",
        "https://www.hltv.org/stats/matches/mapstatsid/117239/liquid-vs-astralis?rankingFilter=Top10\n",
        "\n",
        "https://www.hltv.org/stats/matches/mapstatsid/117231/astralis-vs-liquid?rankingFilter=Top10"
      ],
      "cell_type": "markdown",
      "metadata": {}
    },
    {
      "cell_type": "code",
      "execution_count": 26,
      "metadata": {},
      "outputs": [
        {
          "output_type": "stream",
          "name": "stdout",
          "text": [
            "32 53 87 108 474\n111 112 113 115 183\n"
          ]
        }
      ],
      "source": [
        "print(players_list.index('EliGE'), \n",
        "      players_list.index('NAF'), \n",
        "      players_list.index('Stewie2K'), \n",
        "      players_list.index('FalleN'), \n",
        "      players_list.index('Grim'), )\n",
        "print(players_list.index('device'), \n",
        "      players_list.index('dupreeh'), \n",
        "      players_list.index('Xyp9x'), \n",
        "      players_list.index('gla1ve'), \n",
        "      players_list.index('Magisk'), )"
      ]
    },
    {
      "source": [
        "Here's a hypothetical game that could never happen: 2016 Astralis vs current Astralis. Current Astralis is the most dominant CSGO roster of all time, so we would expect to see higher ratings accross the board for them, which we do. (They are team 2 here)."
      ],
      "cell_type": "markdown",
      "metadata": {}
    },
    {
      "cell_type": "code",
      "execution_count": 27,
      "metadata": {},
      "outputs": [
        {
          "output_type": "stream",
          "name": "stdout",
          "text": [
            "Team 1:\nkarrigan:  1.04\ndevice:  1.0\ndupreeh:  1.15\nXyp9x:  0.99\nKjaerbye:  1.08\nAgregate Rating: 5.26\nTeam 2:\ndevice:  1.04\ndupreeh:  0.94\nXyp9x:  0.94\ngla1ve:  0.99\nMagisk:  1.14\nAgregate Rating: 5.04\n"
          ]
        }
      ],
      "source": [
        "example2 = create_example(['device', 'Xyp9x', 'Kjaerbye', 'dupreeh', 'karrigan'], ['device', 'Xyp9x', 'Magisk', 'dupreeh', 'gla1ve'], players_list)\n",
        "print_prediction(example2, players_list, model)"
      ]
    },
    {
      "source": [
        "Lets try it with the teams switched now"
      ],
      "cell_type": "markdown",
      "metadata": {}
    },
    {
      "cell_type": "code",
      "execution_count": 28,
      "metadata": {},
      "outputs": [
        {
          "output_type": "stream",
          "name": "stdout",
          "text": [
            "Team 1:\ndevice:  1.01\ndupreeh:  1.1\nXyp9x:  1.03\ngla1ve:  1.0\nMagisk:  1.06\nAgregate Rating: 5.2\nTeam 2:\nkarrigan:  1.05\ndevice:  1.05\ndupreeh:  1.01\nXyp9x:  1.03\nKjaerbye:  1.09\nAgregate Rating: 5.24\n"
          ]
        }
      ],
      "source": [
        "example2 = create_example(['device', 'Xyp9x', 'Magisk', 'dupreeh', 'gla1ve'], ['device', 'Xyp9x', 'Kjaerbye', 'dupreeh', 'karrigan'], players_list)\n",
        "print_prediction(example2, players_list, model)"
      ]
    },
    {
      "cell_type": "code",
      "execution_count": 29,
      "metadata": {},
      "outputs": [
        {
          "output_type": "stream",
          "name": "stdout",
          "text": [
            "Team 1:\ns1mple:  0.99\nelectronic:  1.04\nNiKo:  0.99\ndevice:  0.93\nZywOo:  0.97\nAgregate Rating: 4.92\nTeam 2:\nkarrigan:  0.98\nGolden:  1.01\nAdreN:  0.99\nTACO:  0.9\ndaps:  0.97\nAgregate Rating: 4.85\n"
          ]
        }
      ],
      "source": [
        "# One of the most unbalanced possible matchups, \"all-stars\" vs low rated players\n",
        "example2 = create_example(['device', 's1mple', 'NiKo', 'ZywOo', 'electronic'], ['daps', 'karrigan', 'Golden', 'TACO', 'AdreN'], players_list)\n",
        "print_prediction(example2, players_list, model)"
      ]
    },
    {
      "cell_type": "code",
      "execution_count": 30,
      "metadata": {},
      "outputs": [
        {
          "output_type": "stream",
          "name": "stdout",
          "text": [
            "Team 1:\ndevice:  0.93\ndupreeh:  1.09\nXyp9x:  1.0\ngla1ve:  1.0\nMagisk:  1.06\nAgregate Rating: 5.07\nTeam 2:\nkarrigan:  1.02\nGolden:  1.01\nAdreN:  0.97\nTACO:  0.98\ndaps:  1.07\nAgregate Rating: 5.04\n"
          ]
        }
      ],
      "source": [
        "# Astralis vs a random team of players that generally get low rating\n",
        "example2 = create_example(['device', 'Xyp9x', 'Magisk', 'dupreeh', 'gla1ve'], ['daps', 'karrigan', 'Golden', 'TACO', 'AdreN'], players_list)\n",
        "print_prediction(example2, players_list, model)"
      ]
    },
    {
      "cell_type": "code",
      "execution_count": 31,
      "metadata": {},
      "outputs": [
        {
          "output_type": "stream",
          "name": "stdout",
          "text": [
            "Team 1:\ndevice:  1.12\ndupreeh:  0.97\nXyp9x:  1.14\ngla1ve:  0.96\nMagisk:  0.95\nAgregate Rating: 5.15\nTeam 2:\ns1mple:  1.07\nelectronic:  0.98\nNiKo:  0.98\ndevice:  1.0\nZywOo:  1.09\nAgregate Rating: 5.12\n"
          ]
        }
      ],
      "source": [
        "# Astralis vs All-Stars\n",
        "example2 = create_example(['device', 'Xyp9x', 'Magisk', 'dupreeh', 'gla1ve'], ['device', 's1mple', 'NiKo', 'ZywOo', 'electronic'], players_list)\n",
        "print_prediction(example2, players_list, model)"
      ]
    },
    {
      "cell_type": "code",
      "execution_count": 32,
      "metadata": {},
      "outputs": [],
      "source": [
        "model.save('../models/small_output.h5')"
      ]
    },
    {
      "cell_type": "code",
      "execution_count": null,
      "metadata": {},
      "outputs": [],
      "source": []
    }
  ]
}