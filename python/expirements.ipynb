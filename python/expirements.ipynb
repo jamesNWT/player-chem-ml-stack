{
 "metadata": {
  "language_info": {
   "codemirror_mode": {
    "name": "ipython",
    "version": 3
   },
   "file_extension": ".py",
   "mimetype": "text/x-python",
   "name": "python",
   "nbconvert_exporter": "python",
   "pygments_lexer": "ipython3",
   "version": 3
  },
  "orig_nbformat": 2
 },
 "nbformat": 4,
 "nbformat_minor": 2,
 "cells": [
  {
   "cell_type": "code",
   "execution_count": null,
   "metadata": {},
   "outputs": [],
   "source": [
    "hypothetical = create_example(['EliGE', 'Stewie2K', 'Grim', 'FalleN', 'NAF'], ['device', 'Xyp9x', 'Magisk', 'dupreeh', 'gla1ve'], players_list)\n",
    "model.predict(np.asarray([hypothetical]))"
   ]
  },
  {
   "cell_type": "code",
   "execution_count": null,
   "metadata": {},
   "outputs": [],
   "source": [
    "def print_prediction(example, players_list, model):\n",
    "    player_indices = [i for i, x in enumerate(example) if x == 1]\n",
    "    example_formatted = np.asarray([example])\n",
    "    pred = model.predict(example_formatted)\n",
    "\n",
    "    relevent_preds = np.zeros(10)\n",
    "\n",
    "    print(\"Team 1:\")\n",
    "    for i, player  in enumerate(player_indices):\n",
    "        if player >= len(players_list): player =player - len(players_list)\n",
    "        print(players_list[player]+': ', round(pred[0][player], 2))\n",
    "        relevent_preds[i] = round(pred[0][player], 2) \n",
    "        if i == 4:\n",
    "            print(\"Agregate Rating:\", round(np.sum(relevent_preds[0:5]), 2))\n",
    "            print(\"Team 2:\")\n",
    "        if i == 9:\n",
    "            print(\"Agregate Rating:\", round(np.sum(relevent_preds[5:10]), 2))\n"
   ]
  },
  {
   "cell_type": "code",
   "execution_count": null,
   "metadata": {},
   "outputs": [],
   "source": [
    "print_prediction(hypothetical, players_list, model)"
   ]
  },
  {
   "cell_type": "code",
   "execution_count": null,
   "metadata": {},
   "outputs": [],
   "source": [
    "def print_example_vs_pred(row, example_type='test'):\n",
    "    if example_type == 'test':\n",
    "        # Get an example from the test split\n",
    "        example = np.array(X_test.iloc[row])\n",
    "        truth = np.array(y_test.iloc[row])\n",
    "    elif example_type == 'train':\n",
    "        # Get an example from the trian split\n",
    "        example = np.array(X_train.iloc[row])\n",
    "        truth = np.array(y_train.iloc[row])\n",
    "    elif example_type == 'all':\n",
    "        # Get an example from the original dataframe\n",
    "        example = np.array(features.iloc[row])\n",
    "        truth = np.array(outputs.iloc[row]) \n",
    "    \n",
    "    players = np.where(example == 1.0)[0]\n",
    "\n",
    "    team1 = []\n",
    "    team2 = []\n",
    "    for i, player in enumerate(players):\n",
    "        if i < 5:\n",
    "            team1.append(players_list[player])\n",
    "        else:\n",
    "            team2.append(players_list[player-len(players_list)])\n",
    "    \n",
    "    example_for_pred = create_example(team1, team2, players_list)\n",
    "    pred = model.predict([example_for_pred])\n",
    "\n",
    "    data = []\n",
    "    for i, player  in enumerate(players):\n",
    "        \n",
    "        player_list_index = (player if player < len(players_list) \n",
    "                                   else player - len(players_list)\n",
    "                             )\n",
    "        data.append([players_list[player_list_index], round(pred[0][player], 2), truth[player]])\n",
    "\n",
    "    col_width = max(len(str(word)) for row in data for word in row) + 2  # padding\n",
    "    print(\"\".join(str(word).ljust(col_width) for word in ['Team 1', 'Pred', 'Truth']))\n",
    "    print('---------------------------')\n",
    "    for i, row in enumerate(data):\n",
    "        print(\"\".join(str(word).ljust(col_width) for word in row))\n",
    "        if i == 4:\n",
    "            print('---------------------------')               \n",
    "            print(\"\".join(str(word).ljust(col_width) for word in ['Team 2', 'Pred', 'Truth']))\n",
    "            print('---------------------------')   \n",
    "    print('---------------------------')\n",
    "    print(\"Loss: \", my_loss(np.array(truth, dtype='double'), np.array(pred, dtype='double')).numpy())\n"
   ]
  },
  {
   "cell_type": "code",
   "execution_count": null,
   "metadata": {},
   "outputs": [],
   "source": [
    "print_example_vs_pred(0, 'test')"
   ]
  },
  {
   "cell_type": "code",
   "execution_count": null,
   "metadata": {},
   "outputs": [],
   "source": [
    "print_example_vs_pred(1, 'train')"
   ]
  },
  {
   "cell_type": "code",
   "execution_count": null,
   "metadata": {},
   "outputs": [],
   "source": [
    "print_example_vs_pred(123, 'all')"
   ]
  }
 ]
}