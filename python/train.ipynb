{
  "nbformat": 4,
  "nbformat_minor": 0,
  "metadata": {
    "language_info": {
      "codemirror_mode": {
        "name": "ipython",
        "version": 3
      },
      "file_extension": ".py",
      "mimetype": "text/x-python",
      "name": "python",
      "nbconvert_exporter": "python",
      "pygments_lexer": "ipython3",
      "version": "3.7.10-final"
    },
    "orig_nbformat": 2,
    "kernelspec": {
      "name": "python3",
      "display_name": "Python 3.7.10 64-bit ('tf': conda)",
      "metadata": {
        "interpreter": {
          "hash": "42eea32459e97d1fc562e9b561f8a94575df71e230e4ccdec5d01957082d6a36"
        }
      }
    },
    "colab": {
      "name": "Copy of train.ipynb",
      "provenance": [],
      "collapsed_sections": []
    },
    "accelerator": "GPU"
  },
  "cells": [
    {
      "cell_type": "code",
      "metadata": {
        "id": "qqVwd40RI80_",
        "colab": {
          "base_uri": "https://localhost:8080/"
        },
        "outputId": "63bea48c-48b7-41c4-add8-729acc9850f1"
      },
      "source": [
        "import pandas as pd\n",
        "from json_functions import create_df_simple, create_example\n",
        "\n",
        "# players_list, df = create_df('test.json')\n",
        "\n",
        "players_list, df = create_df_simple('very-big.json')"
      ],
      "execution_count": 2,
      "outputs": []
    },
    {
      "cell_type": "code",
      "metadata": {
        "id": "SZx-Ece0I81B"
      },
      "source": [
        "import numpy as np\n",
        "import tensorflow as tf"
      ],
      "execution_count": 22,
      "outputs": []
    },
    {
      "cell_type": "code",
      "metadata": {
        "id": "qCD2r_ZsI81B"
      },
      "source": [
        "features, outputs = df[\"rosters vector\"], df['rating vector']\n",
        "\n",
        "features = pd.DataFrame(features.values.tolist(), index= df.index)\n",
        "outputs = pd.DataFrame(outputs.values.tolist(), index= df.index)\n",
        "\n",
        "print(np.shape(features))\n",
        "print(np.shape(outputs))\n"
      ],
      "execution_count": 23,
      "outputs": [
        {
          "output_type": "stream",
          "name": "stdout",
          "text": [
            "(8744, 1068)\n(8744, 10)\n"
          ]
        }
      ]
    },
    {
      "cell_type": "code",
      "metadata": {
        "id": "oI9-2-fg3dws"
      },
      "source": [
        "import tensorflow as tf"
      ],
      "execution_count": 24,
      "outputs": []
    },
    {
      "cell_type": "code",
      "execution_count": 25,
      "metadata": {},
      "outputs": [],
      "source": [
        "from tensorflow import keras\n",
        "from tensorflow.keras.models import Sequential\n",
        "from tensorflow.keras.layers import Dense, Activation\n",
        "from tensorflow.keras.optimizers import Adam\n",
        "from tensorflow.keras.metrics import categorical_crossentropy"
      ]
    },
    {
      "cell_type": "code",
      "metadata": {
        "id": "o_cGuksS5lwq"
      },
      "source": [
        "tf.config.list_physical_devices('GPU')"
      ],
      "execution_count": 26,
      "outputs": [
        {
          "output_type": "execute_result",
          "data": {
            "text/plain": [
              "[PhysicalDevice(name='/physical_device:GPU:0', device_type='GPU')]"
            ]
          },
          "metadata": {},
          "execution_count": 26
        }
      ]
    },
    {
      "cell_type": "code",
      "metadata": {
        "id": "AN87P80d3rMH"
      },
      "source": [
        "# get the model\n",
        "def get_model(n_inputs, n_outputs):\n",
        "\tmodel = Sequential()\n",
        "\tmodel.add(Dense(1068, input_dim=n_inputs, kernel_initializer='he_uniform', activation='relu'))\n",
        "\t# model.add(Dense(50, input_dim=n_inputs, kernel_initializer='he_uniform', activation='relu'))\n",
        "\tmodel.add(Dense(n_outputs))\n",
        "\tmodel.compile(loss='mae', optimizer='adam')\n",
        "\treturn model"
      ],
      "execution_count": 27,
      "outputs": []
    },
    {
      "cell_type": "code",
      "metadata": {
        "id": "Yr4UPEli35Mz"
      },
      "source": [
        "n_inputs, n_outputs = features.shape[1], outputs.shape[1]"
      ],
      "execution_count": 28,
      "outputs": []
    },
    {
      "cell_type": "code",
      "metadata": {
        "id": "iyAKrxvm43La"
      },
      "source": [
        "model = get_model(n_inputs, n_outputs)"
      ],
      "execution_count": 91,
      "outputs": []
    },
    {
      "cell_type": "code",
      "metadata": {
        "id": "tk14QRAs4-zQ"
      },
      "source": [
        "from sklearn.model_selection import train_test_split\n",
        "X_train, X_test, y_train, y_test = train_test_split(features, outputs, test_size=0.33, random_state=42)"
      ],
      "execution_count": 92,
      "outputs": []
    },
    {
      "cell_type": "code",
      "metadata": {
        "colab": {
          "base_uri": "https://localhost:8080/"
        },
        "id": "TbkAW5825PMv",
        "outputId": "e154f5c4-34ae-46c0-d615-067bb494a61a"
      },
      "source": [
        "model.fit(X_train, y_train, verbose=1, epochs=4, batch_size=500)\n",
        "print(\"Evaluation on test set:\")\n",
        "mae = model.evaluate(X_test, y_test, verbose=1)"
      ],
      "execution_count": 93,
      "outputs": [
        {
          "output_type": "stream",
          "name": "stdout",
          "text": [
            "Epoch 1/4\n",
            "12/12 [==============================] - 0s 6ms/step - loss: 0.7668\n",
            "Epoch 2/4\n",
            "12/12 [==============================] - 0s 7ms/step - loss: 0.2840\n",
            "Epoch 3/4\n",
            "12/12 [==============================] - 0s 6ms/step - loss: 0.2137\n",
            "Epoch 4/4\n",
            "12/12 [==============================] - 0s 6ms/step - loss: 0.1888\n",
            "Evaluation on test set:\n",
            "91/91 [==============================] - 0s 2ms/step - loss: 0.1961\n"
          ]
        }
      ]
    },
    {
      "cell_type": "code",
      "metadata": {
        "id": "EtXIWyjs6Ah5"
      },
      "source": [
        "model.summary()"
      ],
      "execution_count": 94,
      "outputs": [
        {
          "output_type": "stream",
          "name": "stdout",
          "text": [
            "Model: \"sequential_14\"\n_________________________________________________________________\nLayer (type)                 Output Shape              Param #   \n=================================================================\ndense_29 (Dense)             (None, 1068)              1141692   \n_________________________________________________________________\ndense_30 (Dense)             (None, 10)                10690     \n=================================================================\nTotal params: 1,152,382\nTrainable params: 1,152,382\nNon-trainable params: 0\n_________________________________________________________________\n"
          ]
        }
      ]
    },
    {
      "cell_type": "code",
      "execution_count": 95,
      "metadata": {},
      "outputs": [
        {
          "output_type": "execute_result",
          "data": {
            "text/plain": [
              "array([[1.1279236 , 1.1067467 , 0.796592  , 0.68875617, 0.7446804 ,\n",
              "        1.5647084 , 1.1852388 , 1.123609  , 0.97567785, 0.88403565]],\n",
              "      dtype=float32)"
            ]
          },
          "metadata": {},
          "execution_count": 95
        }
      ],
      "source": [
        "example = create_example(['EliGE', 'Stewie2K', 'Grim', 'FalleN', 'NAF'], ['device', 'Xyp9x', 'Magisk', 'dupreeh', 'gla1ve'], players_list)\n",
        "model.predict(np.asarray([example]))"
      ]
    },
    {
      "cell_type": "code",
      "execution_count": 118,
      "metadata": {},
      "outputs": [],
      "source": [
        "def print_prediction(example, players_list, model):\n",
        "    player_indices = [i for i, x in enumerate(example) if x == 1]\n",
        "    example_formatted = np.asarray([example])\n",
        "    pred = model.predict(example_formatted)\n",
        "    print(\"Predicted rating vector:\", pred[0])\n",
        "\n",
        "    print(\"Team 1:\")\n",
        "    for player in player_indices[0:5]:\n",
        "        print(players_list[player]+', ', end='')\n",
        "    print(\"\\nRating spread:\")\n",
        "    for i in range(0, 5):\n",
        "        print(round(pred[0][i], 2))\n",
        "    print(\"Agregate Rating:\", round(np.sum(pred[0][0:5]), 2))\n",
        "    print(\"Team 2:\")\n",
        "    for player in player_indices[5:10]:\n",
        "        print(players_list[player-len(players_list)]+', ', end='')\n",
        "    print(\"\\nRating spread:\")\n",
        "    for i in range(5, 10):\n",
        "        print(round(pred[0][i], 2))\n",
        "    print(\"Agregate Rating:\", round(np.sum(pred[0][5:10]), 2))\n",
        "\n"
      ]
    },
    {
      "cell_type": "code",
      "execution_count": 119,
      "metadata": {},
      "outputs": [
        {
          "output_type": "stream",
          "name": "stdout",
          "text": [
            "Predicted rating vector: [1.1279236  1.1067467  0.796592   0.68875617 0.7446804  1.5647084\n 1.1852388  1.123609   0.97567785 0.88403565]\nTeam 1:\nEliGE, NAF, Stewie2K, FalleN, Grim, \nRating spread:\n1.13\n1.11\n0.8\n0.69\n0.74\nAgregate Rating: 4.46\nTeam 2:\ndevice, dupreeh, Xyp9x, gla1ve, Magisk, \nRating spread:\n1.56\n1.19\n1.12\n0.98\n0.88\nAgregate Rating: 5.73\n"
          ]
        }
      ],
      "source": [
        "# This model unfortunately isn't able to predict rating by player, just the spread of rating for the team.\n",
        "print_prediction(example, players_list, model)"
      ]
    },
    {
      "source": [
        "Compare these results to a couple real matches played between these two teams on March 26th that the model hasn't seen:\n",
        "\n",
        "https://www.hltv.org/stats/matches/mapstatsid/117239/liquid-vs-astralis?rankingFilter=Top10\n",
        "\n",
        "https://www.hltv.org/stats/matches/mapstatsid/117231/astralis-vs-liquid?rankingFilter=Top10"
      ],
      "cell_type": "markdown",
      "metadata": {}
    },
    {
      "source": [
        "Here's a hypothetical game that could never happen: 2016 Astralis vs current Astralis. Current Astralis is the most dominant CSGO roster of all time, so we would expect to see higher ratings accross the board for them, which we do. (They are team 2 here)."
      ],
      "cell_type": "markdown",
      "metadata": {}
    },
    {
      "cell_type": "code",
      "execution_count": 120,
      "metadata": {},
      "outputs": [
        {
          "output_type": "stream",
          "name": "stdout",
          "text": [
            "Predicted rating vector: [1.3163592  1.1530508  0.82083374 0.8201335  0.71751314 1.287491\n 1.0751294  0.8909651  0.878684   0.74764585]\nTeam 1:\nkarrigan, device, dupreeh, Xyp9x, Kjaerbye, \nRating spread:\n1.32\n1.15\n0.82\n0.82\n0.72\nAgregate Rating: 4.83\nTeam 2:\ndevice, dupreeh, Xyp9x, gla1ve, Magisk, \nRating spread:\n1.29\n1.08\n0.89\n0.88\n0.75\nAgregate Rating: 4.88\n"
          ]
        }
      ],
      "source": [
        "example2 = create_example(['device', 'Xyp9x', 'Kjaerbye', 'dupreeh', 'karrigan'], ['device', 'Xyp9x', 'Magisk', 'dupreeh', 'gla1ve'], players_list)\n",
        "print_prediction(example2, players_list, model)"
      ]
    },
    {
      "source": [
        "Lets try it with the teams switched now"
      ],
      "cell_type": "markdown",
      "metadata": {}
    },
    {
      "cell_type": "code",
      "execution_count": 121,
      "metadata": {},
      "outputs": [
        {
          "output_type": "stream",
          "name": "stdout",
          "text": [
            "Predicted rating vector: [1.3001164  1.0605851  0.913777   0.8430965  0.77797097 1.1263063\n 1.0598643  0.85265464 0.76967937 0.60221595]\nTeam 1:\ndevice, dupreeh, Xyp9x, gla1ve, Magisk, \nRating spread:\n1.3\n1.06\n0.91\n0.84\n0.78\nAgregate Rating: 4.9\nTeam 2:\nkarrigan, device, dupreeh, Xyp9x, Kjaerbye, \nRating spread:\n1.13\n1.06\n0.85\n0.77\n0.6\nAgregate Rating: 4.41\n"
          ]
        }
      ],
      "source": [
        "example2 = create_example(['device', 'Xyp9x', 'Magisk', 'dupreeh', 'gla1ve'], ['device', 'Xyp9x', 'Kjaerbye', 'dupreeh', 'karrigan'], players_list)\n",
        "print_prediction(example2, players_list, model)"
      ]
    },
    {
      "cell_type": "code",
      "execution_count": 122,
      "metadata": {},
      "outputs": [
        {
          "output_type": "stream",
          "name": "stdout",
          "text": [
            "Predicted rating vector: [1.5245003  1.1931746  1.0288424  0.8088182  0.8031617  1.1591073\n 0.87344927 0.9006876  0.7326442  0.7448344 ]\nTeam 1:\ns1mple, electronic, NiKo, device, ZywOo, \nRating spread:\n1.52\n1.19\n1.03\n0.81\n0.8\nAgregate Rating: 5.36\nTeam 2:\nkarrigan, Golden, AdreN, TACO, daps, \nRating spread:\n1.16\n0.87\n0.9\n0.73\n0.74\nAgregate Rating: 4.41\n"
          ]
        }
      ],
      "source": [
        "# One of the most unbalanced possible teams\n",
        "example2 = create_example(['device', 's1mple', 'NiKo', 'ZywOo', 'electronic'], ['daps', 'karrigan', 'Golden', 'TACO', 'AdreN'], players_list)\n",
        "print_prediction(example2, players_list, model)"
      ]
    },
    {
      "cell_type": "code",
      "execution_count": 123,
      "metadata": {},
      "outputs": [
        {
          "output_type": "stream",
          "name": "stdout",
          "text": [
            "Predicted rating vector: [1.6451367  1.2084872  1.1477096  1.0272878  0.8838766  1.1525126\n 0.87884426 0.7957482  0.6789951  0.6662946 ]\nTeam 1:\ndevice, dupreeh, Xyp9x, gla1ve, Magisk, \nRating spread:\n1.65\n1.21\n1.15\n1.03\n0.88\nAgregate Rating: 5.91\nTeam 2:\nkarrigan, Golden, AdreN, TACO, daps, \nRating spread:\n1.15\n0.88\n0.8\n0.68\n0.67\nAgregate Rating: 4.17\n"
          ]
        }
      ],
      "source": [
        "# Astralis vs a random team of players that generally get low rating\n",
        "example2 = create_example(['device', 'Xyp9x', 'Magisk', 'dupreeh', 'gla1ve'], ['daps', 'karrigan', 'Golden', 'TACO', 'AdreN'], players_list)\n",
        "print_prediction(example2, players_list, model)"
      ]
    },
    {
      "source": [
        "Since Astralis has more impressive ratings than the above super team against my \"bad team\", It's possible that model is capturing the chemistry that Astralis would have."
      ],
      "cell_type": "markdown",
      "metadata": {}
    },
    {
      "cell_type": "code",
      "execution_count": 124,
      "metadata": {},
      "outputs": [
        {
          "output_type": "stream",
          "name": "stdout",
          "text": [
            "Predicted rating vector: [1.3088439  1.0866596  0.96441    0.91596353 0.8278573  1.2931731\n 1.0061758  0.8958529  0.7874176  0.63033223]\nTeam 1:\ndevice, dupreeh, Xyp9x, gla1ve, Magisk, \nRating spread:\n1.31\n1.09\n0.96\n0.92\n0.83\nAgregate Rating: 5.1\nTeam 2:\ns1mple, electronic, NiKo, device, ZywOo, \nRating spread:\n1.29\n1.01\n0.9\n0.79\n0.63\nAgregate Rating: 4.61\n"
          ]
        }
      ],
      "source": [
        "# Astralis vs All-Stars\n",
        "example2 = create_example(['device', 'Xyp9x', 'Magisk', 'dupreeh', 'gla1ve'], ['device', 's1mple', 'NiKo', 'ZywOo', 'electronic'], players_list)\n",
        "print_prediction(example2, players_list, model)"
      ]
    },
    {
      "source": [
        "Since Astralis even beats the all-star team head to head, despite the all-star team having the 5 highest rated players in my entire dataset, I think this is further evidence that my model is capturing some information about player chemistry"
      ],
      "cell_type": "markdown",
      "metadata": {}
    },
    {
      "cell_type": "code",
      "execution_count": 125,
      "metadata": {},
      "outputs": [],
      "source": [
        "model.save('model_01.h5')"
      ]
    },
    {
      "cell_type": "code",
      "execution_count": 3,
      "metadata": {},
      "outputs": [
        {
          "output_type": "execute_result",
          "data": {
            "text/plain": [
              "0       [1.55, 1.47, 1.07, 0.88, 0.86, 1.32, 1.11, 1.0...\n",
              "1       [1.75, 1.49, 1.32, 1.19, 0.99, 0.9, 0.88, 0.83...\n",
              "2       [1.48, 1.28, 1.25, 1.19, 0.79, 1.32, 1.03, 0.9...\n",
              "3       [1.29, 1.15, 1.14, 1.01, 1.01, 1.52, 1.27, 1.0...\n",
              "4       [1.62, 1.38, 1.22, 0.94, 0.74, 1.36, 1.18, 0.9...\n",
              "                              ...                        \n",
              "8739    [1.64, 1.15, 1.06, 1.06, 0.88, 1.16, 1.07, 0.9...\n",
              "8740    [0.91, 0.86, 0.6, 0.58, 0.34, 1.98, 1.72, 1.31...\n",
              "8741    [2.09, 1.34, 1.24, 0.74, 0.71, 1.29, 1.08, 0.8...\n",
              "8742    [1.48, 1.16, 1.14, 1.04, 0.77, 1.15, 0.94, 0.8...\n",
              "8743    [1.42, 1.14, 1.09, 0.91, 0.8, 1.16, 1.11, 1.05...\n",
              "Name: rating vector, Length: 8744, dtype: object"
            ]
          },
          "metadata": {},
          "execution_count": 3
        }
      ],
      "source": [
        "df['rating vector']"
      ]
    },
    {
      "cell_type": "code",
      "execution_count": null,
      "metadata": {},
      "outputs": [],
      "source": []
    }
  ]
}