{
  "nbformat": 4,
  "nbformat_minor": 0,
  "metadata": {
    "language_info": {
      "codemirror_mode": {
        "name": "ipython",
        "version": 3
      },
      "file_extension": ".py",
      "mimetype": "text/x-python",
      "name": "python",
      "nbconvert_exporter": "python",
      "pygments_lexer": "ipython3",
      "version": "3.8.8-final"
    },
    "orig_nbformat": 2,
    "kernelspec": {
      "name": "python3",
      "display_name": "Python 3.8.8 64-bit ('tf-gpu': conda)",
      "metadata": {
        "interpreter": {
          "hash": "9498eed101f0e4725e0a7bf1362fb162fcbe095ec51a2a544b80ac40dc37e308"
        }
      }
    },
    "colab": {
      "name": "train-big.ipynb",
      "provenance": [],
      "collapsed_sections": []
    },
    "accelerator": "GPU"
  },
  "cells": [
    {
      "cell_type": "markdown",
      "metadata": {
        "id": "aghiFROIbFc0"
      },
      "source": [
        "# Imports"
      ]
    },
    {
      "cell_type": "code",
      "metadata": {
        "id": "t1L0heYPIgCa"
      },
      "source": [
        "import pandas as pd\n",
        "from json_functions import create_df_big_output, create_example\n",
        "\n",
        "players_list, df = create_df_big_output('very-big.json', mirror=True)"
      ],
      "execution_count": 74,
      "outputs": []
    },
    {
      "cell_type": "code",
      "metadata": {
        "id": "SQ_ZUwiVIgCb"
      },
      "source": [
        "import numpy as np\n",
        "import tensorflow as tf\n",
        "import os"
      ],
      "execution_count": 116,
      "outputs": []
    },
    {
      "cell_type": "code",
      "metadata": {
        "id": "9SBS0JTIIgCc"
      },
      "source": [
        "import tensorflow as tf\n",
        "from tensorflow import keras\n",
        "from tensorflow.keras.models import Sequential\n",
        "from tensorflow.keras.layers import Dense, Activation, Dropout, Conv2D\n",
        "from tensorflow.keras.optimizers import Adam\n",
        "from tensorflow.keras.metrics import categorical_crossentropy\n",
        "import tensorflow.keras.backend as K "
      ],
      "execution_count": 76,
      "outputs": []
    },
    {
      "cell_type": "code",
      "metadata": {
        "colab": {
          "base_uri": "https://localhost:8080/"
        },
        "id": "vLr38AiyIgCd",
        "outputId": "9eaaacfd-a5ac-43d7-81ee-a0a29257a6a3"
      },
      "source": [
        "!pip install -q git+https://github.com/tensorflow/docs\n",
        "\n",
        "import tensorflow_docs as tfdocs\n",
        "import tensorflow_docs.modeling\n",
        "import tensorflow_docs.plots"
      ],
      "execution_count": 77,
      "outputs": [
        {
          "output_type": "stream",
          "text": [
            "  Building wheel for tensorflow-docs (setup.py) ... \u001b[?25l\u001b[?25hdone\n"
          ],
          "name": "stdout"
        }
      ]
    },
    {
      "cell_type": "code",
      "metadata": {
        "id": "-7OmXNeQIgCd"
      },
      "source": [
        "from  IPython import display\n",
        "from matplotlib import pyplot as plt\n",
        "\n",
        "import numpy as np\n",
        "\n",
        "import pathlib\n",
        "import shutil\n",
        "import tempfile"
      ],
      "execution_count": 78,
      "outputs": []
    },
    {
      "cell_type": "markdown",
      "metadata": {
        "id": "ofvFNzDKcBUv"
      },
      "source": [
        "# Check GPU"
      ]
    },
    {
      "cell_type": "code",
      "metadata": {
        "colab": {
          "base_uri": "https://localhost:8080/"
        },
        "id": "pegNTQn2IgCd",
        "outputId": "bd845711-fa0d-4fea-b4a2-e0edbdeb578c"
      },
      "source": [
        "tf.config.list_physical_devices('GPU')"
      ],
      "execution_count": 79,
      "outputs": [
        {
          "output_type": "execute_result",
          "data": {
            "text/plain": [
              "[PhysicalDevice(name='/physical_device:GPU:0', device_type='GPU')]"
            ]
          },
          "metadata": {
            "tags": []
          },
          "execution_count": 79
        }
      ]
    },
    {
      "cell_type": "markdown",
      "metadata": {
        "id": "MzYa5mNnbL82"
      },
      "source": [
        "# Create dataset from json file"
      ]
    },
    {
      "cell_type": "code",
      "metadata": {
        "colab": {
          "base_uri": "https://localhost:8080/"
        },
        "id": "nGLp9W4UIgCc",
        "outputId": "4226ceda-8059-4806-bd77-33078c03e30c"
      },
      "source": [
        "features, outputs = df[\"rosters vector\"], df['rating vector']\n",
        "\n",
        "features = pd.DataFrame(features.values.tolist(), index= df.index)\n",
        "outputs = pd.DataFrame(outputs.values.tolist(), index= df.index)\n",
        "\n",
        "print(np.shape(features))\n",
        "print(np.shape(outputs))"
      ],
      "execution_count": 80,
      "outputs": [
        {
          "output_type": "stream",
          "text": [
            "(17488, 1068)\n",
            "(17488, 1068)\n"
          ],
          "name": "stdout"
        }
      ]
    },
    {
      "cell_type": "code",
      "metadata": {
        "id": "r9liGRWbIgCe"
      },
      "source": [
        "from sklearn.model_selection import train_test_split\n",
        "X, X_test, y, y_test = train_test_split(features, outputs, test_size=0.1, random_state=42)\n",
        "\n",
        "# I'm just going to use train_test_split again to create a validation dataset\n",
        "X_train, X_val, y_train, y_val = train_test_split(X, y, test_size=0.1, random_state=42)\n",
        "\n",
        "validation_ds = (X_val, y_val)"
      ],
      "execution_count": 81,
      "outputs": []
    },
    {
      "cell_type": "code",
      "metadata": {
        "colab": {
          "base_uri": "https://localhost:8080/"
        },
        "id": "ZW_XJYgwIgCg",
        "outputId": "fa9e63ce-d08e-4172-8bb1-e9f1537e36b3"
      },
      "source": [
        "print(len(X_train))\n",
        "print(len(X))"
      ],
      "execution_count": 82,
      "outputs": [
        {
          "output_type": "stream",
          "text": [
            "14165\n",
            "15739\n"
          ],
          "name": "stdout"
        }
      ]
    },
    {
      "cell_type": "markdown",
      "metadata": {
        "id": "RvygpETRbSWR"
      },
      "source": [
        "# Set a global batch size and steps per epoch\n",
        "\n",
        "I need to set the global batch size for my custom loss function to work."
      ]
    },
    {
      "cell_type": "code",
      "metadata": {
        "id": "9HFBcy3TIgCg"
      },
      "source": [
        "# I'll use steps per epoch instead of batch size because my custom loss function could be innacurate on a smaller batch at end of training set\n",
        "GLOBAL_BATCH_SIZE = 329\n",
        "STEPS_PER_EPOCH = len(X_train)//GLOBAL_BATCH_SIZE"
      ],
      "execution_count": 83,
      "outputs": []
    },
    {
      "cell_type": "markdown",
      "metadata": {
        "id": "ez9igJ38bkjL"
      },
      "source": [
        "# Create custom loss function"
      ]
    },
    {
      "cell_type": "code",
      "metadata": {
        "id": "tKFMEg1XIgCh"
      },
      "source": [
        "# create loss function that only takes into account values from the output dont have a true value of 0\n",
        "class Filtered_MAE(tf.keras.losses.Loss):\n",
        "\n",
        "    def call(self, y_true, y_pred):\n",
        "        loss = my_loss(y_true, y_pred)\n",
        "        loss_divided_by_batch = tf.divide(loss, GLOBAL_BATCH_SIZE)\n",
        "        return loss_divided_by_batch"
      ],
      "execution_count": 84,
      "outputs": []
    },
    {
      "cell_type": "markdown",
      "metadata": {
        "id": "JN-DitZcaUBy"
      },
      "source": [
        "The sigmoid defined by my_step is very close to a step function, if x = 0, then it will return nearly 0, and if x is a reasonable rating value, even something as low as 0.4, it will return (pretty much) 1. I will plug in y_true to this and then multiply the result by the error so that error on predictions where where y_true = 0 becomes tiny but where y_true is an actual rating stays pretty much the same"
      ]
    },
    {
      "cell_type": "code",
      "metadata": {
        "id": "GgdO5KSoIgCh"
      },
      "source": [
        "def my_loss(y_true, y_pred):\n",
        "    \n",
        "    def my_step(x):\n",
        "        return tf.divide(1.0, tf.add(1.0, tf.exp(tf.multiply(-1000.0, tf.subtract(x, 0.02)))))\n",
        "    \n",
        "    # we can hardcode denominator as 10 since we know that there will always be 10 relevent values\n",
        "    # in this case I just multiply by 0.1 for simplicity  \n",
        "    loss = tf.multiply(0.1, tf.reduce_sum(tf.multiply(my_step(y_true), tf.abs(tf.subtract(y_pred, y_true)))))\n",
        "    loss_per_batch = tf.divide(loss, GLOBAL_BATCH_SIZE)\n",
        "    return loss\n",
        "\n",
        "    # return K.in_train_phase(0, loss)\n",
        "    # return loss_per_batch"
      ],
      "execution_count": 85,
      "outputs": []
    },
    {
      "cell_type": "markdown",
      "metadata": {
        "id": "lJLUeTtRanaG"
      },
      "source": [
        "# Set up tensorboard"
      ]
    },
    {
      "cell_type": "code",
      "metadata": {
        "id": "eBspStN4Z7xY"
      },
      "source": [
        "logdir = pathlib.Path(tempfile.mkdtemp())/\"tensorboard_logs\"\n",
        "shutil.rmtree(logdir, ignore_errors=True)"
      ],
      "execution_count": 135,
      "outputs": []
    },
    {
      "cell_type": "markdown",
      "metadata": {
        "id": "qeVRDOnDar_3"
      },
      "source": [
        "# Create Compile and fit fucntion"
      ]
    },
    {
      "cell_type": "code",
      "metadata": {
        "id": "OG8Y8NN_IgCh"
      },
      "source": [
        "def compile_and_fit(model, \n",
        "                    name,\n",
        "                    max_epochs=1000, \n",
        "                    initial_lr=0.001, \n",
        "                    es_patience=50,\n",
        "                    verbose=0):\n",
        "\n",
        "    # Reduce the learning rate as training goes on\n",
        "    lr_schedule = tf.keras.optimizers.schedules.InverseTimeDecay(\n",
        "        initial_lr,\n",
        "        decay_steps=STEPS_PER_EPOCH*0.1*max_epochs,\n",
        "        decay_rate=1,\n",
        "        staircase=False)\n",
        "    \n",
        "    # Add early stopping\n",
        "    early_stopping = tf.keras.callbacks.EarlyStopping(monitor='val_loss', \n",
        "                                                      patience=es_patience, \n",
        "                                                      verbose=1)\n",
        "\n",
        "    model.compile(loss=Filtered_MAE(),\n",
        "                  optimizer=tf.keras.optimizers.Adam(lr_schedule))\n",
        "    \n",
        "    for output in model.outputs:\n",
        "        output._uses_learning_phase = True\n",
        "\n",
        "    model.summary()\n",
        "\n",
        "    history = model.fit(X_train,\n",
        "                        y_train, \n",
        "                        verbose=verbose, \n",
        "                        epochs=max_epochs,\n",
        "                        # steps_per_epoch=STEPS_PER_EPOCH,\n",
        "                        batch_size = GLOBAL_BATCH_SIZE,\n",
        "                        validation_data=validation_ds,\n",
        "                        validation_batch_size = GLOBAL_BATCH_SIZE,\n",
        "                        # validation_steps=STEPS_PER_EPOCH//10,\n",
        "                        callbacks=[early_stopping,\n",
        "                                   tf.keras.callbacks.TensorBoard(logdir/name)])\n",
        "    print(\"Evaluation on test set:\")\n",
        "    mae = model.evaluate(X_test, y_test,\n",
        "                         verbose=1,\n",
        "                         batch_size = GLOBAL_BATCH_SIZE)\n",
        "    \n",
        "    return history\n"
      ],
      "execution_count": 172,
      "outputs": []
    },
    {
      "cell_type": "markdown",
      "metadata": {
        "id": "XXVKakvT4xuE"
      },
      "source": [
        "# Train a few models with different Architectures"
      ]
    },
    {
      "cell_type": "code",
      "metadata": {
        "colab": {
          "base_uri": "https://localhost:8080/"
        },
        "id": "lNHh2JKRIgCi",
        "outputId": "252b1930-c219-4da2-924b-8219c1d52db8"
      },
      "source": [
        "n_inputs, n_outputs = features.shape[1], outputs.shape[1]\n",
        "n_inputs"
      ],
      "execution_count": 150,
      "outputs": [
        {
          "output_type": "execute_result",
          "data": {
            "text/plain": [
              "1068"
            ]
          },
          "metadata": {
            "tags": []
          },
          "execution_count": 150
        }
      ]
    },
    {
      "cell_type": "code",
      "metadata": {
        "id": "qg_YGHtCIgCi"
      },
      "source": [
        "linear_perceptron_model = Sequential([\n",
        "    Dense(n_outputs, input_dim=n_inputs, activation='linear')\n",
        "])"
      ],
      "execution_count": 151,
      "outputs": []
    },
    {
      "cell_type": "code",
      "metadata": {
        "colab": {
          "base_uri": "https://localhost:8080/"
        },
        "id": "g_ntIRJ1IgCj",
        "outputId": "b3e8e162-bcca-43cf-b565-d64bfca31c72"
      },
      "source": [
        "histories = {}\n",
        "histories['linear'] =  compile_and_fit(model=linear_perceptron_model,\n",
        "                                       name='linear',\n",
        "                                       initial_lr=0.005)\n"
      ],
      "execution_count": 152,
      "outputs": [
        {
          "output_type": "stream",
          "text": [
            "Model: \"sequential_35\"\n",
            "_________________________________________________________________\n",
            "Layer (type)                 Output Shape              Param #   \n",
            "=================================================================\n",
            "dense_83 (Dense)             (None, 1068)              1141692   \n",
            "=================================================================\n",
            "Total params: 1,141,692\n",
            "Trainable params: 1,141,692\n",
            "Non-trainable params: 0\n",
            "_________________________________________________________________\n",
            "Epoch 00052: early stopping\n",
            "Evaluation on test set:\n",
            "6/6 [==============================] - 0s 3ms/step - loss: 0.2705\n"
          ],
          "name": "stdout"
        }
      ]
    },
    {
      "cell_type": "code",
      "metadata": {
        "id": "67lAyIFpIgCj"
      },
      "source": [
        "tanh_perceptron_model = Sequential([\n",
        "    Dense(n_outputs, input_dim=n_inputs, activation='tanh')\n",
        "])"
      ],
      "execution_count": 153,
      "outputs": []
    },
    {
      "cell_type": "code",
      "metadata": {
        "colab": {
          "base_uri": "https://localhost:8080/"
        },
        "id": "tpGjkFa3IgCj",
        "outputId": "220c2220-f0ab-4e59-887d-c51d04ca22c3"
      },
      "source": [
        "histories['tanh_peceptron'] = compile_and_fit(model=tanh_perceptron_model,\n",
        "                                              name='tanh_peceptron',\n",
        "                                              initial_lr=0.005)"
      ],
      "execution_count": 154,
      "outputs": [
        {
          "output_type": "stream",
          "text": [
            "Model: \"sequential_36\"\n",
            "_________________________________________________________________\n",
            "Layer (type)                 Output Shape              Param #   \n",
            "=================================================================\n",
            "dense_84 (Dense)             (None, 1068)              1141692   \n",
            "=================================================================\n",
            "Total params: 1,141,692\n",
            "Trainable params: 1,141,692\n",
            "Non-trainable params: 0\n",
            "_________________________________________________________________\n",
            "Epoch 00063: early stopping\n",
            "Evaluation on test set:\n",
            "6/6 [==============================] - 0s 4ms/step - loss: 0.2524\n"
          ],
          "name": "stdout"
        }
      ]
    },
    {
      "cell_type": "code",
      "metadata": {
        "colab": {
          "base_uri": "https://localhost:8080/"
        },
        "id": "zL13C1aZIgCn",
        "outputId": "133c3d04-4288-41c6-cd1c-fa4996e3dd16"
      },
      "source": [
        "medium_model = Sequential([\n",
        "    Dense(1068, input_dim=n_inputs, activation='relu'),\n",
        "    Dense(500, activation='relu'),\n",
        "    Dense(n_outputs)\n",
        "])\n",
        "histories['medium_model'] = compile_and_fit(model=medium_model,\n",
        "                                            name='medium_model',\n",
        "                                            initial_lr=0.001)"
      ],
      "execution_count": 155,
      "outputs": [
        {
          "output_type": "stream",
          "text": [
            "Model: \"sequential_37\"\n",
            "_________________________________________________________________\n",
            "Layer (type)                 Output Shape              Param #   \n",
            "=================================================================\n",
            "dense_85 (Dense)             (None, 1068)              1141692   \n",
            "_________________________________________________________________\n",
            "dense_86 (Dense)             (None, 500)               534500    \n",
            "_________________________________________________________________\n",
            "dense_87 (Dense)             (None, 1068)              535068    \n",
            "=================================================================\n",
            "Total params: 2,211,260\n",
            "Trainable params: 2,211,260\n",
            "Non-trainable params: 0\n",
            "_________________________________________________________________\n",
            "Epoch 00053: early stopping\n",
            "Evaluation on test set:\n",
            "6/6 [==============================] - 0s 4ms/step - loss: 0.2617\n"
          ],
          "name": "stdout"
        }
      ]
    },
    {
      "cell_type": "code",
      "metadata": {
        "colab": {
          "base_uri": "https://localhost:8080/"
        },
        "id": "-vJvJI5HIgCn",
        "outputId": "81270738-8284-4f06-8513-66de1b6fb81c"
      },
      "source": [
        "from tensorflow.keras import regularizers\n",
        "medium_model_regularized = Sequential([\n",
        "    Dense(1068, \n",
        "          input_dim=n_inputs,\n",
        "          kernel_regularizer=regularizers.l2(0.001),\n",
        "          activation='relu'),\n",
        "    Dense(500, kernel_regularizer=regularizers.l2(0.001), activation='relu'),\n",
        "    Dense(n_outputs)\n",
        "])\n",
        "histories['medium_model_reg'] = compile_and_fit(model=medium_model_regularized,\n",
        "                                                name='medium_model_reg', \n",
        "                                                max_epochs=1000, \n",
        "                                                initial_lr=0.001)"
      ],
      "execution_count": 156,
      "outputs": [
        {
          "output_type": "stream",
          "text": [
            "Model: \"sequential_38\"\n",
            "_________________________________________________________________\n",
            "Layer (type)                 Output Shape              Param #   \n",
            "=================================================================\n",
            "dense_88 (Dense)             (None, 1068)              1141692   \n",
            "_________________________________________________________________\n",
            "dense_89 (Dense)             (None, 500)               534500    \n",
            "_________________________________________________________________\n",
            "dense_90 (Dense)             (None, 1068)              535068    \n",
            "=================================================================\n",
            "Total params: 2,211,260\n",
            "Trainable params: 2,211,260\n",
            "Non-trainable params: 0\n",
            "_________________________________________________________________\n",
            "Epoch 00142: early stopping\n",
            "Evaluation on test set:\n",
            "6/6 [==============================] - 0s 4ms/step - loss: 0.2326\n"
          ],
          "name": "stdout"
        }
      ]
    },
    {
      "cell_type": "code",
      "metadata": {
        "colab": {
          "base_uri": "https://localhost:8080/"
        },
        "id": "qVclrS1FIgCo",
        "outputId": "931fe173-5544-4eb8-937d-30589bfdc3bc"
      },
      "source": [
        "medium_model_dropout = Sequential([\n",
        "    Dense(1068, input_dim=n_inputs, activation='relu'),\n",
        "    Dropout(0.5),\n",
        "    Dense(500, activation='relu'),\n",
        "    Dropout(0.5),\n",
        "    Dense(n_outputs)\n",
        "])\n",
        "histories['medium_model_dropout'] = compile_and_fit(model=medium_model_dropout,\n",
        "                                                    name='medium_model_dropout',\n",
        "                                                    max_epochs=1000,\n",
        "                                                    initial_lr=0.001)"
      ],
      "execution_count": 158,
      "outputs": [
        {
          "output_type": "stream",
          "text": [
            "Model: \"sequential_40\"\n",
            "_________________________________________________________________\n",
            "Layer (type)                 Output Shape              Param #   \n",
            "=================================================================\n",
            "dense_94 (Dense)             (None, 1068)              1141692   \n",
            "_________________________________________________________________\n",
            "dropout_34 (Dropout)         (None, 1068)              0         \n",
            "_________________________________________________________________\n",
            "dense_95 (Dense)             (None, 500)               534500    \n",
            "_________________________________________________________________\n",
            "dropout_35 (Dropout)         (None, 500)               0         \n",
            "_________________________________________________________________\n",
            "dense_96 (Dense)             (None, 1068)              535068    \n",
            "=================================================================\n",
            "Total params: 2,211,260\n",
            "Trainable params: 2,211,260\n",
            "Non-trainable params: 0\n",
            "_________________________________________________________________\n",
            "Epoch 00053: early stopping\n",
            "Evaluation on test set:\n",
            "6/6 [==============================] - 0s 4ms/step - loss: 0.2497\n"
          ],
          "name": "stdout"
        }
      ]
    },
    {
      "cell_type": "code",
      "metadata": {
        "tags": [
          "outputPrepend"
        ],
        "colab": {
          "base_uri": "https://localhost:8080/"
        },
        "id": "z18cio_-IgCo",
        "outputId": "be9fa1c8-d332-4f63-9f3e-a02d316c789f"
      },
      "source": [
        "medium_model_dropout_regularized = Sequential([\n",
        "    Dense(1068,\n",
        "          input_dim=n_inputs,\n",
        "          kernel_regularizer=regularizers.l2(0.001),\n",
        "          activation='relu'),\n",
        "    Dropout(0.5),\n",
        "    Dense(500, kernel_regularizer=regularizers.l2(0.001), activation='relu'),\n",
        "    Dropout(0.5),\n",
        "    Dense(n_outputs)\n",
        "])\n",
        "histories['medium_dropout_regularized'] = compile_and_fit(model=medium_model_dropout_regularized, \n",
        "                                                          name='medium_dropout_regularized',\n",
        "                                                          max_epochs=1000, \n",
        "                                                          initial_lr=0.001)"
      ],
      "execution_count": 160,
      "outputs": [
        {
          "output_type": "stream",
          "text": [
            "Model: \"sequential_41\"\n",
            "_________________________________________________________________\n",
            "Layer (type)                 Output Shape              Param #   \n",
            "=================================================================\n",
            "dense_97 (Dense)             (None, 1068)              1141692   \n",
            "_________________________________________________________________\n",
            "dropout_36 (Dropout)         (None, 1068)              0         \n",
            "_________________________________________________________________\n",
            "dense_98 (Dense)             (None, 500)               534500    \n",
            "_________________________________________________________________\n",
            "dropout_37 (Dropout)         (None, 500)               0         \n",
            "_________________________________________________________________\n",
            "dense_99 (Dense)             (None, 1068)              535068    \n",
            "=================================================================\n",
            "Total params: 2,211,260\n",
            "Trainable params: 2,211,260\n",
            "Non-trainable params: 0\n",
            "_________________________________________________________________\n",
            "Epoch 00195: early stopping\n",
            "Evaluation on test set:\n",
            "6/6 [==============================] - 0s 3ms/step - loss: 0.2327\n"
          ],
          "name": "stdout"
        }
      ]
    },
    {
      "cell_type": "code",
      "metadata": {
        "colab": {
          "base_uri": "https://localhost:8080/",
          "height": 844
        },
        "id": "-yon_ikujfpq",
        "outputId": "797b820d-6b25-450f-9798-487a533c5403"
      },
      "source": [
        "plotter = tfdocs.plots.HistoryPlotter(metric = 'loss', smoothing_std=10)\n",
        "\n",
        "plt.figure(figsize = (20,14))\n",
        "\n",
        "plotter.plot(histories)\n",
        "# a = plt.xscale('log')\n",
        "plt.xlim([2, max(plt.xlim())])\n",
        "plt.ylim([0.1, 0.4])\n",
        "plt.xlabel(\"Epochs\")"
      ],
      "execution_count": 169,
      "outputs": [
        {
          "output_type": "execute_result",
          "data": {
            "text/plain": [
              "Text(0.5, 0, 'Epochs')"
            ]
          },
          "metadata": {
            "tags": []
          },
          "execution_count": 169
        },
        {
          "output_type": "display_data",
          "data": {
            "image/png": "[encoded data removed]",
            "text/plain": [
              "<Figure size 1440x1008 with 1 Axes>"
            ]
          },
          "metadata": {
            "tags": [],
            "needs_background": "light"
          }
        }
      ]
    },
    {
      "cell_type": "markdown",
      "metadata": {
        "id": "EUXktSwc44fC"
      },
      "source": [
        "The medium model with dropout and regularization performed the best so far"
      ]
    },
    {
      "cell_type": "markdown",
      "metadata": {
        "id": "KmSEYDu04_t2"
      },
      "source": [
        "## Train a particularly big model\n",
        "\n",
        "This model has over 10k hidden units. "
      ]
    },
    {
      "cell_type": "code",
      "metadata": {
        "colab": {
          "base_uri": "https://localhost:8080/"
        },
        "id": "IM_GV862IgCo",
        "outputId": "e55c4bab-78ad-4e1f-8735-da1d0f429465"
      },
      "source": [
        "huge_regularize_dropout_model = Sequential([\n",
        "    Dense(2000, input_dim=n_inputs, kernel_regularizer=regularizers.l2(0.001), activation='relu'),\n",
        "    Dropout(0.5),\n",
        "    Dense(4000, input_dim=n_inputs, kernel_regularizer=regularizers.l2(0.001), activation='relu'),\n",
        "    Dropout(0.5),\n",
        "    Dense(8000, input_dim=n_inputs, kernel_regularizer=regularizers.l2(0.001), activation='relu'),\n",
        "    Dropout(0.5),\n",
        "    Dense(4000, input_dim=n_inputs, kernel_regularizer=regularizers.l2(0.001), activation='relu'),\n",
        "    Dropout(0.5),\n",
        "    Dense(2000, input_dim=n_inputs, kernel_regularizer=regularizers.l2(0.001), activation='relu'),\n",
        "    Dropout(0.5),\n",
        "    Dense(1068, input_dim=n_inputs, kernel_regularizer=regularizers.l2(0.001), activation='relu'),\n",
        "    Dropout(0.5),\n",
        "    Dense(n_outputs)\n",
        "])\n",
        "histories['huge_regularized_dropout'] = compile_and_fit(model=huge_regularize_dropout_model, \n",
        "                                                        name='huge_regularized_dropout',\n",
        "                                                        max_epochs=1000, \n",
        "                                                        initial_lr=0.001,\n",
        "                                                        verbose=1)"
      ],
      "execution_count": 173,
      "outputs": [
        {
          "output_type": "stream",
          "text": [
            "Model: \"sequential_45\"\n",
            "_________________________________________________________________\n",
            "Layer (type)                 Output Shape              Param #   \n",
            "=================================================================\n",
            "dense_117 (Dense)            (None, 2000)              2138000   \n",
            "_________________________________________________________________\n",
            "dropout_50 (Dropout)         (None, 2000)              0         \n",
            "_________________________________________________________________\n",
            "dense_118 (Dense)            (None, 4000)              8004000   \n",
            "_________________________________________________________________\n",
            "dropout_51 (Dropout)         (None, 4000)              0         \n",
            "_________________________________________________________________\n",
            "dense_119 (Dense)            (None, 8000)              32008000  \n",
            "_________________________________________________________________\n",
            "dropout_52 (Dropout)         (None, 8000)              0         \n",
            "_________________________________________________________________\n",
            "dense_120 (Dense)            (None, 4000)              32004000  \n",
            "_________________________________________________________________\n",
            "dropout_53 (Dropout)         (None, 4000)              0         \n",
            "_________________________________________________________________\n",
            "dense_121 (Dense)            (None, 2000)              8002000   \n",
            "_________________________________________________________________\n",
            "dropout_54 (Dropout)         (None, 2000)              0         \n",
            "_________________________________________________________________\n",
            "dense_122 (Dense)            (None, 1068)              2137068   \n",
            "_________________________________________________________________\n",
            "dropout_55 (Dropout)         (None, 1068)              0         \n",
            "_________________________________________________________________\n",
            "dense_123 (Dense)            (None, 1068)              1141692   \n",
            "=================================================================\n",
            "Total params: 85,434,760\n",
            "Trainable params: 85,434,760\n",
            "Non-trainable params: 0\n",
            "_________________________________________________________________\n",
            "Epoch 1/1000\n",
            "44/44 [==============================] - 5s 97ms/step - loss: 9.9882 - val_loss: 1.0920\n",
            "Epoch 2/1000\n",
            "44/44 [==============================] - 3s 78ms/step - loss: 0.8495 - val_loss: 0.4426\n",
            "Epoch 3/1000\n",
            "44/44 [==============================] - 3s 79ms/step - loss: 0.4235 - val_loss: 0.3147\n",
            "Epoch 4/1000\n",
            "44/44 [==============================] - 4s 80ms/step - loss: 0.3236 - val_loss: 0.2736\n",
            "Epoch 5/1000\n",
            "44/44 [==============================] - 3s 79ms/step - loss: 0.2870 - val_loss: 0.2534\n",
            "Epoch 6/1000\n",
            "44/44 [==============================] - 4s 80ms/step - loss: 0.2703 - val_loss: 0.2455\n",
            "Epoch 7/1000\n",
            "44/44 [==============================] - 4s 80ms/step - loss: 0.2619 - val_loss: 0.2419\n",
            "Epoch 8/1000\n",
            "44/44 [==============================] - 3s 79ms/step - loss: 0.2591 - val_loss: 0.2391\n",
            "Epoch 9/1000\n",
            "44/44 [==============================] - 3s 79ms/step - loss: 0.2566 - val_loss: 0.2380\n",
            "Epoch 10/1000\n",
            "44/44 [==============================] - 3s 78ms/step - loss: 0.2539 - val_loss: 0.2370\n",
            "Epoch 11/1000\n",
            "44/44 [==============================] - 3s 78ms/step - loss: 0.2541 - val_loss: 0.2367\n",
            "Epoch 12/1000\n",
            "44/44 [==============================] - 3s 79ms/step - loss: 0.2533 - val_loss: 0.2364\n",
            "Epoch 13/1000\n",
            "44/44 [==============================] - 3s 78ms/step - loss: 0.2518 - val_loss: 0.2360\n",
            "Epoch 14/1000\n",
            "44/44 [==============================] - 3s 78ms/step - loss: 0.2500 - val_loss: 0.2360\n",
            "Epoch 15/1000\n",
            "44/44 [==============================] - 3s 77ms/step - loss: 0.2502 - val_loss: 0.2355\n",
            "Epoch 16/1000\n",
            "44/44 [==============================] - 3s 77ms/step - loss: 0.2488 - val_loss: 0.2365\n",
            "Epoch 17/1000\n",
            "44/44 [==============================] - 3s 77ms/step - loss: 0.2479 - val_loss: 0.2359\n",
            "Epoch 18/1000\n",
            "44/44 [==============================] - 3s 77ms/step - loss: 0.2489 - val_loss: 0.2351\n",
            "Epoch 19/1000\n",
            "44/44 [==============================] - 3s 77ms/step - loss: 0.2477 - val_loss: 0.2332\n",
            "Epoch 20/1000\n",
            "44/44 [==============================] - 3s 77ms/step - loss: 0.2478 - val_loss: 0.2336\n",
            "Epoch 21/1000\n",
            "44/44 [==============================] - 3s 77ms/step - loss: 0.2467 - val_loss: 0.2332\n",
            "Epoch 22/1000\n",
            "44/44 [==============================] - 3s 78ms/step - loss: 0.2473 - val_loss: 0.2333\n",
            "Epoch 23/1000\n",
            "44/44 [==============================] - 3s 78ms/step - loss: 0.2452 - val_loss: 0.2331\n",
            "Epoch 24/1000\n",
            "44/44 [==============================] - 3s 78ms/step - loss: 0.2456 - val_loss: 0.2330\n",
            "Epoch 25/1000\n",
            "44/44 [==============================] - 3s 78ms/step - loss: 0.2448 - val_loss: 0.2330\n",
            "Epoch 26/1000\n",
            "44/44 [==============================] - 3s 78ms/step - loss: 0.2457 - val_loss: 0.2328\n",
            "Epoch 27/1000\n",
            "44/44 [==============================] - 3s 78ms/step - loss: 0.2451 - val_loss: 0.2325\n",
            "Epoch 28/1000\n",
            "44/44 [==============================] - 3s 78ms/step - loss: 0.2452 - val_loss: 0.2325\n",
            "Epoch 29/1000\n",
            "44/44 [==============================] - 3s 78ms/step - loss: 0.2446 - val_loss: 0.2326\n",
            "Epoch 30/1000\n",
            "44/44 [==============================] - 3s 78ms/step - loss: 0.2454 - val_loss: 0.2323\n",
            "Epoch 31/1000\n",
            "44/44 [==============================] - 3s 79ms/step - loss: 0.2461 - val_loss: 0.2327\n",
            "Epoch 32/1000\n",
            "44/44 [==============================] - 3s 78ms/step - loss: 0.2463 - val_loss: 0.2330\n",
            "Epoch 33/1000\n",
            "44/44 [==============================] - 3s 78ms/step - loss: 0.2454 - val_loss: 0.2327\n",
            "Epoch 34/1000\n",
            "44/44 [==============================] - 3s 78ms/step - loss: 0.2450 - val_loss: 0.2326\n",
            "Epoch 35/1000\n",
            "44/44 [==============================] - 3s 78ms/step - loss: 0.2452 - val_loss: 0.2329\n",
            "Epoch 36/1000\n",
            "44/44 [==============================] - 3s 78ms/step - loss: 0.2445 - val_loss: 0.2322\n",
            "Epoch 37/1000\n",
            "44/44 [==============================] - 3s 78ms/step - loss: 0.2462 - val_loss: 0.2324\n",
            "Epoch 38/1000\n",
            "44/44 [==============================] - 3s 78ms/step - loss: 0.2445 - val_loss: 0.2326\n",
            "Epoch 39/1000\n",
            "44/44 [==============================] - 3s 77ms/step - loss: 0.2438 - val_loss: 0.2327\n",
            "Epoch 40/1000\n",
            "44/44 [==============================] - 3s 78ms/step - loss: 0.2453 - val_loss: 0.2325\n",
            "Epoch 41/1000\n",
            "44/44 [==============================] - 3s 78ms/step - loss: 0.2439 - val_loss: 0.2324\n",
            "Epoch 42/1000\n",
            "44/44 [==============================] - 3s 78ms/step - loss: 0.2444 - val_loss: 0.2321\n",
            "Epoch 43/1000\n",
            "44/44 [==============================] - 3s 78ms/step - loss: 0.2454 - val_loss: 0.2322\n",
            "Epoch 44/1000\n",
            "44/44 [==============================] - 3s 78ms/step - loss: 0.2434 - val_loss: 0.2323\n",
            "Epoch 45/1000\n",
            "44/44 [==============================] - 3s 78ms/step - loss: 0.2456 - val_loss: 0.2323\n",
            "Epoch 46/1000\n",
            "44/44 [==============================] - 3s 78ms/step - loss: 0.2450 - val_loss: 0.2329\n",
            "Epoch 47/1000\n",
            "44/44 [==============================] - 3s 78ms/step - loss: 0.2438 - val_loss: 0.2324\n",
            "Epoch 48/1000\n",
            "44/44 [==============================] - 3s 77ms/step - loss: 0.2434 - val_loss: 0.2327\n",
            "Epoch 49/1000\n",
            "44/44 [==============================] - 3s 77ms/step - loss: 0.2437 - val_loss: 0.2323\n",
            "Epoch 50/1000\n",
            "44/44 [==============================] - 3s 77ms/step - loss: 0.2434 - val_loss: 0.2323\n",
            "Epoch 51/1000\n",
            "44/44 [==============================] - 3s 77ms/step - loss: 0.2434 - val_loss: 0.2324\n",
            "Epoch 52/1000\n",
            "44/44 [==============================] - 3s 77ms/step - loss: 0.2438 - val_loss: 0.2320\n",
            "Epoch 53/1000\n",
            "44/44 [==============================] - 3s 78ms/step - loss: 0.2445 - val_loss: 0.2325\n",
            "Epoch 54/1000\n",
            "44/44 [==============================] - 3s 77ms/step - loss: 0.2451 - val_loss: 0.2323\n",
            "Epoch 55/1000\n",
            "44/44 [==============================] - 3s 77ms/step - loss: 0.2445 - val_loss: 0.2323\n",
            "Epoch 56/1000\n",
            "44/44 [==============================] - 3s 77ms/step - loss: 0.2435 - val_loss: 0.2322\n",
            "Epoch 57/1000\n",
            "44/44 [==============================] - 3s 77ms/step - loss: 0.2461 - val_loss: 0.2322\n",
            "Epoch 58/1000\n",
            "44/44 [==============================] - 3s 77ms/step - loss: 0.2437 - val_loss: 0.2325\n",
            "Epoch 59/1000\n",
            "44/44 [==============================] - 3s 77ms/step - loss: 0.2427 - val_loss: 0.2320\n",
            "Epoch 60/1000\n",
            "44/44 [==============================] - 3s 77ms/step - loss: 0.2440 - val_loss: 0.2322\n",
            "Epoch 61/1000\n",
            "44/44 [==============================] - 3s 77ms/step - loss: 0.2423 - val_loss: 0.2321\n",
            "Epoch 62/1000\n",
            "44/44 [==============================] - 3s 77ms/step - loss: 0.2436 - val_loss: 0.2322\n",
            "Epoch 63/1000\n",
            "44/44 [==============================] - 3s 77ms/step - loss: 0.2449 - val_loss: 0.2322\n",
            "Epoch 64/1000\n",
            "44/44 [==============================] - 3s 77ms/step - loss: 0.2435 - val_loss: 0.2322\n",
            "Epoch 65/1000\n",
            "44/44 [==============================] - 3s 76ms/step - loss: 0.2440 - val_loss: 0.2324\n",
            "Epoch 66/1000\n",
            "44/44 [==============================] - 3s 77ms/step - loss: 0.2444 - val_loss: 0.2323\n",
            "Epoch 67/1000\n",
            "44/44 [==============================] - 3s 77ms/step - loss: 0.2444 - val_loss: 0.2322\n",
            "Epoch 68/1000\n",
            "44/44 [==============================] - 3s 77ms/step - loss: 0.2441 - val_loss: 0.2321\n",
            "Epoch 69/1000\n",
            "44/44 [==============================] - 3s 77ms/step - loss: 0.2449 - val_loss: 0.2319\n",
            "Epoch 70/1000\n",
            "44/44 [==============================] - 3s 77ms/step - loss: 0.2435 - val_loss: 0.2323\n",
            "Epoch 71/1000\n",
            "44/44 [==============================] - 3s 77ms/step - loss: 0.2449 - val_loss: 0.2323\n",
            "Epoch 72/1000\n",
            "44/44 [==============================] - 3s 77ms/step - loss: 0.2445 - val_loss: 0.2319\n",
            "Epoch 73/1000\n",
            "44/44 [==============================] - 3s 77ms/step - loss: 0.2439 - val_loss: 0.2321\n",
            "Epoch 74/1000\n",
            "44/44 [==============================] - 3s 76ms/step - loss: 0.2438 - val_loss: 0.2321\n",
            "Epoch 75/1000\n",
            "44/44 [==============================] - 3s 77ms/step - loss: 0.2438 - val_loss: 0.2322\n",
            "Epoch 76/1000\n",
            "44/44 [==============================] - 3s 77ms/step - loss: 0.2443 - val_loss: 0.2320\n",
            "Epoch 77/1000\n",
            "44/44 [==============================] - 3s 76ms/step - loss: 0.2423 - val_loss: 0.2321\n",
            "Epoch 78/1000\n",
            "44/44 [==============================] - 3s 77ms/step - loss: 0.2432 - val_loss: 0.2320\n",
            "Epoch 79/1000\n",
            "44/44 [==============================] - 3s 77ms/step - loss: 0.2430 - val_loss: 0.2321\n",
            "Epoch 80/1000\n",
            "44/44 [==============================] - 3s 77ms/step - loss: 0.2437 - val_loss: 0.2321\n",
            "Epoch 81/1000\n",
            "44/44 [==============================] - 3s 77ms/step - loss: 0.2432 - val_loss: 0.2322\n",
            "Epoch 82/1000\n",
            "44/44 [==============================] - 3s 77ms/step - loss: 0.2434 - val_loss: 0.2321\n",
            "Epoch 83/1000\n",
            "44/44 [==============================] - 3s 77ms/step - loss: 0.2436 - val_loss: 0.2318\n",
            "Epoch 84/1000\n",
            "44/44 [==============================] - 3s 76ms/step - loss: 0.2429 - val_loss: 0.2324\n",
            "Epoch 85/1000\n",
            "44/44 [==============================] - 3s 77ms/step - loss: 0.2428 - val_loss: 0.2322\n",
            "Epoch 86/1000\n",
            "44/44 [==============================] - 3s 77ms/step - loss: 0.2449 - val_loss: 0.2320\n",
            "Epoch 87/1000\n",
            "44/44 [==============================] - 3s 77ms/step - loss: 0.2441 - val_loss: 0.2322\n",
            "Epoch 88/1000\n",
            "44/44 [==============================] - 3s 76ms/step - loss: 0.2435 - val_loss: 0.2320\n",
            "Epoch 89/1000\n",
            "44/44 [==============================] - 3s 77ms/step - loss: 0.2424 - val_loss: 0.2320\n",
            "Epoch 90/1000\n",
            "44/44 [==============================] - 3s 77ms/step - loss: 0.2444 - val_loss: 0.2320\n",
            "Epoch 91/1000\n",
            "44/44 [==============================] - 3s 77ms/step - loss: 0.2417 - val_loss: 0.2321\n",
            "Epoch 92/1000\n",
            "44/44 [==============================] - 3s 77ms/step - loss: 0.2439 - val_loss: 0.2322\n",
            "Epoch 93/1000\n",
            "44/44 [==============================] - 3s 77ms/step - loss: 0.2430 - val_loss: 0.2322\n",
            "Epoch 94/1000\n",
            "44/44 [==============================] - 3s 76ms/step - loss: 0.2438 - val_loss: 0.2323\n",
            "Epoch 95/1000\n",
            "44/44 [==============================] - 3s 76ms/step - loss: 0.2432 - val_loss: 0.2320\n",
            "Epoch 96/1000\n",
            "44/44 [==============================] - 3s 77ms/step - loss: 0.2446 - val_loss: 0.2321\n",
            "Epoch 97/1000\n",
            "44/44 [==============================] - 3s 77ms/step - loss: 0.2436 - val_loss: 0.2321\n",
            "Epoch 98/1000\n",
            "44/44 [==============================] - 3s 76ms/step - loss: 0.2437 - val_loss: 0.2319\n",
            "Epoch 99/1000\n",
            "44/44 [==============================] - 3s 76ms/step - loss: 0.2425 - val_loss: 0.2321\n",
            "Epoch 100/1000\n",
            "44/44 [==============================] - 3s 76ms/step - loss: 0.2430 - val_loss: 0.2322\n",
            "Epoch 101/1000\n",
            "44/44 [==============================] - 3s 76ms/step - loss: 0.2436 - val_loss: 0.2321\n",
            "Epoch 102/1000\n",
            "44/44 [==============================] - 3s 76ms/step - loss: 0.2432 - val_loss: 0.2320\n",
            "Epoch 103/1000\n",
            "44/44 [==============================] - 3s 77ms/step - loss: 0.2438 - val_loss: 0.2320\n",
            "Epoch 104/1000\n",
            "44/44 [==============================] - 3s 77ms/step - loss: 0.2424 - val_loss: 0.2319\n",
            "Epoch 105/1000\n",
            "44/44 [==============================] - 3s 76ms/step - loss: 0.2429 - val_loss: 0.2321\n",
            "Epoch 106/1000\n",
            "44/44 [==============================] - 3s 76ms/step - loss: 0.2429 - val_loss: 0.2320\n",
            "Epoch 107/1000\n",
            "44/44 [==============================] - 3s 76ms/step - loss: 0.2437 - val_loss: 0.2319\n",
            "Epoch 108/1000\n",
            "44/44 [==============================] - 3s 76ms/step - loss: 0.2425 - val_loss: 0.2323\n",
            "Epoch 109/1000\n",
            "44/44 [==============================] - 3s 77ms/step - loss: 0.2427 - val_loss: 0.2321\n",
            "Epoch 110/1000\n",
            "44/44 [==============================] - 3s 76ms/step - loss: 0.2431 - val_loss: 0.2320\n",
            "Epoch 111/1000\n",
            "44/44 [==============================] - 3s 77ms/step - loss: 0.2431 - val_loss: 0.2319\n",
            "Epoch 112/1000\n",
            "44/44 [==============================] - 3s 76ms/step - loss: 0.2421 - val_loss: 0.2320\n",
            "Epoch 113/1000\n",
            "44/44 [==============================] - 3s 76ms/step - loss: 0.2425 - val_loss: 0.2319\n",
            "Epoch 114/1000\n",
            "44/44 [==============================] - 3s 76ms/step - loss: 0.2439 - val_loss: 0.2321\n",
            "Epoch 115/1000\n",
            "44/44 [==============================] - 3s 76ms/step - loss: 0.2432 - val_loss: 0.2320\n",
            "Epoch 116/1000\n",
            "44/44 [==============================] - 3s 76ms/step - loss: 0.2436 - val_loss: 0.2322\n",
            "Epoch 117/1000\n",
            "44/44 [==============================] - 3s 76ms/step - loss: 0.2435 - val_loss: 0.2320\n",
            "Epoch 118/1000\n",
            "44/44 [==============================] - 3s 76ms/step - loss: 0.2441 - val_loss: 0.2320\n",
            "Epoch 119/1000\n",
            "44/44 [==============================] - 3s 76ms/step - loss: 0.2430 - val_loss: 0.2321\n",
            "Epoch 120/1000\n",
            "44/44 [==============================] - 3s 76ms/step - loss: 0.2445 - val_loss: 0.2318\n",
            "Epoch 121/1000\n",
            "44/44 [==============================] - 3s 76ms/step - loss: 0.2427 - val_loss: 0.2319\n",
            "Epoch 122/1000\n",
            "44/44 [==============================] - 3s 76ms/step - loss: 0.2430 - val_loss: 0.2319\n",
            "Epoch 123/1000\n",
            "44/44 [==============================] - 3s 76ms/step - loss: 0.2430 - val_loss: 0.2321\n",
            "Epoch 124/1000\n",
            "44/44 [==============================] - 3s 76ms/step - loss: 0.2425 - val_loss: 0.2319\n",
            "Epoch 125/1000\n",
            "44/44 [==============================] - 3s 75ms/step - loss: 0.2434 - val_loss: 0.2320\n",
            "Epoch 126/1000\n",
            "44/44 [==============================] - 3s 76ms/step - loss: 0.2429 - val_loss: 0.2320\n",
            "Epoch 127/1000\n",
            "44/44 [==============================] - 3s 76ms/step - loss: 0.2424 - val_loss: 0.2321\n",
            "Epoch 128/1000\n",
            "44/44 [==============================] - 3s 76ms/step - loss: 0.2427 - val_loss: 0.2320\n",
            "Epoch 129/1000\n",
            "44/44 [==============================] - 3s 76ms/step - loss: 0.2439 - val_loss: 0.2322\n",
            "Epoch 130/1000\n",
            "44/44 [==============================] - 3s 76ms/step - loss: 0.2425 - val_loss: 0.2321\n",
            "Epoch 131/1000\n",
            "44/44 [==============================] - 3s 75ms/step - loss: 0.2432 - val_loss: 0.2321\n",
            "Epoch 132/1000\n",
            "44/44 [==============================] - 3s 75ms/step - loss: 0.2443 - val_loss: 0.2320\n",
            "Epoch 133/1000\n",
            "44/44 [==============================] - 3s 76ms/step - loss: 0.2427 - val_loss: 0.2321\n",
            "Epoch 134/1000\n",
            "44/44 [==============================] - 3s 75ms/step - loss: 0.2425 - val_loss: 0.2320\n",
            "Epoch 135/1000\n",
            "44/44 [==============================] - 3s 75ms/step - loss: 0.2426 - val_loss: 0.2318\n",
            "Epoch 136/1000\n",
            "44/44 [==============================] - 3s 75ms/step - loss: 0.2446 - val_loss: 0.2320\n",
            "Epoch 137/1000\n",
            "44/44 [==============================] - 3s 76ms/step - loss: 0.2417 - val_loss: 0.2321\n",
            "Epoch 138/1000\n",
            "44/44 [==============================] - 3s 75ms/step - loss: 0.2413 - val_loss: 0.2320\n",
            "Epoch 139/1000\n",
            "44/44 [==============================] - 3s 75ms/step - loss: 0.2421 - val_loss: 0.2319\n",
            "Epoch 140/1000\n",
            "44/44 [==============================] - 3s 76ms/step - loss: 0.2429 - val_loss: 0.2322\n",
            "Epoch 141/1000\n",
            "44/44 [==============================] - 3s 75ms/step - loss: 0.2429 - val_loss: 0.2323\n",
            "Epoch 142/1000\n",
            "44/44 [==============================] - 3s 75ms/step - loss: 0.2425 - val_loss: 0.2321\n",
            "Epoch 143/1000\n",
            "44/44 [==============================] - 3s 76ms/step - loss: 0.2434 - val_loss: 0.2319\n",
            "Epoch 144/1000\n",
            "44/44 [==============================] - 3s 75ms/step - loss: 0.2428 - val_loss: 0.2322\n",
            "Epoch 145/1000\n",
            "44/44 [==============================] - 3s 75ms/step - loss: 0.2434 - val_loss: 0.2320\n",
            "Epoch 146/1000\n",
            "44/44 [==============================] - 3s 75ms/step - loss: 0.2423 - val_loss: 0.2321\n",
            "Epoch 147/1000\n",
            "44/44 [==============================] - 3s 75ms/step - loss: 0.2422 - val_loss: 0.2320\n",
            "Epoch 148/1000\n",
            "44/44 [==============================] - 3s 75ms/step - loss: 0.2427 - val_loss: 0.2321\n",
            "Epoch 149/1000\n",
            "44/44 [==============================] - 3s 76ms/step - loss: 0.2416 - val_loss: 0.2319\n",
            "Epoch 150/1000\n",
            "44/44 [==============================] - 3s 76ms/step - loss: 0.2423 - val_loss: 0.2322\n",
            "Epoch 151/1000\n",
            "44/44 [==============================] - 3s 75ms/step - loss: 0.2434 - val_loss: 0.2320\n",
            "Epoch 152/1000\n",
            "44/44 [==============================] - 3s 76ms/step - loss: 0.2428 - val_loss: 0.2319\n",
            "Epoch 153/1000\n",
            "44/44 [==============================] - 3s 75ms/step - loss: 0.2413 - val_loss: 0.2318\n",
            "Epoch 154/1000\n",
            "44/44 [==============================] - 3s 76ms/step - loss: 0.2428 - val_loss: 0.2318\n",
            "Epoch 155/1000\n",
            "44/44 [==============================] - 3s 76ms/step - loss: 0.2425 - val_loss: 0.2318\n",
            "Epoch 156/1000\n",
            "44/44 [==============================] - 3s 75ms/step - loss: 0.2425 - val_loss: 0.2319\n",
            "Epoch 157/1000\n",
            "44/44 [==============================] - 3s 76ms/step - loss: 0.2423 - val_loss: 0.2320\n",
            "Epoch 158/1000\n",
            "44/44 [==============================] - 3s 75ms/step - loss: 0.2419 - val_loss: 0.2318\n",
            "Epoch 159/1000\n",
            "44/44 [==============================] - 3s 76ms/step - loss: 0.2433 - val_loss: 0.2320\n",
            "Epoch 160/1000\n",
            "44/44 [==============================] - 3s 75ms/step - loss: 0.2424 - val_loss: 0.2319\n",
            "Epoch 161/1000\n",
            "44/44 [==============================] - 3s 76ms/step - loss: 0.2438 - val_loss: 0.2319\n",
            "Epoch 162/1000\n",
            "44/44 [==============================] - 3s 75ms/step - loss: 0.2439 - val_loss: 0.2321\n",
            "Epoch 163/1000\n",
            "44/44 [==============================] - 3s 75ms/step - loss: 0.2443 - val_loss: 0.2318\n",
            "Epoch 164/1000\n",
            "44/44 [==============================] - 3s 75ms/step - loss: 0.2432 - val_loss: 0.2319\n",
            "Epoch 165/1000\n",
            "44/44 [==============================] - 3s 76ms/step - loss: 0.2438 - val_loss: 0.2319\n",
            "Epoch 166/1000\n",
            "44/44 [==============================] - 3s 75ms/step - loss: 0.2430 - val_loss: 0.2319\n",
            "Epoch 167/1000\n",
            "44/44 [==============================] - 3s 75ms/step - loss: 0.2414 - val_loss: 0.2320\n",
            "Epoch 168/1000\n",
            "44/44 [==============================] - 3s 75ms/step - loss: 0.2417 - val_loss: 0.2319\n",
            "Epoch 169/1000\n",
            "44/44 [==============================] - 3s 76ms/step - loss: 0.2428 - val_loss: 0.2319\n",
            "Epoch 170/1000\n",
            "44/44 [==============================] - 3s 75ms/step - loss: 0.2429 - val_loss: 0.2319\n",
            "Epoch 171/1000\n",
            "44/44 [==============================] - 3s 75ms/step - loss: 0.2428 - val_loss: 0.2320\n",
            "Epoch 172/1000\n",
            "44/44 [==============================] - 3s 75ms/step - loss: 0.2409 - val_loss: 0.2321\n",
            "Epoch 173/1000\n",
            "44/44 [==============================] - 3s 75ms/step - loss: 0.2422 - val_loss: 0.2318\n",
            "Epoch 174/1000\n",
            "44/44 [==============================] - 3s 76ms/step - loss: 0.2430 - val_loss: 0.2319\n",
            "Epoch 175/1000\n",
            "44/44 [==============================] - 3s 75ms/step - loss: 0.2419 - val_loss: 0.2319\n",
            "Epoch 176/1000\n",
            "44/44 [==============================] - 3s 76ms/step - loss: 0.2436 - val_loss: 0.2322\n",
            "Epoch 177/1000\n",
            "44/44 [==============================] - 3s 76ms/step - loss: 0.2418 - val_loss: 0.2320\n",
            "Epoch 178/1000\n",
            "44/44 [==============================] - 3s 76ms/step - loss: 0.2421 - val_loss: 0.2319\n",
            "Epoch 179/1000\n",
            "44/44 [==============================] - 3s 76ms/step - loss: 0.2418 - val_loss: 0.2319\n",
            "Epoch 180/1000\n",
            "44/44 [==============================] - 3s 76ms/step - loss: 0.2418 - val_loss: 0.2319\n",
            "Epoch 181/1000\n",
            "44/44 [==============================] - 3s 75ms/step - loss: 0.2435 - val_loss: 0.2320\n",
            "Epoch 182/1000\n",
            "44/44 [==============================] - 3s 75ms/step - loss: 0.2422 - val_loss: 0.2319\n",
            "Epoch 183/1000\n",
            "44/44 [==============================] - 3s 75ms/step - loss: 0.2436 - val_loss: 0.2320\n",
            "Epoch 184/1000\n",
            "44/44 [==============================] - 3s 76ms/step - loss: 0.2423 - val_loss: 0.2320\n",
            "Epoch 185/1000\n",
            "44/44 [==============================] - 3s 76ms/step - loss: 0.2422 - val_loss: 0.2320\n",
            "Epoch 186/1000\n",
            "44/44 [==============================] - 3s 75ms/step - loss: 0.2430 - val_loss: 0.2321\n",
            "Epoch 187/1000\n",
            "44/44 [==============================] - 3s 75ms/step - loss: 0.2419 - val_loss: 0.2319\n",
            "Epoch 188/1000\n",
            "44/44 [==============================] - 3s 76ms/step - loss: 0.2439 - val_loss: 0.2320\n",
            "Epoch 189/1000\n",
            "44/44 [==============================] - 3s 76ms/step - loss: 0.2428 - val_loss: 0.2319\n",
            "Epoch 190/1000\n",
            "44/44 [==============================] - 3s 76ms/step - loss: 0.2425 - val_loss: 0.2318\n",
            "Epoch 191/1000\n",
            "44/44 [==============================] - 3s 76ms/step - loss: 0.2430 - val_loss: 0.2318\n",
            "Epoch 192/1000\n",
            "44/44 [==============================] - 3s 75ms/step - loss: 0.2430 - val_loss: 0.2318\n",
            "Epoch 193/1000\n",
            "44/44 [==============================] - 3s 76ms/step - loss: 0.2432 - val_loss: 0.2320\n",
            "Epoch 194/1000\n",
            "44/44 [==============================] - 3s 76ms/step - loss: 0.2421 - val_loss: 0.2321\n",
            "Epoch 195/1000\n",
            "44/44 [==============================] - 3s 75ms/step - loss: 0.2431 - val_loss: 0.2318\n",
            "Epoch 196/1000\n",
            "44/44 [==============================] - 3s 75ms/step - loss: 0.2433 - val_loss: 0.2320\n",
            "Epoch 197/1000\n",
            "44/44 [==============================] - 3s 76ms/step - loss: 0.2416 - val_loss: 0.2317\n",
            "Epoch 198/1000\n",
            "44/44 [==============================] - 3s 75ms/step - loss: 0.2426 - val_loss: 0.2318\n",
            "Epoch 199/1000\n",
            "44/44 [==============================] - 3s 75ms/step - loss: 0.2419 - val_loss: 0.2319\n",
            "Epoch 200/1000\n",
            "44/44 [==============================] - 3s 75ms/step - loss: 0.2441 - val_loss: 0.2319\n",
            "Epoch 201/1000\n",
            "44/44 [==============================] - 3s 76ms/step - loss: 0.2431 - val_loss: 0.2318\n",
            "Epoch 202/1000\n",
            "44/44 [==============================] - 3s 75ms/step - loss: 0.2436 - val_loss: 0.2319\n",
            "Epoch 203/1000\n",
            "44/44 [==============================] - 3s 75ms/step - loss: 0.2422 - val_loss: 0.2320\n",
            "Epoch 204/1000\n",
            "44/44 [==============================] - 3s 76ms/step - loss: 0.2428 - val_loss: 0.2318\n",
            "Epoch 205/1000\n",
            "44/44 [==============================] - 3s 75ms/step - loss: 0.2426 - val_loss: 0.2318\n",
            "Epoch 206/1000\n",
            "44/44 [==============================] - 3s 75ms/step - loss: 0.2426 - val_loss: 0.2318\n",
            "Epoch 207/1000\n",
            "44/44 [==============================] - 3s 75ms/step - loss: 0.2432 - val_loss: 0.2319\n",
            "Epoch 208/1000\n",
            "44/44 [==============================] - 3s 76ms/step - loss: 0.2433 - val_loss: 0.2318\n",
            "Epoch 209/1000\n",
            "44/44 [==============================] - 3s 75ms/step - loss: 0.2424 - val_loss: 0.2320\n",
            "Epoch 210/1000\n",
            "44/44 [==============================] - 3s 75ms/step - loss: 0.2418 - val_loss: 0.2320\n",
            "Epoch 211/1000\n",
            "44/44 [==============================] - 3s 75ms/step - loss: 0.2421 - val_loss: 0.2320\n",
            "Epoch 212/1000\n",
            "44/44 [==============================] - 3s 75ms/step - loss: 0.2416 - val_loss: 0.2318\n",
            "Epoch 213/1000\n",
            "44/44 [==============================] - 3s 75ms/step - loss: 0.2433 - val_loss: 0.2319\n",
            "Epoch 214/1000\n",
            "44/44 [==============================] - 3s 75ms/step - loss: 0.2428 - val_loss: 0.2319\n",
            "Epoch 215/1000\n",
            "44/44 [==============================] - 3s 75ms/step - loss: 0.2418 - val_loss: 0.2318\n",
            "Epoch 216/1000\n",
            "44/44 [==============================] - 3s 75ms/step - loss: 0.2419 - val_loss: 0.2318\n",
            "Epoch 217/1000\n",
            "44/44 [==============================] - 3s 75ms/step - loss: 0.2429 - val_loss: 0.2319\n",
            "Epoch 218/1000\n",
            "44/44 [==============================] - 3s 75ms/step - loss: 0.2419 - val_loss: 0.2320\n",
            "Epoch 219/1000\n",
            "44/44 [==============================] - 3s 76ms/step - loss: 0.2417 - val_loss: 0.2320\n",
            "Epoch 220/1000\n",
            "44/44 [==============================] - 3s 75ms/step - loss: 0.2431 - val_loss: 0.2318\n",
            "Epoch 221/1000\n",
            "44/44 [==============================] - 3s 75ms/step - loss: 0.2416 - val_loss: 0.2320\n",
            "Epoch 222/1000\n",
            "44/44 [==============================] - 3s 75ms/step - loss: 0.2420 - val_loss: 0.2318\n",
            "Epoch 223/1000\n",
            "44/44 [==============================] - 3s 75ms/step - loss: 0.2421 - val_loss: 0.2319\n",
            "Epoch 224/1000\n",
            "44/44 [==============================] - 3s 75ms/step - loss: 0.2423 - val_loss: 0.2317\n",
            "Epoch 225/1000\n",
            "44/44 [==============================] - 3s 76ms/step - loss: 0.2415 - val_loss: 0.2319\n",
            "Epoch 226/1000\n",
            "44/44 [==============================] - 3s 75ms/step - loss: 0.2423 - val_loss: 0.2320\n",
            "Epoch 227/1000\n",
            "44/44 [==============================] - 3s 75ms/step - loss: 0.2432 - val_loss: 0.2318\n",
            "Epoch 228/1000\n",
            "44/44 [==============================] - 3s 75ms/step - loss: 0.2421 - val_loss: 0.2319\n",
            "Epoch 229/1000\n",
            "44/44 [==============================] - 3s 75ms/step - loss: 0.2417 - val_loss: 0.2320\n",
            "Epoch 230/1000\n",
            "44/44 [==============================] - 3s 75ms/step - loss: 0.2412 - val_loss: 0.2320\n",
            "Epoch 231/1000\n",
            "44/44 [==============================] - 3s 75ms/step - loss: 0.2424 - val_loss: 0.2319\n",
            "Epoch 232/1000\n",
            "44/44 [==============================] - 3s 76ms/step - loss: 0.2414 - val_loss: 0.2320\n",
            "Epoch 233/1000\n",
            "44/44 [==============================] - 3s 76ms/step - loss: 0.2409 - val_loss: 0.2319\n",
            "Epoch 234/1000\n",
            "44/44 [==============================] - 3s 76ms/step - loss: 0.2420 - val_loss: 0.2319\n",
            "Epoch 235/1000\n",
            "44/44 [==============================] - 3s 75ms/step - loss: 0.2436 - val_loss: 0.2317\n",
            "Epoch 236/1000\n",
            "44/44 [==============================] - 3s 76ms/step - loss: 0.2411 - val_loss: 0.2318\n",
            "Epoch 237/1000\n",
            "44/44 [==============================] - 3s 75ms/step - loss: 0.2425 - val_loss: 0.2318\n",
            "Epoch 238/1000\n",
            "44/44 [==============================] - 3s 75ms/step - loss: 0.2414 - val_loss: 0.2319\n",
            "Epoch 239/1000\n",
            "44/44 [==============================] - 3s 76ms/step - loss: 0.2421 - val_loss: 0.2319\n",
            "Epoch 240/1000\n",
            "44/44 [==============================] - 3s 76ms/step - loss: 0.2411 - val_loss: 0.2319\n",
            "Epoch 241/1000\n",
            "44/44 [==============================] - 3s 75ms/step - loss: 0.2418 - val_loss: 0.2319\n",
            "Epoch 242/1000\n",
            "44/44 [==============================] - 3s 76ms/step - loss: 0.2422 - val_loss: 0.2320\n",
            "Epoch 243/1000\n",
            "44/44 [==============================] - 3s 75ms/step - loss: 0.2419 - val_loss: 0.2318\n",
            "Epoch 244/1000\n",
            "44/44 [==============================] - 3s 75ms/step - loss: 0.2425 - val_loss: 0.2319\n",
            "Epoch 245/1000\n",
            "44/44 [==============================] - 3s 76ms/step - loss: 0.2428 - val_loss: 0.2319\n",
            "Epoch 246/1000\n",
            "44/44 [==============================] - 3s 76ms/step - loss: 0.2428 - val_loss: 0.2318\n",
            "Epoch 247/1000\n",
            "44/44 [==============================] - 3s 75ms/step - loss: 0.2430 - val_loss: 0.2318\n",
            "Epoch 00247: early stopping\n",
            "Evaluation on test set:\n",
            "6/6 [==============================] - 0s 18ms/step - loss: 0.2342\n"
          ],
          "name": "stdout"
        }
      ]
    },
    {
      "cell_type": "code",
      "metadata": {
        "colab": {
          "base_uri": "https://localhost:8080/"
        },
        "id": "uY4Cq3LM51aF",
        "outputId": "be11448e-7b64-4bc9-c47a-e567e8d0e1b3"
      },
      "source": [
        "histories"
      ],
      "execution_count": 180,
      "outputs": [
        {
          "output_type": "execute_result",
          "data": {
            "text/plain": [
              "{'huge_regularized_dropout': <tensorflow.python.keras.callbacks.History at 0x7f0c6590cad0>,\n",
              " 'medium_dropout_regularized': <tensorflow.python.keras.callbacks.History at 0x7f0c3a457f10>,\n",
              " 'medium_model_reg': <tensorflow.python.keras.callbacks.History at 0x7f0c570af150>,\n",
              " 'tanh_peceptron': <tensorflow.python.keras.callbacks.History at 0x7f0c56326990>}"
            ]
          },
          "metadata": {
            "tags": []
          },
          "execution_count": 180
        }
      ]
    },
    {
      "cell_type": "code",
      "metadata": {
        "colab": {
          "base_uri": "https://localhost:8080/",
          "height": 844
        },
        "id": "9UhS8mzXYh7K",
        "outputId": "50feb3d3-c078-4d35-ba7d-25f6c3ca8462"
      },
      "source": [
        "# histories_reduced = histories\n",
        "# histories_reduced.pop('linear')\n",
        "# histories_reduced.pop('medium_model')\n",
        "# histories_reduced.pop('medium_model_dropout')\n",
        "# histories_reduced.pop('tanh_peceptron')\n",
        "\n",
        "plotter = tfdocs.plots.HistoryPlotter(metric = 'loss', smoothing_std=10)\n",
        "\n",
        "plt.figure(figsize = (20,14))\n",
        "\n",
        "plotter.plot(histories_reduced)\n",
        "a = plt.xscale('log')\n",
        "plt.xlim([5, max(plt.xlim())])\n",
        "plt.ylim([0.2, 0.35])\n",
        "plt.xlabel(\"Epochs [Log Scale]\")"
      ],
      "execution_count": 184,
      "outputs": [
        {
          "output_type": "execute_result",
          "data": {
            "text/plain": [
              "Text(0.5, 0, 'Epochs [Log Scale]')"
            ]
          },
          "metadata": {
            "tags": []
          },
          "execution_count": 184
        },
        {
          "output_type": "display_data",
          "data": {
            "image/png": "[encoded data removed]",
            "text/plain": [
              "<Figure size 1440x1008 with 1 Axes>"
            ]
          },
          "metadata": {
            "tags": [],
            "needs_background": "light"
          }
        }
      ]
    },
    {
      "cell_type": "markdown",
      "metadata": {
        "id": "3DSEI5Ft5R7p"
      },
      "source": [
        "Despite being way bigger than the medium model the huge model perform no better. I think this implies that the problem is only solvable to this degree with the information I'm giving the model."
      ]
    },
    {
      "cell_type": "code",
      "metadata": {
        "id": "3Qzz2yDyYRJL"
      },
      "source": [
        "medium_model_regularized.save('med_l2reg.h5')"
      ],
      "execution_count": 185,
      "outputs": []
    },
    {
      "cell_type": "code",
      "metadata": {
        "id": "Jfu_gI7L2wKE"
      },
      "source": [
        ""
      ],
      "execution_count": null,
      "outputs": []
    }
  ]
}