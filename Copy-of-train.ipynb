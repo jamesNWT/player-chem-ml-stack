{
  "nbformat": 4,
  "nbformat_minor": 0,
  "metadata": {
    "language_info": {
      "codemirror_mode": {
        "name": "ipython",
        "version": 3
      },
      "file_extension": ".py",
      "mimetype": "text/x-python",
      "name": "python",
      "nbconvert_exporter": "python",
      "pygments_lexer": "ipython3",
      "version": "3.7.10-final"
    },
    "orig_nbformat": 2,
    "kernelspec": {
      "name": "python3",
      "display_name": "Python 3.7.10 64-bit ('tf': conda)",
      "metadata": {
        "interpreter": {
          "hash": "42eea32459e97d1fc562e9b561f8a94575df71e230e4ccdec5d01957082d6a36"
        }
      }
    },
    "colab": {
      "name": "Copy of train.ipynb",
      "provenance": [],
      "collapsed_sections": []
    },
    "accelerator": "GPU"
  },
  "cells": [
    {
      "cell_type": "code",
      "metadata": {
        "id": "qqVwd40RI80_",
        "colab": {
          "base_uri": "https://localhost:8080/"
        },
        "outputId": "63bea48c-48b7-41c4-add8-729acc9850f1"
      },
      "source": [
        "import pandas as pd\n",
        "from json_functions import create_df_simple, create_example\n",
        "\n",
        "# players_list, df = create_df('test.json')\n",
        "\n",
        "players_list, df = create_df_simple('very-big.json')"
      ],
      "execution_count": 1,
      "outputs": []
    },
    {
      "cell_type": "code",
      "metadata": {
        "id": "SZx-Ece0I81B"
      },
      "source": [
        "import numpy as np\n",
        "import tensorflow as tf"
      ],
      "execution_count": 2,
      "outputs": []
    },
    {
      "cell_type": "code",
      "metadata": {
        "id": "qCD2r_ZsI81B"
      },
      "source": [
        "features, outputs = df[\"rosters vector\"], df['rating vector']\n",
        "\n",
        "features = pd.DataFrame(features.values.tolist(), index= df.index)\n",
        "outputs = pd.DataFrame(outputs.values.tolist(), index= df.index)"
      ],
      "execution_count": 3,
      "outputs": []
    },
    {
      "cell_type": "code",
      "metadata": {
        "id": "7MDDOrMtI81C"
      },
      "source": [
        "def load_array(data_arrays, batch_size, is_train=True):  #@save\n",
        "    \"\"\"Construct a TensorFlow data iterator.\"\"\"\n",
        "    dataset = tf.data.Dataset.from_tensor_slices(data_arrays)\n",
        "    if is_train:\n",
        "        dataset = dataset.shuffle(buffer_size=1000)\n",
        "    dataset = dataset.batch(batch_size)\n",
        "    return dataset\n",
        "\n",
        "batch_size = 10\n",
        "data_iter = load_array((features, outputs), batch_size)"
      ],
      "execution_count": 4,
      "outputs": []
    },
    {
      "cell_type": "code",
      "metadata": {
        "id": "oI9-2-fg3dws"
      },
      "source": [
        "import tensorflow as tf"
      ],
      "execution_count": 5,
      "outputs": []
    },
    {
      "cell_type": "code",
      "metadata": {
        "colab": {
          "base_uri": "https://localhost:8080/"
        },
        "id": "8bmWJrUy3kpo",
        "outputId": "b7eb1529-97f3-4844-ed8e-7e24d619e483"
      },
      "source": [
        "# Set up use GPU\n",
        "# physical_devices = tf.config.experimental.list_physical_devices('GPU')\n",
        "# print(\"Num GPUs available: \", len(physical_devices))\n",
        "# tf.config.experimental.set_memory_growth(physical_devices[0], True)"
      ],
      "execution_count": 6,
      "outputs": []
    },
    {
      "cell_type": "code",
      "execution_count": 7,
      "metadata": {},
      "outputs": [],
      "source": [
        "from tensorflow import keras\n",
        "from tensorflow.keras.models import Sequential\n",
        "from tensorflow.keras.layers import Dense, Activation\n",
        "from tensorflow.keras.optimizers import Adam\n",
        "from tensorflow.keras.metrics import categorical_crossentropy"
      ]
    },
    {
      "cell_type": "code",
      "metadata": {
        "id": "AN87P80d3rMH"
      },
      "source": [
        "# get the model\n",
        "def get_model(n_inputs, n_outputs):\n",
        "\tmodel = Sequential()\n",
        "\tmodel.add(Dense(100, input_dim=n_inputs, kernel_initializer='he_uniform', activation='relu'))\n",
        "\tmodel.add(Dense(50, input_dim=n_inputs, kernel_initializer='he_uniform', activation='relu'))\n",
        "\tmodel.add(Dense(n_outputs))\n",
        "\tmodel.compile(loss='mae', optimizer='adam')\n",
        "\treturn model"
      ],
      "execution_count": 8,
      "outputs": []
    },
    {
      "cell_type": "code",
      "metadata": {
        "id": "Yr4UPEli35Mz"
      },
      "source": [
        "n_inputs, n_outputs = features.shape[1], outputs.shape[1]"
      ],
      "execution_count": 9,
      "outputs": []
    },
    {
      "cell_type": "code",
      "metadata": {
        "id": "iyAKrxvm43La"
      },
      "source": [
        "model = get_model(n_inputs, n_outputs)"
      ],
      "execution_count": 10,
      "outputs": []
    },
    {
      "cell_type": "code",
      "metadata": {
        "id": "tk14QRAs4-zQ"
      },
      "source": [
        "from sklearn.model_selection import train_test_split\n",
        "X_train, X_test, y_train, y_test = train_test_split(features, outputs, test_size=0.33, random_state=42)"
      ],
      "execution_count": 11,
      "outputs": []
    },
    {
      "cell_type": "code",
      "metadata": {
        "colab": {
          "base_uri": "https://localhost:8080/"
        },
        "id": "TbkAW5825PMv",
        "outputId": "e154f5c4-34ae-46c0-d615-067bb494a61a"
      },
      "source": [
        "model.fit(X_train, y_train, verbose=1, epochs=2)\n",
        "mae = model.evaluate(X_test, y_test, verbose=1)"
      ],
      "execution_count": 12,
      "outputs": [
        {
          "output_type": "stream",
          "name": "stdout",
          "text": [
            "Epoch 1/2\n",
            "184/184 [==============================] - 1s 3ms/step - loss: 0.4954\n",
            "Epoch 2/2\n",
            "184/184 [==============================] - 1s 3ms/step - loss: 0.1914\n",
            "91/91 [==============================] - 0s 2ms/step - loss: 0.1953\n"
          ]
        }
      ]
    },
    {
      "cell_type": "code",
      "metadata": {
        "id": "o_cGuksS5lwq"
      },
      "source": [
        "tf.config.list_physical_devices('GPU')"
      ],
      "execution_count": 13,
      "outputs": [
        {
          "output_type": "execute_result",
          "data": {
            "text/plain": [
              "[PhysicalDevice(name='/physical_device:GPU:0', device_type='GPU')]"
            ]
          },
          "metadata": {},
          "execution_count": 13
        }
      ]
    },
    {
      "cell_type": "code",
      "metadata": {
        "id": "EtXIWyjs6Ah5"
      },
      "source": [
        "model.summary()"
      ],
      "execution_count": 14,
      "outputs": [
        {
          "output_type": "stream",
          "name": "stdout",
          "text": [
            "Model: \"sequential\"\n_________________________________________________________________\nLayer (type)                 Output Shape              Param #   \n=================================================================\ndense (Dense)                (None, 100)               106900    \n_________________________________________________________________\ndense_1 (Dense)              (None, 50)                5050      \n_________________________________________________________________\ndense_2 (Dense)              (None, 10)                510       \n=================================================================\nTotal params: 112,460\nTrainable params: 112,460\nNon-trainable params: 0\n_________________________________________________________________\n"
          ]
        }
      ]
    },
    {
      "cell_type": "code",
      "execution_count": 15,
      "metadata": {},
      "outputs": [
        {
          "output_type": "execute_result",
          "data": {
            "text/plain": [
              "array([[1.1868082, 1.075088 , 0.9876964, 0.8094249, 0.623414 , 1.5024917,\n",
              "        1.3105333, 1.2264646, 1.0622538, 0.9846176]], dtype=float32)"
            ]
          },
          "metadata": {},
          "execution_count": 15
        }
      ],
      "source": [
        "example = create_example(['EliGE', 'Stewie2K', 'Grim', 'FalleN', 'NAF'], ['device', 'Xyp9x', 'Magisk', 'dupreeh', 'gla1ve'], players_list)\n",
        "model.predict(np.asarray([example]))"
      ]
    },
    {
      "cell_type": "code",
      "execution_count": 16,
      "metadata": {},
      "outputs": [],
      "source": [
        "def print_prediction(example, players_list, model):\n",
        "    player_indices = [i for i, x in enumerate(example) if x == 1]\n",
        "    example_formatted = np.asarray([example])\n",
        "    pred = model.predict(example_formatted)\n",
        "    print(\"Predicted rating vector:\", pred[0])\n",
        "\n",
        "    print(\"Team 1:\")\n",
        "    for player in player_indices[0:5]:\n",
        "        print(players_list[player]+', ', end='')\n",
        "    print(\"\\nRating spread:\")\n",
        "    for i in range(0, 5):\n",
        "        print(round(pred[0][i], 2))\n",
        "    print(\"Team 2:\")\n",
        "    for player in player_indices[5:10]:\n",
        "        print(players_list[player-len(players_list)]+', ', end='')\n",
        "    print(\"\\nRating spread:\")\n",
        "    for i in range(5, 10):\n",
        "        print(round(pred[0][i], 2))\n",
        "\n"
      ]
    },
    {
      "cell_type": "code",
      "execution_count": 17,
      "metadata": {},
      "outputs": [
        {
          "output_type": "stream",
          "name": "stdout",
          "text": [
            "Predicted rating vector: [1.1868082 1.075088  0.9876964 0.8094249 0.623414  1.5024917 1.3105333\n 1.2264646 1.0622538 0.9846176]\nTeam 1:\nEliGE, NAF, Stewie2K, FalleN, Grim, \nRating spread:\n1.19\n1.08\n0.99\n0.81\n0.62\nTeam 2:\ndevice, dupreeh, Xyp9x, gla1ve, Magisk, \nRating spread:\n1.5\n1.31\n1.23\n1.06\n0.98\n"
          ]
        }
      ],
      "source": [
        "# This model unfortunately isn't able to predict rating by player, just the spread of rating for the team.\n",
        "print_prediction(example, players_list, model)"
      ]
    },
    {
      "source": [
        "Compare these results to a couple real matches played between these two teams on March 26th that the model hasn't seen:\n",
        "\n",
        "https://www.hltv.org/stats/matches/mapstatsid/117239/liquid-vs-astralis?rankingFilter=Top10\n",
        "\n",
        "https://www.hltv.org/stats/matches/mapstatsid/117231/astralis-vs-liquid?rankingFilter=Top10"
      ],
      "cell_type": "markdown",
      "metadata": {}
    },
    {
      "source": [
        "Here's a hypothetical game that could never happen: 2016 Astralis vs current Astralis. Current Astralis is the most dominant CSGO roster of all time, so we would expect to see higher ratings accross the board for them, which we do. (They are team 2 here)."
      ],
      "cell_type": "markdown",
      "metadata": {}
    },
    {
      "cell_type": "code",
      "execution_count": 20,
      "metadata": {},
      "outputs": [
        {
          "output_type": "stream",
          "name": "stdout",
          "text": [
            "Predicted rating vector: [1.2620677  1.1140167  1.0066153  0.90441847 0.69624555 1.3945405\n 1.2482151  1.138304   1.0769234  0.87902534]\nTeam 1:\nkarrigan, device, dupreeh, Xyp9x, Kjaerbye, \nRating spread:\n1.26\n1.11\n1.01\n0.9\n0.7\nTeam 2:\ndevice, dupreeh, Xyp9x, gla1ve, Magisk, \nRating spread:\n1.39\n1.25\n1.14\n1.08\n0.88\n"
          ]
        }
      ],
      "source": [
        "example2 = create_example(['device', 'Xyp9x', 'Kjaerbye', 'dupreeh', 'karrigan'], ['device', 'Xyp9x', 'Magisk', 'dupreeh', 'gla1ve'], players_list)\n",
        "print_prediction(example2, players_list, model)"
      ]
    }
  ]
}